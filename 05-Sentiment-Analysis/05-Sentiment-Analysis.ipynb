{
  "cells": [
    {
      "cell_type": "markdown",
      "metadata": {
        "colab_type": "text",
        "id": "view-in-github"
      },
      "source": [
        "<a href=\"https://colab.research.google.com/github/myomyint-maung/nlp-assignments/blob/main/05-Sentiment-Analysis/05-Sentiment-Analysis.ipynb\" target=\"_parent\"><img src=\"https://colab.research.google.com/assets/colab-badge.svg\" alt=\"Open In Colab\"/></a>"
      ]
    },
    {
      "cell_type": "markdown",
      "metadata": {
        "id": "wg6EIYVIk5CR"
      },
      "source": [
        "## 08 Feb - Sentiment Analysis"
      ]
    },
    {
      "cell_type": "code",
      "execution_count": 1,
      "metadata": {
        "colab": {
          "base_uri": "https://localhost:8080/"
        },
        "id": "MOFVNFmpF6N1",
        "outputId": "cfb4af60-0126-4714-c390-75f0fcf55110"
      },
      "outputs": [
        {
          "name": "stdout",
          "output_type": "stream",
          "text": [
            "cuda\n"
          ]
        }
      ],
      "source": [
        "# Import necessary libraries\n",
        "import torch, torchtext\n",
        "from torch import nn\n",
        "import time\n",
        "\n",
        "# Choose computing device\n",
        "device = torch.device('cuda' if torch.cuda.is_available() else 'cpu')\n",
        "print(device)\n",
        "\n",
        "# Set SEED for reproducibility\n",
        "SEED = 1234\n",
        "torch.manual_seed(SEED)\n",
        "torch.backends.cudnn.deterministic = True"
      ]
    },
    {
      "cell_type": "markdown",
      "metadata": {
        "id": "Nl2U86yqLgNf"
      },
      "source": [
        "### 1. ETL"
      ]
    },
    {
      "cell_type": "code",
      "execution_count": 2,
      "metadata": {
        "id": "hBMLNy7UFNWo"
      },
      "outputs": [],
      "source": [
        "# Load the Stanford Sentiment Treebank dataset\n",
        "import pytreebank\n",
        "sst = pytreebank.load_sst()"
      ]
    },
    {
      "cell_type": "code",
      "execution_count": 3,
      "metadata": {
        "colab": {
          "base_uri": "https://localhost:8080/"
        },
        "id": "EPIgusSUOtq6",
        "outputId": "4960035c-66ab-4ec0-fabf-d6aed051322b"
      },
      "outputs": [
        {
          "data": {
            "text/plain": [
              "(8544, 1101, 2210)"
            ]
          },
          "execution_count": 3,
          "metadata": {},
          "output_type": "execute_result"
        }
      ],
      "source": [
        "# Extract the training, validation and test sets\n",
        "train  = sst['train']\n",
        "val    = sst['dev']\n",
        "test   = sst['test']\n",
        "\n",
        "len(train), len(val), len(test)"
      ]
    },
    {
      "cell_type": "markdown",
      "metadata": {
        "id": "KladKjbdNEuj"
      },
      "source": [
        "### 2. EDA"
      ]
    },
    {
      "cell_type": "code",
      "execution_count": 4,
      "metadata": {
        "colab": {
          "base_uri": "https://localhost:8080/"
        },
        "id": "eCYKmm1KcHnP",
        "outputId": "00081fa8-aae8-4bd0-f2f9-a8efba06d358"
      },
      "outputs": [
        {
          "name": "stdout",
          "output_type": "stream",
          "text": [
            "3 The Rock is destined to be the 21st Century 's new `` Conan '' and that he 's going to make a splash even greater than Arnold Schwarzenegger , Jean-Claud Van Damme or Steven Segal .\n"
          ]
        }
      ],
      "source": [
        "# Check a data sample\n",
        "for sentiment, text in train[0].to_labeled_lines():\n",
        "    print(sentiment, text)\n",
        "    break"
      ]
    },
    {
      "cell_type": "code",
      "execution_count": 5,
      "metadata": {
        "colab": {
          "base_uri": "https://localhost:8080/"
        },
        "id": "WmrCui4ZXPcL",
        "outputId": "fc9f9f17-7231-48ac-fd55-7b3df82cbd5f"
      },
      "outputs": [
        {
          "data": {
            "text/plain": [
              "(318582, 41447, 82600)"
            ]
          },
          "execution_count": 5,
          "metadata": {},
          "output_type": "execute_result"
        }
      ],
      "source": [
        "# Extract the training, validation and test data\n",
        "datasets    = [train, val, test]\n",
        "train_data  = []\n",
        "val_data    = []\n",
        "test_data   = []\n",
        "data        = [train_data, val_data, test_data]\n",
        "\n",
        "for i in range(len(data)):\n",
        "  dataset = datasets[i]\n",
        "  for example in dataset:\n",
        "    for sentiment, text in example.to_labeled_lines():\n",
        "      data[i].append((sentiment, text))\n",
        "\n",
        "len(train_data), len(val_data), len(test_data)"
      ]
    },
    {
      "cell_type": "code",
      "execution_count": 6,
      "metadata": {
        "id": "60WgAubFMBT7"
      },
      "outputs": [],
      "source": [
        "# Convert the datasets into dataframes\n",
        "import pandas as pd\n",
        "\n",
        "train_df  = pd.DataFrame(train_data, columns=[\"Sentiment\", \"Text\"])\n",
        "val_df    = pd.DataFrame(val_data, columns=[\"Sentiment\", \"Text\"])\n",
        "test_df   = pd.DataFrame(test_data, columns=[\"Sentiment\", \"Text\"])"
      ]
    },
    {
      "cell_type": "code",
      "execution_count": 7,
      "metadata": {
        "colab": {
          "base_uri": "https://localhost:8080/"
        },
        "id": "2tqf28wncOwu",
        "outputId": "ca9b597a-7987-4698-b6f6-d91edf6be96a"
      },
      "outputs": [
        {
          "name": "stdout",
          "output_type": "stream",
          "text": [
            "   Sentiment                                               Text\n",
            "0          3  The Rock is destined to be the 21st Century 's...\n",
            "1          2                                           The Rock\n",
            "2          2                                                The\n",
            "3          2                                               Rock\n",
            "4          4  is destined to be the 21st Century 's new `` C...\n",
            "   Sentiment                                               Text\n",
            "0          3  It 's a lovely film with lovely performances b...\n",
            "1          2                                                 It\n",
            "2          4  's a lovely film with lovely performances by B...\n",
            "3          4  's a lovely film with lovely performances by B...\n",
            "4          2                                                 's\n",
            "   Sentiment                            Text\n",
            "0          2  Effective but too-tepid biopic\n",
            "1          3                   Effective but\n",
            "2          3                       Effective\n",
            "3          2                             but\n",
            "4          1                too-tepid biopic\n"
          ]
        }
      ],
      "source": [
        "# Check the dataframes\n",
        "print(train_df.head())\n",
        "print(val_df.head())\n",
        "print(test_df.head())"
      ]
    },
    {
      "cell_type": "code",
      "execution_count": 8,
      "metadata": {
        "colab": {
          "base_uri": "https://localhost:8080/"
        },
        "id": "UnwZ8cYjN7va",
        "outputId": "f25d9ed3-ef03-4bac-e0a4-4f941387c1b8"
      },
      "outputs": [
        {
          "name": "stdout",
          "output_type": "stream",
          "text": [
            "2    219788\n",
            "3     44194\n",
            "1     34362\n",
            "4     11993\n",
            "0      8245\n",
            "Name: Sentiment, dtype: int64\n",
            "2    28305\n",
            "3     5781\n",
            "1     4613\n",
            "4     1678\n",
            "0     1070\n",
            "Name: Sentiment, dtype: int64\n",
            "2    56548\n",
            "3    10998\n",
            "1     9255\n",
            "4     3791\n",
            "0     2008\n",
            "Name: Sentiment, dtype: int64\n"
          ]
        }
      ],
      "source": [
        "# Check the class labels in the dataframes\n",
        "print(train_df.Sentiment.value_counts())\n",
        "print(val_df.Sentiment.value_counts())\n",
        "print(test_df.Sentiment.value_counts())"
      ]
    },
    {
      "cell_type": "markdown",
      "metadata": {
        "id": "1ua7rJypu8bR"
      },
      "source": [
        "**According to the SST paper, the meaning of the class labels are as follows:**\n",
        "- **'0' is 'very negative';**\n",
        "- **'1' is 'negative';**\n",
        "- **'2' is 'neutral';**\n",
        "- **'3' is 'positive; and**\n",
        "- **'4' is 'very positive'.**"
      ]
    },
    {
      "cell_type": "markdown",
      "metadata": {
        "id": "gU2pG4DJQ-Nj"
      },
      "source": [
        "### 3. Preprocessing"
      ]
    },
    {
      "cell_type": "markdown",
      "metadata": {
        "id": "8eyU-wyPRRMG"
      },
      "source": [
        "#### 3.1. Tokenization"
      ]
    },
    {
      "cell_type": "code",
      "execution_count": 9,
      "metadata": {
        "id": "iT3PUyx3Qyy5"
      },
      "outputs": [],
      "source": [
        "# Create a tokenizer\n",
        "from torchtext.data.utils import get_tokenizer\n",
        "\n",
        "tokenizer = get_tokenizer('spacy', language='en_core_web_sm')"
      ]
    },
    {
      "cell_type": "markdown",
      "metadata": {
        "id": "sudE8LGmS-4S"
      },
      "source": [
        "#### 3.2. Numericalization"
      ]
    },
    {
      "cell_type": "code",
      "execution_count": 10,
      "metadata": {
        "colab": {
          "base_uri": "https://localhost:8080/"
        },
        "id": "r1gV8jvYTxwh",
        "outputId": "7a827e01-5b3a-4f6a-f8f6-2c5becd0fef7"
      },
      "outputs": [
        {
          "data": {
            "text/plain": [
              "[0, 1, 2, 3]"
            ]
          },
          "execution_count": 10,
          "metadata": {},
          "output_type": "execute_result"
        }
      ],
      "source": [
        "# Create vocab out of the training set\n",
        "from torchtext.vocab import build_vocab_from_iterator\n",
        "\n",
        "def yield_tokens(data_iter):\n",
        "    for data in data_iter:\n",
        "        for _, text in data.to_labeled_lines():\n",
        "            yield tokenizer(text)\n",
        "        \n",
        "vocab = build_vocab_from_iterator(yield_tokens(train),\n",
        "                                  specials=['<unk>','<pad>','<bos>','<eos>'])\n",
        "\n",
        "vocab(['<unk>', '<pad>', '<bos>', '<eos>'])"
      ]
    },
    {
      "cell_type": "code",
      "execution_count": 11,
      "metadata": {
        "colab": {
          "base_uri": "https://localhost:8080/"
        },
        "id": "vcFX9uTQUQcU",
        "outputId": "ccedee8f-f5ef-44b6-ed7b-453f5ff8ea9e"
      },
      "outputs": [
        {
          "data": {
            "text/plain": [
              "0"
            ]
          },
          "execution_count": 11,
          "metadata": {},
          "output_type": "execute_result"
        }
      ],
      "source": [
        "# Set <unk> as the default index of the vocab\n",
        "vocab.set_default_index(vocab['<unk>'])\n",
        "\n",
        "vocab['hahaha']"
      ]
    },
    {
      "cell_type": "code",
      "execution_count": 12,
      "metadata": {
        "colab": {
          "base_uri": "https://localhost:8080/"
        },
        "id": "VqwG37kEU7mq",
        "outputId": "3e04b235-a4d6-44b7-e438-103586a5e165"
      },
      "outputs": [
        {
          "data": {
            "text/plain": [
              "['<unk>', '<pad>', '<bos>', '<eos>']"
            ]
          },
          "execution_count": 12,
          "metadata": {},
          "output_type": "execute_result"
        }
      ],
      "source": [
        "# Create idex2word dictionary\n",
        "idx2word = vocab.get_itos()\n",
        "\n",
        "idx2word[0:4]"
      ]
    },
    {
      "cell_type": "code",
      "execution_count": 13,
      "metadata": {
        "colab": {
          "base_uri": "https://localhost:8080/"
        },
        "id": "KF7k_l_kXIOB",
        "outputId": "ab46df64-e02f-449f-c9ca-e8ed23910d59"
      },
      "outputs": [
        {
          "data": {
            "text/plain": [
              "17136"
            ]
          },
          "execution_count": 13,
          "metadata": {},
          "output_type": "execute_result"
        }
      ],
      "source": [
        "# Check the vocab size\n",
        "len(vocab)"
      ]
    },
    {
      "cell_type": "markdown",
      "metadata": {
        "id": "k7fP_vs2Ybju"
      },
      "source": [
        "### 4. Embedding"
      ]
    },
    {
      "cell_type": "code",
      "execution_count": 14,
      "metadata": {
        "colab": {
          "base_uri": "https://localhost:8080/"
        },
        "id": "BC_0cVtHY50i",
        "outputId": "24468592-9e68-4de6-aee2-283a0ad5e428"
      },
      "outputs": [
        {
          "name": "stderr",
          "output_type": "stream",
          "text": [
            ".vector_cache/wiki.simple.vec: 293MB [00:18, 15.9MB/s]                           \n",
            "  0%|          | 0/111051 [00:00<?, ?it/s]WARNING:torchtext.vocab.vectors:Skipping token b'111051' with 1-dimensional vector [b'300']; likely a header\n",
            "100%|██████████| 111051/111051 [00:11<00:00, 10026.82it/s]\n"
          ]
        }
      ],
      "source": [
        "# Load FastText embeddings\n",
        "from torchtext.vocab import FastText\n",
        "\n",
        "fast_vectors = FastText(language='simple')"
      ]
    },
    {
      "cell_type": "code",
      "execution_count": 15,
      "metadata": {
        "colab": {
          "base_uri": "https://localhost:8080/"
        },
        "id": "ZZs--mSiZmOi",
        "outputId": "29ed7f49-d1db-4825-c69f-e18590748cc7"
      },
      "outputs": [
        {
          "data": {
            "text/plain": [
              "torch.Size([17136, 300])"
            ]
          },
          "execution_count": 15,
          "metadata": {},
          "output_type": "execute_result"
        }
      ],
      "source": [
        "# Select FastText embeddings for the vocab\n",
        "fast_embedding = fast_vectors.get_vecs_by_tokens(vocab.get_itos()).to(device)\n",
        "\n",
        "fast_embedding.shape"
      ]
    },
    {
      "cell_type": "markdown",
      "metadata": {
        "id": "sqYWWAIXcn0t"
      },
      "source": [
        "### 5. Preparing Dataloader"
      ]
    },
    {
      "cell_type": "code",
      "execution_count": 16,
      "metadata": {
        "id": "Q0gx3OdYd67E"
      },
      "outputs": [],
      "source": [
        "# Create a function to collate batches\n",
        "from torch.utils.data   import DataLoader\n",
        "from torch.nn.utils.rnn import pad_sequence\n",
        "\n",
        "text_pipeline  = lambda x: vocab(tokenizer(x))\n",
        "label_pipeline = lambda x: int(x) - 1\n",
        "\n",
        "pad_idx = vocab['<pad>']\n",
        "\n",
        "def collate_batch(batch):\n",
        "    label_list, text_list, length_list = [], [], []\n",
        "    for (_label, _text) in batch:\n",
        "        label_list.append(_label)\n",
        "        processed_text = torch.tensor(text_pipeline(_text), dtype=torch.int64)\n",
        "        text_list.append(processed_text)\n",
        "        length_list.append(processed_text.size(0))\n",
        "        \n",
        "    return torch.tensor(label_list, dtype=torch.int64), \\\n",
        "        pad_sequence(text_list, padding_value=pad_idx, batch_first=True), \\\n",
        "        torch.tensor(length_list, dtype=torch.int64)"
      ]
    },
    {
      "cell_type": "code",
      "execution_count": 17,
      "metadata": {
        "id": "WHBhhzK0hVRl"
      },
      "outputs": [],
      "source": [
        "# Prepare dataloaders\n",
        "batch_size = 64\n",
        "\n",
        "train_loader = DataLoader(train_data, batch_size = batch_size,\n",
        "                          shuffle=True, collate_fn=collate_batch)\n",
        "\n",
        "val_loader   = DataLoader(val_data, batch_size = batch_size,\n",
        "                          shuffle=True, collate_fn=collate_batch)\n",
        "\n",
        "test_loader  = DataLoader(test_data, batch_size = batch_size,\n",
        "                          shuffle=True, collate_fn=collate_batch)"
      ]
    },
    {
      "cell_type": "code",
      "execution_count": 18,
      "metadata": {
        "colab": {
          "base_uri": "https://localhost:8080/"
        },
        "id": "fHKsUqnWlQRf",
        "outputId": "732877bd-40ba-4835-fc30-9db697209c22"
      },
      "outputs": [
        {
          "data": {
            "text/plain": [
              "(tensor([4, 2, 3, 2, 2, 3, 1, 4, 2, 4, 2, 0, 2, 2, 4, 3, 2, 2, 2, 2, 2, 1, 2, 2,\n",
              "         2, 2, 1, 2, 4, 2, 2, 2, 2, 4, 1, 2, 3, 2, 1, 2, 2, 2, 2, 2, 1, 2, 2, 1,\n",
              "         1, 1, 2, 2, 2, 2, 2, 2, 2, 2, 1, 0, 2, 2, 2, 2]),\n",
              " tensor([[  163,     1,     1,  ...,     1,     1,     1],\n",
              "         [   24,     1,     1,  ...,     1,     1,     1],\n",
              "         [   16,  4723,     1,  ...,     1,     1,     1],\n",
              "         ...,\n",
              "         [  346,   797,     8,  ...,     1,     1,     1],\n",
              "         [ 1344,     1,     1,  ...,     1,     1,     1],\n",
              "         [    7, 14579,   594,  ...,     1,     1,     1]]),\n",
              " tensor([ 1,  1,  2,  3,  1,  6,  1,  1,  1,  3,  1, 12,  5, 13,  5,  1,  1,  1,\n",
              "          3,  1,  1, 11,  1,  1,  2,  1,  2,  1, 18,  2,  1,  1,  2, 18,  1,  9,\n",
              "          2,  1, 15,  2,  3,  1,  1,  2,  4,  1,  1,  9, 26,  1,  1,  1,  1,  3,\n",
              "          1,  1, 14,  1,  4,  5,  3,  4,  1,  6]))"
            ]
          },
          "execution_count": 18,
          "metadata": {},
          "output_type": "execute_result"
        }
      ],
      "source": [
        "# Check a sample batch from the train_loader\n",
        "for label, text, length in train_loader:\n",
        "  break\n",
        "\n",
        "label, text, length"
      ]
    },
    {
      "cell_type": "code",
      "execution_count": 19,
      "metadata": {
        "colab": {
          "base_uri": "https://localhost:8080/"
        },
        "id": "UYf-NpizljGz",
        "outputId": "c9e3ec1c-436a-43c2-fe77-66c1cf865d61"
      },
      "outputs": [
        {
          "data": {
            "text/plain": [
              "(torch.Size([64]), torch.Size([64, 26]), torch.Size([64]))"
            ]
          },
          "execution_count": 19,
          "metadata": {},
          "output_type": "execute_result"
        }
      ],
      "source": [
        "label.shape, text.shape, length.shape"
      ]
    },
    {
      "cell_type": "code",
      "execution_count": 20,
      "metadata": {
        "colab": {
          "base_uri": "https://localhost:8080/"
        },
        "id": "bqdkCVLt8CDj",
        "outputId": "c1ed1393-7f9f-4f7a-b5c2-ebd04d6201ec"
      },
      "outputs": [
        {
          "data": {
            "text/plain": [
              "(4978, 648, 1291)"
            ]
          },
          "execution_count": 20,
          "metadata": {},
          "output_type": "execute_result"
        }
      ],
      "source": [
        "# Define the lengths of data loaders\n",
        "train_loader_length = len(list(iter(train_loader)))\n",
        "val_loader_length   = len(list(iter(val_loader)))\n",
        "test_loader_length  = len(list(iter(test_loader)))\n",
        "\n",
        "train_loader_length, val_loader_length, test_loader_length"
      ]
    },
    {
      "cell_type": "markdown",
      "metadata": {
        "id": "1UpDB8mJnfmN"
      },
      "source": [
        "### 6. Modeling"
      ]
    },
    {
      "cell_type": "code",
      "execution_count": 21,
      "metadata": {
        "id": "ukYLTp61mz7K"
      },
      "outputs": [],
      "source": [
        "# Create the LSTM model\n",
        "import torch.nn as nn\n",
        "\n",
        "class LSTM(nn.Module):\n",
        "    def __init__(self, input_dim, emb_dim, hid_dim, output_dim, num_layers, bidirectional, dropout):\n",
        "        super().__init__()\n",
        "        #put padding_idx so asking the embedding layer to ignore padding\n",
        "        self.embedding = nn.Embedding(input_dim, emb_dim, padding_idx=pad_idx)\n",
        "        self.lstm = nn.LSTM(emb_dim, \n",
        "                           hid_dim, \n",
        "                           num_layers=num_layers, \n",
        "                           bidirectional=bidirectional, \n",
        "                           dropout=dropout,\n",
        "                           batch_first=True)\n",
        "        self.fc = nn.Linear(hid_dim * 2, output_dim)\n",
        "        \n",
        "    def forward(self, text, text_lengths):\n",
        "        #text = [batch size, seq len]\n",
        "        embedded = self.embedding(text)\n",
        "        \n",
        "        #++ pack sequence ++\n",
        "        packed_embedded = nn.utils.rnn.pack_padded_sequence(embedded, text_lengths.to('cpu'), enforce_sorted=False, batch_first=True)\n",
        "        \n",
        "        #embedded = [batch size, seq len, embed dim]\n",
        "        packed_output, (hn, cn) = self.lstm(packed_embedded)  #if no h0, all zeroes\n",
        "        \n",
        "        #++ unpack in case we need to use it ++\n",
        "        output, output_lengths = nn.utils.rnn.pad_packed_sequence(packed_output, batch_first=True)\n",
        "        \n",
        "        #output = [batch size, seq len, hidden dim * num directions]\n",
        "        #output over padding tokens are zero tensors\n",
        "        \n",
        "        #hidden = [num layers * num directions, batch size, hid dim]\n",
        "        #cell = [num layers * num directions, batch size, hid dim]\n",
        "        \n",
        "        #concat the final forward (hidden[-2,:,:]) and backward (hidden[-1,:,:]) hidden layers\n",
        "        hn = torch.cat((hn[-2,:,:], hn[-1,:,:]), dim = 1)\n",
        "        #hn = [batch size, hidden dim * num directions]\n",
        "        \n",
        "        return self.fc(hn)"
      ]
    },
    {
      "cell_type": "markdown",
      "metadata": {
        "id": "07qjuyyElNf3"
      },
      "source": [
        "### 7. Training"
      ]
    },
    {
      "cell_type": "code",
      "execution_count": 22,
      "metadata": {
        "id": "KLJ_HN5MlP9R"
      },
      "outputs": [],
      "source": [
        "#explicitly initialize weights for better learning\n",
        "def initialize_weights(m):\n",
        "    if isinstance(m, nn.Linear):\n",
        "        nn.init.xavier_normal_(m.weight)\n",
        "        nn.init.zeros_(m.bias)\n",
        "    elif isinstance(m, nn.LSTM):\n",
        "        for name, param in m.named_parameters():\n",
        "            if 'bias' in name:\n",
        "                nn.init.zeros_(param)\n",
        "            elif 'weight' in name:\n",
        "                nn.init.orthogonal_(param)"
      ]
    },
    {
      "cell_type": "code",
      "execution_count": 23,
      "metadata": {
        "id": "Kpbt11fOl66t"
      },
      "outputs": [],
      "source": [
        "# Set the parameters for the LSTM model\n",
        "input_dim  = len(vocab)\n",
        "hid_dim    = 256\n",
        "emb_dim    = 300\n",
        "output_dim = 5\n",
        "\n",
        "#for biLSTM\n",
        "num_layers = 2\n",
        "bidirectional = True\n",
        "dropout = 0.5\n",
        "\n",
        "model = LSTM(input_dim, emb_dim, hid_dim, output_dim, num_layers, bidirectional, dropout).to(device)\n",
        "model.apply(initialize_weights)\n",
        "model.embedding.weight.data = fast_embedding #**<------applied the fast text embedding as the initial weights"
      ]
    },
    {
      "cell_type": "code",
      "execution_count": 24,
      "metadata": {
        "colab": {
          "base_uri": "https://localhost:8080/"
        },
        "id": "Dtn6ak9fzysR",
        "outputId": "f4378d22-1714-47f0-a2ce-ce97a5a97f3d"
      },
      "outputs": [
        {
          "name": "stdout",
          "output_type": "stream",
          "text": [
            "5140800\n",
            "307200\n",
            "262144\n",
            "  1024\n",
            "  1024\n",
            "307200\n",
            "262144\n",
            "  1024\n",
            "  1024\n",
            "524288\n",
            "262144\n",
            "  1024\n",
            "  1024\n",
            "524288\n",
            "262144\n",
            "  1024\n",
            "  1024\n",
            "  2560\n",
            "     5\n",
            "______\n",
            "7863109\n"
          ]
        }
      ],
      "source": [
        "# Print the model's parameters\n",
        "def count_parameters(model):\n",
        "    params = [p.numel() for p in model.parameters() if p.requires_grad]\n",
        "    for item in params:\n",
        "        print(f'{item:>6}')\n",
        "    print(f'______\\n{sum(params):>6}')\n",
        "    \n",
        "count_parameters(model)"
      ]
    },
    {
      "cell_type": "code",
      "execution_count": 25,
      "metadata": {
        "id": "DnKReaX-m1qf"
      },
      "outputs": [],
      "source": [
        "# Set the hyperparameters for training\n",
        "import torch.optim as optim\n",
        "\n",
        "lr=1e-3\n",
        "optimizer = optim.Adam(model.parameters(), lr=lr)\n",
        "criterion = nn.CrossEntropyLoss()"
      ]
    },
    {
      "cell_type": "code",
      "execution_count": 26,
      "metadata": {
        "id": "zdrxQVWbnS2M"
      },
      "outputs": [],
      "source": [
        "# Create a function to calculate prediction accuracy\n",
        "def accuracy(preds, y):\n",
        "    \n",
        "    predicted = torch.max(preds.data, 1)[1]\n",
        "    batch_corr = (predicted == y).sum()\n",
        "    acc = batch_corr / len(y)\n",
        "    \n",
        "    return acc"
      ]
    },
    {
      "cell_type": "code",
      "execution_count": 27,
      "metadata": {
        "id": "rTcFpM3SnyfP"
      },
      "outputs": [],
      "source": [
        "# Create a function to train the model\n",
        "def train(model, loader, optimizer, criterion, loader_length):\n",
        "    epoch_loss = 0\n",
        "    epoch_acc = 0\n",
        "    model.train() #useful for batchnorm and dropout\n",
        "    \n",
        "    for i, (label, text, text_length) in enumerate(loader): \n",
        "        label = label.to(device) #(batch_size, )\n",
        "        text = text.to(device) #(batch_size, seq len)\n",
        "                \n",
        "        #predict\n",
        "        predictions = model(text, text_length).squeeze(1) #output by the fc is (batch_size, 1), thus need to remove this 1\n",
        "        \n",
        "        #calculate loss\n",
        "        loss = criterion(predictions, label)\n",
        "        acc  = accuracy(predictions, label)\n",
        "        \n",
        "        #backprop\n",
        "        optimizer.zero_grad()\n",
        "        loss.backward()\n",
        "        optimizer.step()\n",
        "        \n",
        "        epoch_loss += loss.item()\n",
        "        epoch_acc += acc.item()\n",
        "                        \n",
        "    return epoch_loss / loader_length, epoch_acc / loader_length"
      ]
    },
    {
      "cell_type": "code",
      "execution_count": 28,
      "metadata": {
        "id": "MUFiJ9ahoYvZ"
      },
      "outputs": [],
      "source": [
        "# Create a function to evaluate the model\n",
        "def evaluate(model, loader, criterion, loader_length):\n",
        "    epoch_loss = 0\n",
        "    epoch_acc = 0\n",
        "    model.eval()\n",
        "    \n",
        "    with torch.no_grad():\n",
        "        for i, (label, text, text_length) in enumerate(loader): \n",
        "            label = label.to(device) #(batch_size, )\n",
        "            text  = text.to(device)  #(seq len, batch_size)\n",
        "\n",
        "            predictions = model(text, text_length).squeeze(1) \n",
        "            \n",
        "            loss = criterion(predictions, label)\n",
        "            acc  = accuracy(predictions, label)\n",
        "\n",
        "            epoch_loss += loss.item()\n",
        "            epoch_acc += acc.item()\n",
        "        \n",
        "    return epoch_loss / loader_length, epoch_acc / loader_length"
      ]
    },
    {
      "cell_type": "code",
      "execution_count": 29,
      "metadata": {
        "id": "vlViLxowp6TP"
      },
      "outputs": [],
      "source": [
        "# Create a function to calculate training time\n",
        "def epoch_time(start_time, end_time):\n",
        "    elapsed_time = end_time - start_time\n",
        "    elapsed_mins = int(elapsed_time / 60)\n",
        "    elapsed_secs = int(elapsed_time - (elapsed_mins * 60))\n",
        "    return elapsed_mins, elapsed_secs"
      ]
    },
    {
      "cell_type": "code",
      "execution_count": 30,
      "metadata": {
        "id": "Jm65XiAKhnQQ"
      },
      "outputs": [],
      "source": [
        "# Create the folder to save models\n",
        "import os\n",
        "from os import path\n",
        "\n",
        "if path.exists('./models') == False:\n",
        "  os.mkdir('./models')"
      ]
    },
    {
      "cell_type": "code",
      "execution_count": 31,
      "metadata": {
        "colab": {
          "base_uri": "https://localhost:8080/"
        },
        "id": "KhHAy6xFqGCb",
        "outputId": "ada6748c-024b-44d8-fdda-1aff978c11c1"
      },
      "outputs": [
        {
          "name": "stdout",
          "output_type": "stream",
          "text": [
            "Epoch: 01 | Time: 1m 11s\n",
            "\t Train Loss: 0.484 | Train Acc: 80.51%\n",
            "\t Val. Loss: 0.452 |  Val. Acc: 81.50%\n",
            "Epoch: 02 | Time: 1m 10s\n",
            "\t Train Loss: 0.354 | Train Acc: 85.28%\n",
            "\t Val. Loss: 0.453 |  Val. Acc: 81.95%\n",
            "Epoch: 03 | Time: 1m 7s\n",
            "\t Train Loss: 0.313 | Train Acc: 86.89%\n",
            "\t Val. Loss: 0.480 |  Val. Acc: 80.26%\n",
            "Epoch: 04 | Time: 1m 7s\n",
            "\t Train Loss: 0.283 | Train Acc: 88.11%\n",
            "\t Val. Loss: 0.505 |  Val. Acc: 80.04%\n",
            "Epoch: 05 | Time: 1m 6s\n",
            "\t Train Loss: 0.256 | Train Acc: 89.19%\n",
            "\t Val. Loss: 0.525 |  Val. Acc: 79.26%\n",
            "Epoch: 06 | Time: 1m 6s\n",
            "\t Train Loss: 0.231 | Train Acc: 90.20%\n",
            "\t Val. Loss: 0.557 |  Val. Acc: 78.84%\n",
            "Epoch: 07 | Time: 1m 7s\n",
            "\t Train Loss: 0.206 | Train Acc: 91.26%\n",
            "\t Val. Loss: 0.610 |  Val. Acc: 78.75%\n",
            "Epoch: 08 | Time: 1m 6s\n",
            "\t Train Loss: 0.183 | Train Acc: 92.31%\n",
            "\t Val. Loss: 0.675 |  Val. Acc: 78.12%\n",
            "Epoch: 09 | Time: 1m 7s\n",
            "\t Train Loss: 0.160 | Train Acc: 93.27%\n",
            "\t Val. Loss: 0.701 |  Val. Acc: 77.20%\n",
            "Epoch: 10 | Time: 1m 9s\n",
            "\t Train Loss: 0.142 | Train Acc: 94.03%\n",
            "\t Val. Loss: 0.766 |  Val. Acc: 77.44%\n"
          ]
        }
      ],
      "source": [
        "# Train the model\n",
        "best_val_loss = float('inf')\n",
        "num_epochs      = 10\n",
        "\n",
        "save_path = f'models/{model.__class__.__name__}_SST.pt'\n",
        "\n",
        "train_losses = []\n",
        "train_accs = []\n",
        "val_losses = []\n",
        "val_accs = []\n",
        "\n",
        "for epoch in range(num_epochs):\n",
        "    \n",
        "    start_time = time.time()\n",
        "\n",
        "    train_loss, train_acc = train(model, train_loader, optimizer, criterion, train_loader_length)\n",
        "    val_loss, val_acc = evaluate(model, val_loader, criterion, val_loader_length)\n",
        "    \n",
        "    #for plotting\n",
        "    train_losses.append(train_loss)\n",
        "    train_accs.append(train_acc)\n",
        "    val_losses.append(val_loss)\n",
        "    val_accs.append(val_acc)\n",
        "    \n",
        "    end_time = time.time()\n",
        "    \n",
        "    epoch_mins, epoch_secs = epoch_time(start_time, end_time)\n",
        "    \n",
        "    if val_loss < best_val_loss:\n",
        "        best_val_loss = val_loss\n",
        "        torch.save(model.state_dict(), save_path)\n",
        "    \n",
        "    print(f'Epoch: {epoch+1:02} | Time: {epoch_mins}m {epoch_secs}s')\n",
        "    print(f'\\t Train Loss: {train_loss:.3f} | Train Acc: {train_acc*100:.2f}%')   \n",
        "    print(f'\\t Val. Loss: {val_loss:.3f} |  Val. Acc: {val_acc*100:.2f}%')"
      ]
    },
    {
      "cell_type": "markdown",
      "metadata": {
        "id": "YMSgO9zUr3Gn"
      },
      "source": [
        "### 8. Plotting"
      ]
    },
    {
      "cell_type": "code",
      "execution_count": 32,
      "metadata": {
        "colab": {
          "base_uri": "https://localhost:8080/",
          "height": 405
        },
        "id": "yGH3AgYLrUjg",
        "outputId": "21d9a3b5-6419-45c3-c109-5073ef500d9f"
      },
      "outputs": [
        {
          "data": {
            "text/plain": [
              "Text(0, 0.5, 'loss')"
            ]
          },
          "execution_count": 32,
          "metadata": {},
          "output_type": "execute_result"
        },
        {
          "data": {
            "image/png": "[encoded data removed]",
            "text/plain": [
              "<Figure size 720x432 with 1 Axes>"
            ]
          },
          "metadata": {
            "needs_background": "light"
          },
          "output_type": "display_data"
        }
      ],
      "source": [
        "# Plot the losses\n",
        "import matplotlib.pyplot as plt\n",
        "fig = plt.figure(figsize=(10, 6))\n",
        "ax = fig.add_subplot(1, 1, 1)\n",
        "ax.plot(train_losses, label = 'train loss')\n",
        "ax.plot(val_losses, label = 'val loss')\n",
        "plt.legend()\n",
        "ax.set_xlabel('updates')\n",
        "ax.set_ylabel('loss')"
      ]
    },
    {
      "cell_type": "code",
      "execution_count": 33,
      "metadata": {
        "colab": {
          "base_uri": "https://localhost:8080/",
          "height": 405
        },
        "id": "ipFpc31frcsv",
        "outputId": "575a3854-92aa-4682-aa2a-15837f2c5fb7"
      },
      "outputs": [
        {
          "data": {
            "text/plain": [
              "Text(0, 0.5, 'acc')"
            ]
          },
          "execution_count": 33,
          "metadata": {},
          "output_type": "execute_result"
        },
        {
          "data": {
            "image/png": "[encoded data removed]",
            "text/plain": [
              "<Figure size 720x432 with 1 Axes>"
            ]
          },
          "metadata": {
            "needs_background": "light"
          },
          "output_type": "display_data"
        }
      ],
      "source": [
        "# Plot the accuracies\n",
        "fig = plt.figure(figsize=(10, 6))\n",
        "ax = fig.add_subplot(1, 1, 1)\n",
        "ax.plot(train_accs, label = 'train acc')\n",
        "ax.plot(val_accs, label = 'val acc')\n",
        "plt.legend()\n",
        "ax.set_xlabel('updates')\n",
        "ax.set_ylabel('acc')"
      ]
    },
    {
      "cell_type": "markdown",
      "metadata": {
        "id": "lnEZmYWNspHl"
      },
      "source": [
        "### 9. Testing"
      ]
    },
    {
      "cell_type": "code",
      "execution_count": 34,
      "metadata": {
        "colab": {
          "base_uri": "https://localhost:8080/"
        },
        "id": "eEZA8Onisutr",
        "outputId": "e74c18af-9865-4595-d134-c9c2bc4f589e"
      },
      "outputs": [
        {
          "name": "stdout",
          "output_type": "stream",
          "text": [
            "Test Loss: 0.457 | Test Acc: 81.65%\n"
          ]
        }
      ],
      "source": [
        "# Calculate the test accuracy\n",
        "model.load_state_dict(torch.load(save_path))\n",
        "\n",
        "test_loss, test_acc = evaluate(model, test_loader, criterion, test_loader_length)\n",
        "\n",
        "print(f'Test Loss: {test_loss:.3f} | Test Acc: {test_acc*100:.2f}%')"
      ]
    },
    {
      "cell_type": "code",
      "execution_count": 35,
      "metadata": {
        "colab": {
          "base_uri": "https://localhost:8080/"
        },
        "id": "18UAdHqRs97k",
        "outputId": "465f06ea-7dc2-4d17-fc5e-0a950ebddfb8"
      },
      "outputs": [
        {
          "data": {
            "text/plain": [
              "tensor([0], device='cuda:0')"
            ]
          },
          "execution_count": 35,
          "metadata": {},
          "output_type": "execute_result"
        }
      ],
      "source": [
        "# Test on some random text\n",
        "test_str = \"Google is now falling nonstop.  The price is really bad now.\"\n",
        "text = torch.tensor(text_pipeline(test_str)).to(device)\n",
        "text = text.reshape(1, -1)  #because batch_size is 1\n",
        "text_length = torch.tensor([text.size(1)]).to(dtype=torch.int64)\n",
        "\n",
        "def predict(text, text_length):\n",
        "    with torch.no_grad():\n",
        "        output = model(text, text_length).squeeze(1)\n",
        "        predicted = torch.max(output.data, 1)[1]\n",
        "        return predicted\n",
        "\n",
        "predict(text, text_length)"
      ]
    },
    {
      "cell_type": "code",
      "execution_count": 36,
      "metadata": {
        "colab": {
          "base_uri": "https://localhost:8080/"
        },
        "id": "8GDyOwvA1JjR",
        "outputId": "a8b13e09-43f1-41f9-f7a1-925baecc8639"
      },
      "outputs": [
        {
          "data": {
            "text/plain": [
              "tensor([1], device='cuda:0')"
            ]
          },
          "execution_count": 36,
          "metadata": {},
          "output_type": "execute_result"
        }
      ],
      "source": [
        "# Test on some negating positive sentence\n",
        "test_str = \"He is hardly intelligent.\"\n",
        "text = torch.tensor(text_pipeline(test_str)).to(device)\n",
        "text = text.reshape(1, -1)  #because batch_size is 1\n",
        "text_length = torch.tensor([text.size(1)]).to(dtype=torch.int64)\n",
        "\n",
        "predict(text, text_length)"
      ]
    },
    {
      "cell_type": "code",
      "execution_count": 37,
      "metadata": {
        "colab": {
          "base_uri": "https://localhost:8080/"
        },
        "id": "UDasS1xla9NB",
        "outputId": "5a8c8978-d4d5-4fa7-959a-361eb5321941"
      },
      "outputs": [
        {
          "data": {
            "text/plain": [
              "tensor([1], device='cuda:0')"
            ]
          },
          "execution_count": 37,
          "metadata": {},
          "output_type": "execute_result"
        }
      ],
      "source": [
        "# Test on another negating positive sentence\n",
        "test_str = \"You will be wrong to think that he is smart.\"\n",
        "text = torch.tensor(text_pipeline(test_str)).to(device)\n",
        "text = text.reshape(1, -1)  #because batch_size is 1\n",
        "text_length = torch.tensor([text.size(1)]).to(dtype=torch.int64)\n",
        "\n",
        "predict(text, text_length)"
      ]
    },
    {
      "cell_type": "code",
      "execution_count": 38,
      "metadata": {
        "colab": {
          "base_uri": "https://localhost:8080/"
        },
        "id": "KcQBXxLa1gQh",
        "outputId": "9cf7b52b-227c-47f0-e127-9d92cfceb067"
      },
      "outputs": [
        {
          "data": {
            "text/plain": [
              "tensor([2], device='cuda:0')"
            ]
          },
          "execution_count": 38,
          "metadata": {},
          "output_type": "execute_result"
        }
      ],
      "source": [
        "# Test on some negating negative sentence\n",
        "test_str = \"The reviews for the movie were not bad.\"\n",
        "text = torch.tensor(text_pipeline(test_str)).to(device)\n",
        "text = text.reshape(1, -1)  #because batch_size is 1\n",
        "text_length = torch.tensor([text.size(1)]).to(dtype=torch.int64)\n",
        "\n",
        "predict(text, text_length)"
      ]
    },
    {
      "cell_type": "code",
      "execution_count": 39,
      "metadata": {
        "colab": {
          "base_uri": "https://localhost:8080/"
        },
        "id": "hamTXKbPa9NB",
        "outputId": "4b051e62-0113-4d57-a951-dde8ca695795"
      },
      "outputs": [
        {
          "data": {
            "text/plain": [
              "tensor([1], device='cuda:0')"
            ]
          },
          "execution_count": 39,
          "metadata": {},
          "output_type": "execute_result"
        }
      ],
      "source": [
        "# Test on another negating negative sentence\n",
        "test_str = \"Theres is nothing to dislike about the party.\"\n",
        "text = torch.tensor(text_pipeline(test_str)).to(device)\n",
        "text = text.reshape(1, -1)  #because batch_size is 1\n",
        "text_length = torch.tensor([text.size(1)]).to(dtype=torch.int64)\n",
        "\n",
        "predict(text, text_length)"
      ]
    },
    {
      "cell_type": "markdown",
      "metadata": {
        "id": "brogwKSafWZM"
      },
      "source": [
        "### 10. Conclusion"
      ]
    },
    {
      "cell_type": "markdown",
      "metadata": {
        "id": "PcIVlUy6fgr8"
      },
      "source": [
        "**The model achieved 94% accuracy on the training set but only over 77% on the validation set. Hence, there was overfitting during the training. Nevertheless, the model achieved over 81% accuracy on the test set. In terms of sentiment analysis, the model could classify all the negating positive sentences correctly. However, as for negating negative sentences, it could classify only one out of two correctly.**"
      ]
    }
  ],
  "metadata": {
    "accelerator": "GPU",
    "colab": {
      "include_colab_link": true,
      "provenance": []
    },
    "gpuClass": "standard",
    "kernelspec": {
      "display_name": "My_Virtual_Environment",
      "language": "python",
      "name": "my_env"
    },
    "language_info": {
      "codemirror_mode": {
        "name": "ipython",
        "version": 3
      },
      "file_extension": ".py",
      "mimetype": "text/x-python",
      "name": "python",
      "nbconvert_exporter": "python",
      "pygments_lexer": "ipython3",
      "version": "3.10.8"
    },
    "vscode": {
      "interpreter": {
        "hash": "f7ca07084f99cae884d00a2401f5a915152405bd446c47609c53897335e04337"
      }
    }
  },
  "nbformat": 4,
  "nbformat_minor": 0
}
