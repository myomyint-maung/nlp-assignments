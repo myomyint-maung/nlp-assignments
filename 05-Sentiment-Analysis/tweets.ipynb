{
 "cells": [
  {
   "cell_type": "code",
   "execution_count": 1,
   "metadata": {},
   "outputs": [],
   "source": [
    "import snscrape.modules.twitter as sntwitter\n",
    "import pandas as pd"
   ]
  },
  {
   "cell_type": "code",
   "execution_count": 2,
   "metadata": {},
   "outputs": [],
   "source": [
    "query   = 'chatgpt'\n",
    "limit   = 100\n",
    "tweets  = []"
   ]
  },
  {
   "cell_type": "code",
   "execution_count": 3,
   "metadata": {},
   "outputs": [],
   "source": [
    "for tweet in sntwitter.TwitterSearchScraper(query=query).get_items():\n",
    "    if len(tweets) == limit:\n",
    "        break\n",
    "    else:\n",
    "        tweets.append(str(tweet.renderedContent))"
   ]
  },
  {
   "cell_type": "code",
   "execution_count": 4,
   "metadata": {},
   "outputs": [
    {
     "data": {
      "text/plain": [
       "100"
      ]
     },
     "execution_count": 4,
     "metadata": {},
     "output_type": "execute_result"
    }
   ],
   "source": [
    "len(tweets)"
   ]
  },
  {
   "cell_type": "code",
   "execution_count": 5,
   "metadata": {},
   "outputs": [
    {
     "data": {
      "text/plain": [
       "['@elonmusk @GRDecter Make Twitter Community Notes AI driven.  It will be way more powerful then ChatGPT.',\n",
       " 'Microsoft hint✅\\n\\nMicrosoft needs to shut down its implementation of ChatGPT in Bing. The system is behaving in a different way and telling users lies!!',\n",
       " '@0805tonton ご迷惑をおかけして申し訳ございません\\u3000m(_ _)m\\n\\nChatGPTマニュアルですがDM上限に引っ掛かり配布に時間がかかっております\\n\\nお急ぎなら下記を試してください。\\ntwitter.com/komame_pro_aff…\\n\\n同じように待っている人を見かけたらこの情報をお伝えいただけると嬉しいですm(_ _)m\\n\\nよろしくお願い致します',\n",
       " '@TheDustyBC @elonmusk Until the wrong hands get into the database and feed the information they want ...still centralized db regardless how perfect you want chatGPT to be',\n",
       " '@BERRI_11 PERFECTO. Ahora deberías buscar tú trabajo con los del chatGPT ese para enseñarle brevedad y concisión al robot brasas ese que han inventao 😂😂😂']"
      ]
     },
     "execution_count": 5,
     "metadata": {},
     "output_type": "execute_result"
    }
   ],
   "source": [
    "tweets[:5]"
   ]
  },
  {
   "cell_type": "code",
   "execution_count": 6,
   "metadata": {},
   "outputs": [
    {
     "data": {
      "text/html": [
       "<div>\n",
       "<style scoped>\n",
       "    .dataframe tbody tr th:only-of-type {\n",
       "        vertical-align: middle;\n",
       "    }\n",
       "\n",
       "    .dataframe tbody tr th {\n",
       "        vertical-align: top;\n",
       "    }\n",
       "\n",
       "    .dataframe thead th {\n",
       "        text-align: right;\n",
       "    }\n",
       "</style>\n",
       "<table border=\"1\" class=\"dataframe\">\n",
       "  <thead>\n",
       "    <tr style=\"text-align: right;\">\n",
       "      <th></th>\n",
       "      <th>Tweet</th>\n",
       "    </tr>\n",
       "  </thead>\n",
       "  <tbody>\n",
       "    <tr>\n",
       "      <th>0</th>\n",
       "      <td>@elonmusk @GRDecter Make Twitter Community Not...</td>\n",
       "    </tr>\n",
       "    <tr>\n",
       "      <th>1</th>\n",
       "      <td>Microsoft hint✅\\n\\nMicrosoft needs to shut dow...</td>\n",
       "    </tr>\n",
       "    <tr>\n",
       "      <th>2</th>\n",
       "      <td>@0805tonton ご迷惑をおかけして申し訳ございません　m(_ _)m\\n\\nChat...</td>\n",
       "    </tr>\n",
       "    <tr>\n",
       "      <th>3</th>\n",
       "      <td>@TheDustyBC @elonmusk Until the wrong hands ge...</td>\n",
       "    </tr>\n",
       "    <tr>\n",
       "      <th>4</th>\n",
       "      <td>@BERRI_11 PERFECTO. Ahora deberías buscar tú t...</td>\n",
       "    </tr>\n",
       "  </tbody>\n",
       "</table>\n",
       "</div>"
      ],
      "text/plain": [
       "                                               Tweet\n",
       "0  @elonmusk @GRDecter Make Twitter Community Not...\n",
       "1  Microsoft hint✅\\n\\nMicrosoft needs to shut dow...\n",
       "2  @0805tonton ご迷惑をおかけして申し訳ございません　m(_ _)m\\n\\nChat...\n",
       "3  @TheDustyBC @elonmusk Until the wrong hands ge...\n",
       "4  @BERRI_11 PERFECTO. Ahora deberías buscar tú t..."
      ]
     },
     "execution_count": 6,
     "metadata": {},
     "output_type": "execute_result"
    }
   ],
   "source": [
    "df = pd.DataFrame(tweets, columns=['Tweet'])\n",
    "\n",
    "df.head()"
   ]
  }
 ],
 "metadata": {
  "kernelspec": {
   "display_name": "my_env",
   "language": "python",
   "name": "python3"
  },
  "language_info": {
   "codemirror_mode": {
    "name": "ipython",
    "version": 3
   },
   "file_extension": ".py",
   "mimetype": "text/x-python",
   "name": "python",
   "nbconvert_exporter": "python",
   "pygments_lexer": "ipython3",
   "version": "3.10.8"
  },
  "orig_nbformat": 4,
  "vscode": {
   "interpreter": {
    "hash": "f7ca07084f99cae884d00a2401f5a915152405bd446c47609c53897335e04337"
   }
  }
 },
 "nbformat": 4,
 "nbformat_minor": 2
}
