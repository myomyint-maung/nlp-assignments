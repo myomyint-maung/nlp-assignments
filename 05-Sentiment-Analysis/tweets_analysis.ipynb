{
 "cells": [
  {
   "cell_type": "code",
   "execution_count": 1,
   "metadata": {},
   "outputs": [],
   "source": [
    "# Scrape Twitter tweets with snscrape\n",
    "import snscrape.modules.twitter as sntwitter\n",
    "\n",
    "query = \"bitcoin\"\n",
    "tweets = []\n",
    "limit = 100\n",
    "\n",
    "for tweet in sntwitter.TwitterSearchScraper(query).get_items():\n",
    "\n",
    "    if len(tweets) == limit:\n",
    "        break\n",
    "    else:\n",
    "        if tweet.lang=='en':\n",
    "            tweets.append(str(tweet.rawContent))"
   ]
  },
  {
   "cell_type": "code",
   "execution_count": 2,
   "metadata": {},
   "outputs": [
    {
     "name": "stdout",
     "output_type": "stream",
     "text": [
      "<class 'pandas.core.frame.DataFrame'>\n",
      "RangeIndex: 100 entries, 0 to 99\n",
      "Data columns (total 1 columns):\n",
      " #   Column  Non-Null Count  Dtype \n",
      "---  ------  --------------  ----- \n",
      " 0   Tweet   100 non-null    object\n",
      "dtypes: object(1)\n",
      "memory usage: 928.0+ bytes\n"
     ]
    }
   ],
   "source": [
    "# Store the tweets in a dataframe\n",
    "import pandas as pd\n",
    "\n",
    "df = pd.DataFrame(tweets, columns=['Tweet'])\n",
    "\n",
    "df.info()"
   ]
  },
  {
   "cell_type": "code",
   "execution_count": 3,
   "metadata": {},
   "outputs": [
    {
     "data": {
      "text/html": [
       "<div>\n",
       "<style scoped>\n",
       "    .dataframe tbody tr th:only-of-type {\n",
       "        vertical-align: middle;\n",
       "    }\n",
       "\n",
       "    .dataframe tbody tr th {\n",
       "        vertical-align: top;\n",
       "    }\n",
       "\n",
       "    .dataframe thead th {\n",
       "        text-align: right;\n",
       "    }\n",
       "</style>\n",
       "<table border=\"1\" class=\"dataframe\">\n",
       "  <thead>\n",
       "    <tr style=\"text-align: right;\">\n",
       "      <th></th>\n",
       "      <th>Tweet</th>\n",
       "    </tr>\n",
       "  </thead>\n",
       "  <tbody>\n",
       "    <tr>\n",
       "      <th>0</th>\n",
       "      <td>@silkytommy We shall see…\\nI’m sure you were s...</td>\n",
       "    </tr>\n",
       "    <tr>\n",
       "      <th>1</th>\n",
       "      <td>👇 5) Global Crypto trading #volume increased b...</td>\n",
       "    </tr>\n",
       "    <tr>\n",
       "      <th>2</th>\n",
       "      <td>RANDLEPERRIN found #bitcoin in a User vault at...</td>\n",
       "    </tr>\n",
       "    <tr>\n",
       "      <th>3</th>\n",
       "      <td>@RantinArkansan @phoenux2016 @Dylanwryter @Bow...</td>\n",
       "    </tr>\n",
       "    <tr>\n",
       "      <th>4</th>\n",
       "      <td>👇 4) The Global Crypto #market cap increased b...</td>\n",
       "    </tr>\n",
       "  </tbody>\n",
       "</table>\n",
       "</div>"
      ],
      "text/plain": [
       "                                               Tweet\n",
       "0  @silkytommy We shall see…\\nI’m sure you were s...\n",
       "1  👇 5) Global Crypto trading #volume increased b...\n",
       "2  RANDLEPERRIN found #bitcoin in a User vault at...\n",
       "3  @RantinArkansan @phoenux2016 @Dylanwryter @Bow...\n",
       "4  👇 4) The Global Crypto #market cap increased b..."
      ]
     },
     "execution_count": 3,
     "metadata": {},
     "output_type": "execute_result"
    }
   ],
   "source": [
    "df.head()"
   ]
  },
  {
   "cell_type": "code",
   "execution_count": 4,
   "metadata": {},
   "outputs": [],
   "source": [
    "# Set up the model environment\n",
    "import torch, torchtext, torchdata\n",
    "from torch import nn\n",
    "from torchtext.data.utils import get_tokenizer\n",
    "from torchtext.vocab import build_vocab_from_iterator\n",
    "\n",
    "device = torch.device('cuda' if torch.cuda.is_available() else 'cpu')\n",
    "\n",
    "SEED = 1234\n",
    "torch.manual_seed(SEED)\n",
    "torch.backends.cudnn.deterministic = True\n",
    "\n",
    "device = torch.device('cuda' if torch.cuda.is_available() else 'cpu')\n",
    "\n",
    "from torchtext.datasets import SST2\n",
    "train = SST2(split='train')\n",
    "\n",
    "tokenizer = get_tokenizer('spacy', language='en_core_web_sm')\n",
    "\n",
    "def yield_tokens(data_iter):\n",
    "    for text, _ in data_iter:\n",
    "        yield tokenizer(text)\n",
    "        \n",
    "vocab = build_vocab_from_iterator(yield_tokens(train),\n",
    "                                  specials=['<unk>','<pad>','<bos>','<eos>'])\n",
    "\n",
    "vocab.set_default_index(vocab['<unk>'])\n",
    "\n",
    "text_pipeline  = lambda x: vocab(tokenizer(x))\n",
    "label_pipeline = lambda x: int(x) - 1\n",
    "\n",
    "pad_idx = vocab['<pad>']\n",
    "\n",
    "class LSTM(nn.Module):\n",
    "    def __init__(self, input_dim, emb_dim, hid_dim, output_dim, num_layers, bidirectional, dropout):\n",
    "        super().__init__()\n",
    "        #put padding_idx so asking the embedding layer to ignore padding\n",
    "        self.embedding = nn.Embedding(input_dim, emb_dim, padding_idx=pad_idx)\n",
    "        self.lstm = nn.LSTM(emb_dim, \n",
    "                           hid_dim, \n",
    "                           num_layers=num_layers, \n",
    "                           bidirectional=bidirectional, \n",
    "                           dropout=dropout,\n",
    "                           batch_first=True)\n",
    "        self.fc = nn.Linear(hid_dim * 2, output_dim)\n",
    "        \n",
    "    def forward(self, text, text_lengths):\n",
    "        #text = [batch size, seq len]\n",
    "        embedded = self.embedding(text)\n",
    "        \n",
    "        #++ pack sequence ++\n",
    "        packed_embedded = nn.utils.rnn.pack_padded_sequence(embedded, text_lengths.to('cpu'), enforce_sorted=False, batch_first=True)\n",
    "        \n",
    "        #embedded = [batch size, seq len, embed dim]\n",
    "        packed_output, (hn, cn) = self.lstm(packed_embedded)  #if no h0, all zeroes\n",
    "        \n",
    "        #++ unpack in case we need to use it ++\n",
    "        output, output_lengths = nn.utils.rnn.pad_packed_sequence(packed_output, batch_first=True)\n",
    "        \n",
    "        #output = [batch size, seq len, hidden dim * num directions]\n",
    "        #output over padding tokens are zero tensors\n",
    "        \n",
    "        #hidden = [num layers * num directions, batch size, hid dim]\n",
    "        #cell = [num layers * num directions, batch size, hid dim]\n",
    "        \n",
    "        #concat the final forward (hidden[-2,:,:]) and backward (hidden[-1,:,:]) hidden layers\n",
    "        hn = torch.cat((hn[-2,:,:], hn[-1,:,:]), dim = 1)\n",
    "        #hn = [batch size, hidden dim * num directions]\n",
    "        \n",
    "        return self.fc(hn)\n",
    "\n",
    "input_dim  = len(vocab)\n",
    "hid_dim    = 256\n",
    "emb_dim    = 300\n",
    "output_dim = 2\n",
    "num_layers = 2\n",
    "bidirectional = True\n",
    "dropout = 0.5\n",
    "\n",
    "model = LSTM(input_dim, emb_dim, hid_dim, output_dim, num_layers, bidirectional, dropout).to(device)"
   ]
  },
  {
   "cell_type": "code",
   "execution_count": 5,
   "metadata": {},
   "outputs": [
    {
     "data": {
      "text/plain": [
       "<All keys matched successfully>"
      ]
     },
     "execution_count": 5,
     "metadata": {},
     "output_type": "execute_result"
    }
   ],
   "source": [
    "# Load the pretrained LSTM model\n",
    "save_path = f'models/{model.__class__.__name__}_SST2.pt'\n",
    "\n",
    "model.load_state_dict(torch.load(save_path, map_location=torch.device(device)))"
   ]
  },
  {
   "cell_type": "code",
   "execution_count": 6,
   "metadata": {},
   "outputs": [],
   "source": [
    "# Classify the sentiments of the tweets\n",
    "def predict(text, text_length):\n",
    "    with torch.no_grad():\n",
    "        output = model(text, text_length).squeeze(1)\n",
    "        predicted = torch.max(output.data, 1)[1]\n",
    "        return predicted\n",
    "\n",
    "sentiments = []\n",
    "\n",
    "for tweet in tweets:\n",
    "    tweet = torch.tensor(text_pipeline(tweet))\n",
    "    tweet = tweet.reshape(1, -1)\n",
    "    tweet_length = torch.tensor([tweet.size(1)]).to(dtype=torch.int64)\n",
    "    prediction = int(predict(tweet, tweet_length))\n",
    "    sentiments.append(prediction)"
   ]
  },
  {
   "cell_type": "code",
   "execution_count": 7,
   "metadata": {},
   "outputs": [],
   "source": [
    "# Store the sentiments in the dataframe\n",
    "df['Sentiment'] = sentiments"
   ]
  },
  {
   "cell_type": "code",
   "execution_count": 8,
   "metadata": {},
   "outputs": [
    {
     "data": {
      "text/html": [
       "<div>\n",
       "<style scoped>\n",
       "    .dataframe tbody tr th:only-of-type {\n",
       "        vertical-align: middle;\n",
       "    }\n",
       "\n",
       "    .dataframe tbody tr th {\n",
       "        vertical-align: top;\n",
       "    }\n",
       "\n",
       "    .dataframe thead th {\n",
       "        text-align: right;\n",
       "    }\n",
       "</style>\n",
       "<table border=\"1\" class=\"dataframe\">\n",
       "  <thead>\n",
       "    <tr style=\"text-align: right;\">\n",
       "      <th></th>\n",
       "      <th>Tweet</th>\n",
       "      <th>Sentiment</th>\n",
       "    </tr>\n",
       "  </thead>\n",
       "  <tbody>\n",
       "    <tr>\n",
       "      <th>0</th>\n",
       "      <td>@silkytommy We shall see…\\nI’m sure you were s...</td>\n",
       "      <td>0</td>\n",
       "    </tr>\n",
       "    <tr>\n",
       "      <th>1</th>\n",
       "      <td>👇 5) Global Crypto trading #volume increased b...</td>\n",
       "      <td>0</td>\n",
       "    </tr>\n",
       "    <tr>\n",
       "      <th>2</th>\n",
       "      <td>RANDLEPERRIN found #bitcoin in a User vault at...</td>\n",
       "      <td>0</td>\n",
       "    </tr>\n",
       "    <tr>\n",
       "      <th>3</th>\n",
       "      <td>@RantinArkansan @phoenux2016 @Dylanwryter @Bow...</td>\n",
       "      <td>0</td>\n",
       "    </tr>\n",
       "    <tr>\n",
       "      <th>4</th>\n",
       "      <td>👇 4) The Global Crypto #market cap increased b...</td>\n",
       "      <td>0</td>\n",
       "    </tr>\n",
       "  </tbody>\n",
       "</table>\n",
       "</div>"
      ],
      "text/plain": [
       "                                               Tweet  Sentiment\n",
       "0  @silkytommy We shall see…\\nI’m sure you were s...          0\n",
       "1  👇 5) Global Crypto trading #volume increased b...          0\n",
       "2  RANDLEPERRIN found #bitcoin in a User vault at...          0\n",
       "3  @RantinArkansan @phoenux2016 @Dylanwryter @Bow...          0\n",
       "4  👇 4) The Global Crypto #market cap increased b...          0"
      ]
     },
     "execution_count": 8,
     "metadata": {},
     "output_type": "execute_result"
    }
   ],
   "source": [
    "df.head()"
   ]
  },
  {
   "cell_type": "code",
   "execution_count": 9,
   "metadata": {},
   "outputs": [
    {
     "data": {
      "text/plain": [
       "0    84\n",
       "1    16\n",
       "Name: Sentiment, dtype: int64"
      ]
     },
     "execution_count": 9,
     "metadata": {},
     "output_type": "execute_result"
    }
   ],
   "source": [
    "# Count positives (1) and negatives (0)\n",
    "df.Sentiment.value_counts()"
   ]
  },
  {
   "cell_type": "code",
   "execution_count": 10,
   "metadata": {},
   "outputs": [
    {
     "data": {
      "text/plain": [
       "<BarContainer object of 2 artists>"
      ]
     },
     "execution_count": 10,
     "metadata": {},
     "output_type": "execute_result"
    },
    {
     "data": {
      "image/png": "[encoded data removed]",
      "text/plain": [
       "<Figure size 640x480 with 1 Axes>"
      ]
     },
     "metadata": {},
     "output_type": "display_data"
    }
   ],
   "source": [
    "# Plot positives and negatives\n",
    "import matplotlib.pyplot as plt\n",
    "\n",
    "negative = df[df.Sentiment == 0]\n",
    "positive = df[df.Sentiment == 1]\n",
    "\n",
    "labels = ['negative', 'positive']\n",
    "counts = [len(negative), len(positive)]\n",
    "\n",
    "plt.bar(labels, counts)"
   ]
  },
  {
   "cell_type": "code",
   "execution_count": 11,
   "metadata": {},
   "outputs": [
    {
     "data": {
      "text/html": [
       "<div>\n",
       "<style scoped>\n",
       "    .dataframe tbody tr th:only-of-type {\n",
       "        vertical-align: middle;\n",
       "    }\n",
       "\n",
       "    .dataframe tbody tr th {\n",
       "        vertical-align: top;\n",
       "    }\n",
       "\n",
       "    .dataframe thead th {\n",
       "        text-align: right;\n",
       "    }\n",
       "</style>\n",
       "<table border=\"1\" class=\"dataframe\">\n",
       "  <thead>\n",
       "    <tr style=\"text-align: right;\">\n",
       "      <th></th>\n",
       "      <th>Tweet</th>\n",
       "      <th>Sentiment</th>\n",
       "      <th>Tokens</th>\n",
       "    </tr>\n",
       "  </thead>\n",
       "  <tbody>\n",
       "    <tr>\n",
       "      <th>0</th>\n",
       "      <td>@silkytommy We shall see…\\nI’m sure you were s...</td>\n",
       "      <td>0</td>\n",
       "      <td>shall sure shock bitcoin football play spotify...</td>\n",
       "    </tr>\n",
       "    <tr>\n",
       "      <th>1</th>\n",
       "      <td>👇 5) Global Crypto trading #volume increased b...</td>\n",
       "      <td>0</td>\n",
       "      <td>👇 global crypto trading volume increase 17.8 w...</td>\n",
       "    </tr>\n",
       "    <tr>\n",
       "      <th>2</th>\n",
       "      <td>RANDLEPERRIN found #bitcoin in a User vault at...</td>\n",
       "      <td>0</td>\n",
       "      <td>randleperrin find bitcoin user vault location ...</td>\n",
       "    </tr>\n",
       "    <tr>\n",
       "      <th>3</th>\n",
       "      <td>@RantinArkansan @phoenux2016 @Dylanwryter @Bow...</td>\n",
       "      <td>0</td>\n",
       "      <td>100,000 random american citizen die mean ukrai...</td>\n",
       "    </tr>\n",
       "    <tr>\n",
       "      <th>4</th>\n",
       "      <td>👇 4) The Global Crypto #market cap increased b...</td>\n",
       "      <td>0</td>\n",
       "      <td>👇 global crypto market cap increase +10.9 wow ...</td>\n",
       "    </tr>\n",
       "  </tbody>\n",
       "</table>\n",
       "</div>"
      ],
      "text/plain": [
       "                                               Tweet  Sentiment  \\\n",
       "0  @silkytommy We shall see…\\nI’m sure you were s...          0   \n",
       "1  👇 5) Global Crypto trading #volume increased b...          0   \n",
       "2  RANDLEPERRIN found #bitcoin in a User vault at...          0   \n",
       "3  @RantinArkansan @phoenux2016 @Dylanwryter @Bow...          0   \n",
       "4  👇 4) The Global Crypto #market cap increased b...          0   \n",
       "\n",
       "                                              Tokens  \n",
       "0  shall sure shock bitcoin football play spotify...  \n",
       "1  👇 global crypto trading volume increase 17.8 w...  \n",
       "2  randleperrin find bitcoin user vault location ...  \n",
       "3  100,000 random american citizen die mean ukrai...  \n",
       "4  👇 global crypto market cap increase +10.9 wow ...  "
      ]
     },
     "execution_count": 11,
     "metadata": {},
     "output_type": "execute_result"
    }
   ],
   "source": [
    "# Tokenize the tweets\n",
    "import spacy\n",
    "from spacy.lang.en.stop_words import STOP_WORDS\n",
    "\n",
    "nlp = spacy.load(\"en_core_web_sm\")\n",
    "\n",
    "def preprocessing(sentence):\n",
    "\n",
    "    stopwords = list(STOP_WORDS)\n",
    "    doc = nlp(sentence)\n",
    "    cleaned_tokens = []\n",
    "\n",
    "    for token in doc:\n",
    "        if token.text.lower() not in stopwords and token.pos_ != 'PUNCT' and token.pos_ != 'SPACE' and \\\n",
    "                token.pos_ != 'SYM' and token.text not in list('0123456789+-*^~%$#@&/\\|[]<>(){}') and \\\n",
    "                token.text.startswith('@') == False:\n",
    "            cleaned_tokens.append(token.lemma_.lower().strip())\n",
    "\n",
    "    return \" \".join(cleaned_tokens)\n",
    "\n",
    "df['Tokens'] = df['Tweet'].apply(preprocessing)\n",
    "\n",
    "df.head()"
   ]
  },
  {
   "cell_type": "code",
   "execution_count": 12,
   "metadata": {},
   "outputs": [
    {
     "data": {
      "text/plain": [
       "(180, 951)"
      ]
     },
     "execution_count": 12,
     "metadata": {},
     "output_type": "execute_result"
    }
   ],
   "source": [
    "# Create positive and negative vocabulary\n",
    "pos_corpus = [sent.split(\" \") for sent in df.Tokens[df.Sentiment == 1].to_numpy()]\n",
    "neg_corpus = [sent.split(\" \") for sent in df.Tokens[df.Sentiment == 0].to_numpy()]\n",
    "\n",
    "pos_vocab = []\n",
    "for i in range(len(pos_corpus)):\n",
    "    for word in pos_corpus[i]:\n",
    "        pos_vocab.append(word)\n",
    "\n",
    "neg_vocab = []\n",
    "for i in range(len(neg_corpus)):\n",
    "    for word in neg_corpus[i]:\n",
    "        neg_vocab.append(word)\n",
    "\n",
    "len(pos_vocab), len(neg_vocab)"
   ]
  },
  {
   "cell_type": "code",
   "execution_count": 13,
   "metadata": {},
   "outputs": [
    {
     "name": "stdout",
     "output_type": "stream",
     "text": [
      "Top positive words\n",
      "******************\n",
      "['bitcoin', 'price', 'ma', '-&gt', 'bullish', 'experience', '👇', 'ethereum', 'trend', 'eth']\n",
      "Top negative words\n",
      "******************\n",
      "['bitcoin', 'btc', 'crypto', 'nft', 'price', 'free', 'sat', 'amp', 'claim', 'lightning']\n"
     ]
    }
   ],
   "source": [
    "# Find top words for the positives and negatives\n",
    "from collections import Counter\n",
    "\n",
    "top_pos_words = []\n",
    "for i in range(10):\n",
    "    pos_word = Counter(pos_vocab).most_common(10)[i][0]\n",
    "    top_pos_words.append(pos_word)\n",
    "\n",
    "top_neg_words = []\n",
    "for i in range(10):\n",
    "    neg_word = Counter(neg_vocab).most_common(10)[i][0]\n",
    "    top_neg_words.append(neg_word)\n",
    "\n",
    "print(\"Top positive words\")\n",
    "print(\"******************\")\n",
    "print(top_pos_words)\n",
    "print(\"Top negative words\")\n",
    "print(\"******************\")\n",
    "print(top_neg_words)"
   ]
  }
 ],
 "metadata": {
  "kernelspec": {
   "display_name": "My_Virtual_Environment",
   "language": "python",
   "name": "my_env"
  },
  "language_info": {
   "codemirror_mode": {
    "name": "ipython",
    "version": 3
   },
   "file_extension": ".py",
   "mimetype": "text/x-python",
   "name": "python",
   "nbconvert_exporter": "python",
   "pygments_lexer": "ipython3",
   "version": "3.10.8"
  },
  "orig_nbformat": 4,
  "vscode": {
   "interpreter": {
    "hash": "f7ca07084f99cae884d00a2401f5a915152405bd446c47609c53897335e04337"
   }
  }
 },
 "nbformat": 4,
 "nbformat_minor": 2
}
