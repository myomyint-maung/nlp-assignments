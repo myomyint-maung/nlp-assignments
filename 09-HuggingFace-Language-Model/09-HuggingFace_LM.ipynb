{
 "cells": [
  {
   "attachments": {},
   "cell_type": "markdown",
   "metadata": {},
   "source": [
    "## Fairy Tale Generator with GPT-2"
   ]
  },
  {
   "cell_type": "code",
   "execution_count": 1,
   "metadata": {},
   "outputs": [
    {
     "name": "stdout",
     "output_type": "stream",
     "text": [
      "cpu\n"
     ]
    }
   ],
   "source": [
    "# import libraries\n",
    "import numpy as np\n",
    "import pandas as pd\n",
    "import matplotlib.pyplot as plt\n",
    "from sklearn.model_selection import train_test_split\n",
    "\n",
    "import torch\n",
    "import torchtext\n",
    "import torch.nn as nn\n",
    "import torch.optim as optim\n",
    "import torch.nn.functional as F\n",
    "from torch.nn.utils.rnn import pad_sequence\n",
    "from torchtext.data.utils import get_tokenizer\n",
    "from torch.utils.data import DataLoader, Dataset\n",
    "\n",
    "import re, random, math, time\n",
    "from tqdm.notebook import tqdm\n",
    "\n",
    "# ignore warnings\n",
    "import warnings\n",
    "warnings.filterwarnings('ignore')\n",
    "\n",
    "# define the computing device\n",
    "device = torch.device(\"cuda\" if torch.cuda.is_available() else \"cpu\")\n",
    "print(device)\n",
    "\n",
    "# set random seed\n",
    "SEED = 1234\n",
    "torch.manual_seed(SEED)\n",
    "torch.backends.cudnn.deterministic = True"
   ]
  },
  {
   "attachments": {},
   "cell_type": "markdown",
   "metadata": {},
   "source": [
    "### 1. Loading data"
   ]
  },
  {
   "cell_type": "code",
   "execution_count": 2,
   "metadata": {},
   "outputs": [
    {
     "data": {
      "text/html": [
       "<div>\n",
       "<style scoped>\n",
       "    .dataframe tbody tr th:only-of-type {\n",
       "        vertical-align: middle;\n",
       "    }\n",
       "\n",
       "    .dataframe tbody tr th {\n",
       "        vertical-align: top;\n",
       "    }\n",
       "\n",
       "    .dataframe thead th {\n",
       "        text-align: right;\n",
       "    }\n",
       "</style>\n",
       "<table border=\"1\" class=\"dataframe\">\n",
       "  <thead>\n",
       "    <tr style=\"text-align: right;\">\n",
       "      <th></th>\n",
       "      <th>Unnamed: 0</th>\n",
       "      <th>Title</th>\n",
       "      <th>Text</th>\n",
       "    </tr>\n",
       "  </thead>\n",
       "  <tbody>\n",
       "    <tr>\n",
       "      <th>0</th>\n",
       "      <td>0</td>\n",
       "      <td>THE GOLDEN BIRD</td>\n",
       "      <td>A certain king had a beautiful garden, and in ...</td>\n",
       "    </tr>\n",
       "    <tr>\n",
       "      <th>1</th>\n",
       "      <td>1</td>\n",
       "      <td>HANS IN LUCK</td>\n",
       "      <td>Some men are born to good luck: all they do or...</td>\n",
       "    </tr>\n",
       "    <tr>\n",
       "      <th>2</th>\n",
       "      <td>2</td>\n",
       "      <td>JORINDA AND JORINDEL</td>\n",
       "      <td>There was once an old castle, that stood in th...</td>\n",
       "    </tr>\n",
       "    <tr>\n",
       "      <th>3</th>\n",
       "      <td>3</td>\n",
       "      <td>THE TRAVELLING MUSICIANS</td>\n",
       "      <td>An honest farmer had once an ass that had been...</td>\n",
       "    </tr>\n",
       "    <tr>\n",
       "      <th>4</th>\n",
       "      <td>4</td>\n",
       "      <td>OLD SULTAN</td>\n",
       "      <td>A shepherd had a faithful dog, called Sultan, ...</td>\n",
       "    </tr>\n",
       "  </tbody>\n",
       "</table>\n",
       "</div>"
      ],
      "text/plain": [
       "   Unnamed: 0                     Title   \n",
       "0           0           THE GOLDEN BIRD  \\\n",
       "1           1              HANS IN LUCK   \n",
       "2           2      JORINDA AND JORINDEL   \n",
       "3           3  THE TRAVELLING MUSICIANS   \n",
       "4           4                OLD SULTAN   \n",
       "\n",
       "                                                Text  \n",
       "0  A certain king had a beautiful garden, and in ...  \n",
       "1  Some men are born to good luck: all they do or...  \n",
       "2  There was once an old castle, that stood in th...  \n",
       "3  An honest farmer had once an ass that had been...  \n",
       "4  A shepherd had a faithful dog, called Sultan, ...  "
      ]
     },
     "execution_count": 2,
     "metadata": {},
     "output_type": "execute_result"
    }
   ],
   "source": [
    "df = pd.read_csv('grimms_fairytales.csv')\n",
    "\n",
    "df.head()"
   ]
  },
  {
   "cell_type": "code",
   "execution_count": 3,
   "metadata": {},
   "outputs": [
    {
     "name": "stdout",
     "output_type": "stream",
     "text": [
      "<class 'pandas.core.frame.DataFrame'>\n",
      "RangeIndex: 63 entries, 0 to 62\n",
      "Data columns (total 3 columns):\n",
      " #   Column      Non-Null Count  Dtype \n",
      "---  ------      --------------  ----- \n",
      " 0   Unnamed: 0  63 non-null     int64 \n",
      " 1   Title       63 non-null     object\n",
      " 2   Text        63 non-null     object\n",
      "dtypes: int64(1), object(2)\n",
      "memory usage: 1.6+ KB\n"
     ]
    }
   ],
   "source": [
    "df.info()"
   ]
  },
  {
   "cell_type": "code",
   "execution_count": 4,
   "metadata": {},
   "outputs": [
    {
     "data": {
      "text/html": [
       "<div>\n",
       "<style scoped>\n",
       "    .dataframe tbody tr th:only-of-type {\n",
       "        vertical-align: middle;\n",
       "    }\n",
       "\n",
       "    .dataframe tbody tr th {\n",
       "        vertical-align: top;\n",
       "    }\n",
       "\n",
       "    .dataframe thead th {\n",
       "        text-align: right;\n",
       "    }\n",
       "</style>\n",
       "<table border=\"1\" class=\"dataframe\">\n",
       "  <thead>\n",
       "    <tr style=\"text-align: right;\">\n",
       "      <th></th>\n",
       "      <th>Title</th>\n",
       "      <th>Text</th>\n",
       "    </tr>\n",
       "  </thead>\n",
       "  <tbody>\n",
       "    <tr>\n",
       "      <th>0</th>\n",
       "      <td>THE GOLDEN BIRD</td>\n",
       "      <td>A certain king had a beautiful garden, and in ...</td>\n",
       "    </tr>\n",
       "    <tr>\n",
       "      <th>1</th>\n",
       "      <td>HANS IN LUCK</td>\n",
       "      <td>Some men are born to good luck: all they do or...</td>\n",
       "    </tr>\n",
       "    <tr>\n",
       "      <th>2</th>\n",
       "      <td>JORINDA AND JORINDEL</td>\n",
       "      <td>There was once an old castle, that stood in th...</td>\n",
       "    </tr>\n",
       "    <tr>\n",
       "      <th>3</th>\n",
       "      <td>THE TRAVELLING MUSICIANS</td>\n",
       "      <td>An honest farmer had once an ass that had been...</td>\n",
       "    </tr>\n",
       "    <tr>\n",
       "      <th>4</th>\n",
       "      <td>OLD SULTAN</td>\n",
       "      <td>A shepherd had a faithful dog, called Sultan, ...</td>\n",
       "    </tr>\n",
       "  </tbody>\n",
       "</table>\n",
       "</div>"
      ],
      "text/plain": [
       "                      Title                                               Text\n",
       "0           THE GOLDEN BIRD  A certain king had a beautiful garden, and in ...\n",
       "1              HANS IN LUCK  Some men are born to good luck: all they do or...\n",
       "2      JORINDA AND JORINDEL  There was once an old castle, that stood in th...\n",
       "3  THE TRAVELLING MUSICIANS  An honest farmer had once an ass that had been...\n",
       "4                OLD SULTAN  A shepherd had a faithful dog, called Sultan, ..."
      ]
     },
     "execution_count": 4,
     "metadata": {},
     "output_type": "execute_result"
    }
   ],
   "source": [
    "# drop the Unnamed: 0 column\n",
    "df = df.drop('Unnamed: 0', axis=1)\n",
    "\n",
    "df.head()"
   ]
  },
  {
   "cell_type": "code",
   "execution_count": 5,
   "metadata": {},
   "outputs": [
    {
     "data": {
      "text/plain": [
       "'A certain king had a beautiful garden, and in the garden stood a tree\\nwhich bore golden apples. These apples were always counted, and about\\nthe time when they began to grow ripe it was found that every night one\\nof them was gone. The king became very angry at this, and ordered the\\ngardener to keep watch all night under the tree. The gardener set his\\neldest son to watch; but about twelve o’clock he fell asleep, and in\\nthe morning another of the apples was missing. Then the second son was\\nordered to watch; and at midnight he too fell asleep, and in the morning\\nanother apple was gone. Then the third son offered to keep watch; but\\nthe gardener at first would not let him, for fear some harm should come\\nto him: however, at last he consented, and the young man laid himself\\nunder the tree to watch. As the clock struck twelve he heard a rustling\\nnoise in the air, and a bird came flying that was of pure gold; and as\\nit was snapping at one of the apples with its beak, the gardener’s son\\njumped up and shot an arrow at it. But the arrow did the bird no harm;\\nonly it dropped a golden feather from its tail, and then flew away.\\nThe golden feather was brought to the king in the morning, and all the\\ncouncil was called together. Everyone agreed that it was worth more than\\nall the wealth of the kingdom: but the king said, ‘One feather is of no\\nuse to me, I must have the whole bird.’\\n\\nThen the gardener’s eldest son set out and thought to find the golden\\nbird very easily; and when he had gone but a little way, he came to a\\nwood, and by the side of the wood he saw a fox sitting; so he took his\\nbow and made ready to shoot at it. Then the fox said, ‘Do not shoot me,\\nfor I will give you good counsel; I know what your business is, and\\nthat you want to find the golden bird. You will reach a village in the\\nevening; and when you get there, you will see two inns opposite to each\\nother, one of which is very pleasant and beautiful to look at: go not in\\nthere, but rest for the night in the other, though it may appear to you\\nto be very poor and mean.’ But the son thought to himself, ‘What can\\nsuch a beast as this know about the matter?’ So he shot his arrow at\\nthe fox; but he missed it, and it set up its tail above its back and\\nran into the wood. Then he went his way, and in the evening came to\\nthe village where the two inns were; and in one of these were people\\nsinging, and dancing, and feasting; but the other looked very dirty,\\nand poor. ‘I should be very silly,’ said he, ‘if I went to that shabby\\nhouse, and left this charming place’; so he went into the smart house,\\nand ate and drank at his ease, and forgot the bird, and his country too.\\n\\nTime passed on; and as the eldest son did not come back, and no tidings\\nwere heard of him, the second son set out, and the same thing happened\\nto him. He met the fox, who gave him the good advice: but when he came\\nto the two inns, his eldest brother was standing at the window where\\nthe merrymaking was, and called to him to come in; and he could not\\nwithstand the temptation, but went in, and forgot the golden bird and\\nhis country in the same manner.\\n\\nTime passed on again, and the youngest son too wished to set out into\\nthe wide world to seek for the golden bird; but his father would not\\nlisten to it for a long while, for he was very fond of his son, and\\nwas afraid that some ill luck might happen to him also, and prevent his\\ncoming back. However, at last it was agreed he should go, for he would\\nnot rest at home; and as he came to the wood, he met the fox, and heard\\nthe same good counsel. But he was thankful to the fox, and did not\\nattempt his life as his brothers had done; so the fox said, ‘Sit upon my\\ntail, and you will travel faster.’ So he sat down, and the fox began to\\nrun, and away they went over stock and stone so quick that their hair\\nwhistled in the wind.\\n\\nWhen they came to the village, the son followed the fox’s counsel, and\\nwithout looking about him went to the shabby inn and rested there all\\nnight at his ease. In the morning came the fox again and met him as he\\nwas beginning his journey, and said, ‘Go straight forward, till you come\\nto a castle, before which lie a whole troop of soldiers fast asleep and\\nsnoring: take no notice of them, but go into the castle and pass on and\\non till you come to a room, where the golden bird sits in a wooden cage;\\nclose by it stands a beautiful golden cage; but do not try to take the\\nbird out of the shabby cage and put it into the handsome one, otherwise\\nyou will repent it.’ Then the fox stretched out his tail again, and the\\nyoung man sat himself down, and away they went over stock and stone till\\ntheir hair whistled in the wind.\\n\\nBefore the castle gate all was as the fox had said: so the son went in\\nand found the chamber where the golden bird hung in a wooden cage, and\\nbelow stood the golden cage, and the three golden apples that had been\\nlost were lying close by it. Then thought he to himself, ‘It will be a\\nvery droll thing to bring away such a fine bird in this shabby cage’; so\\nhe opened the door and took hold of it and put it into the golden cage.\\nBut the bird set up such a loud scream that all the soldiers awoke, and\\nthey took him prisoner and carried him before the king. The next morning\\nthe court sat to judge him; and when all was heard, it sentenced him to\\ndie, unless he should bring the king the golden horse which could run as\\nswiftly as the wind; and if he did this, he was to have the golden bird\\ngiven him for his own.\\n\\nSo he set out once more on his journey, sighing, and in great despair,\\nwhen on a sudden his friend the fox met him, and said, ‘You see now\\nwhat has happened on account of your not listening to my counsel. I will\\nstill, however, tell you how to find the golden horse, if you will do as\\nI bid you. You must go straight on till you come to the castle where the\\nhorse stands in his stall: by his side will lie the groom fast asleep\\nand snoring: take away the horse quietly, but be sure to put the old\\nleathern saddle upon him, and not the golden one that is close by it.’\\nThen the son sat down on the fox’s tail, and away they went over stock\\nand stone till their hair whistled in the wind.\\n\\nAll went right, and the groom lay snoring with his hand upon the golden\\nsaddle. But when the son looked at the horse, he thought it a great pity\\nto put the leathern saddle upon it. ‘I will give him the good one,’\\nsaid he; ‘I am sure he deserves it.’ As he took up the golden saddle the\\ngroom awoke and cried out so loud, that all the guards ran in and took\\nhim prisoner, and in the morning he was again brought before the court\\nto be judged, and was sentenced to die. But it was agreed, that, if he\\ncould bring thither the beautiful princess, he should live, and have the\\nbird and the horse given him for his own.\\n\\nThen he went his way very sorrowful; but the old fox came and said, ‘Why\\ndid not you listen to me? If you had, you would have carried away\\nboth the bird and the horse; yet will I once more give you counsel. Go\\nstraight on, and in the evening you will arrive at a castle. At twelve\\no’clock at night the princess goes to the bathing-house: go up to her\\nand give her a kiss, and she will let you lead her away; but take care\\nyou do not suffer her to go and take leave of her father and mother.’\\nThen the fox stretched out his tail, and so away they went over stock\\nand stone till their hair whistled again.\\n\\nAs they came to the castle, all was as the fox had said, and at twelve\\no’clock the young man met the princess going to the bath and gave her the\\nkiss, and she agreed to run away with him, but begged with many tears\\nthat he would let her take leave of her father. At first he refused,\\nbut she wept still more and more, and fell at his feet, till at last\\nhe consented; but the moment she came to her father’s house the guards\\nawoke and he was taken prisoner again.\\n\\nThen he was brought before the king, and the king said, ‘You shall never\\nhave my daughter unless in eight days you dig away the hill that stops\\nthe view from my window.’ Now this hill was so big that the whole world\\ncould not take it away: and when he had worked for seven days, and had\\ndone very little, the fox came and said. ‘Lie down and go to sleep; I\\nwill work for you.’ And in the morning he awoke and the hill was gone;\\nso he went merrily to the king, and told him that now that it was\\nremoved he must give him the princess.\\n\\nThen the king was obliged to keep his word, and away went the young man\\nand the princess; and the fox came and said to him, ‘We will have all\\nthree, the princess, the horse, and the bird.’ ‘Ah!’ said the young man,\\n‘that would be a great thing, but how can you contrive it?’\\n\\n‘If you will only listen,’ said the fox, ‘it can be done. When you come\\nto the king, and he asks for the beautiful princess, you must say, “Here\\nshe is!” Then he will be very joyful; and you will mount the golden\\nhorse that they are to give you, and put out your hand to take leave of\\nthem; but shake hands with the princess last. Then lift her quickly on\\nto the horse behind you; clap your spurs to his side, and gallop away as\\nfast as you can.’\\n\\nAll went right: then the fox said, ‘When you come to the castle where\\nthe bird is, I will stay with the princess at the door, and you will\\nride in and speak to the king; and when he sees that it is the right\\nhorse, he will bring out the bird; but you must sit still, and say that\\nyou want to look at it, to see whether it is the true golden bird; and\\nwhen you get it into your hand, ride away.’\\n\\nThis, too, happened as the fox said; they carried off the bird, the\\nprincess mounted again, and they rode on to a great wood. Then the fox\\ncame, and said, ‘Pray kill me, and cut off my head and my feet.’ But the\\nyoung man refused to do it: so the fox said, ‘I will at any rate give\\nyou good counsel: beware of two things; ransom no one from the gallows,\\nand sit down by the side of no river.’ Then away he went. ‘Well,’\\nthought the young man, ‘it is no hard matter to keep that advice.’\\n\\nHe rode on with the princess, till at last he came to the village where\\nhe had left his two brothers. And there he heard a great noise and\\nuproar; and when he asked what was the matter, the people said, ‘Two men\\nare going to be hanged.’ As he came nearer, he saw that the two men were\\nhis brothers, who had turned robbers; so he said, ‘Cannot they in any\\nway be saved?’ But the people said ‘No,’ unless he would bestow all his\\nmoney upon the rascals and buy their liberty. Then he did not stay to\\nthink about the matter, but paid what was asked, and his brothers were\\ngiven up, and went on with him towards their home.\\n\\nAnd as they came to the wood where the fox first met them, it was so\\ncool and pleasant that the two brothers said, ‘Let us sit down by the\\nside of the river, and rest a while, to eat and drink.’ So he said,\\n‘Yes,’ and forgot the fox’s counsel, and sat down on the side of the\\nriver; and while he suspected nothing, they came behind, and threw him\\ndown the bank, and took the princess, the horse, and the bird, and went\\nhome to the king their master, and said. ‘All this have we won by our\\nlabour.’ Then there was great rejoicing made; but the horse would not\\neat, the bird would not sing, and the princess wept.\\n\\nThe youngest son fell to the bottom of the river’s bed: luckily it was\\nnearly dry, but his bones were almost broken, and the bank was so steep\\nthat he could find no way to get out. Then the old fox came once more,\\nand scolded him for not following his advice; otherwise no evil would\\nhave befallen him: ‘Yet,’ said he, ‘I cannot leave you here, so lay hold\\nof my tail and hold fast.’ Then he pulled him out of the river, and said\\nto him, as he got upon the bank, ‘Your brothers have set watch to kill\\nyou, if they find you in the kingdom.’ So he dressed himself as a poor\\nman, and came secretly to the king’s court, and was scarcely within the\\ndoors when the horse began to eat, and the bird to sing, and the princess\\nleft off weeping. Then he went to the king, and told him all his\\nbrothers’ roguery; and they were seized and punished, and he had the\\nprincess given to him again; and after the king’s death he was heir to\\nhis kingdom.\\n\\nA long while after, he went to walk one day in the wood, and the old fox\\nmet him, and besought him with tears in his eyes to kill him, and cut\\noff his head and feet. And at last he did so, and in a moment the\\nfox was changed into a man, and turned out to be the brother of the\\nprincess, who had been lost a great many many years.'"
      ]
     },
     "execution_count": 5,
     "metadata": {},
     "output_type": "execute_result"
    }
   ],
   "source": [
    "df['Text'][0]"
   ]
  },
  {
   "cell_type": "code",
   "execution_count": 6,
   "metadata": {},
   "outputs": [],
   "source": [
    "# replace new line characters with space\n",
    "df['Text'] = df['Text'].replace('\\n', ' ', regex=True)"
   ]
  },
  {
   "cell_type": "code",
   "execution_count": 7,
   "metadata": {},
   "outputs": [
    {
     "data": {
      "text/plain": [
       "'A certain king had a beautiful garden, and in the garden stood a tree which bore golden apples. These apples were always counted, and about the time when they began to grow ripe it was found that every night one of them was gone. The king became very angry at this, and ordered the gardener to keep watch all night under the tree. The gardener set his eldest son to watch; but about twelve o’clock he fell asleep, and in the morning another of the apples was missing. Then the second son was ordered to watch; and at midnight he too fell asleep, and in the morning another apple was gone. Then the third son offered to keep watch; but the gardener at first would not let him, for fear some harm should come to him: however, at last he consented, and the young man laid himself under the tree to watch. As the clock struck twelve he heard a rustling noise in the air, and a bird came flying that was of pure gold; and as it was snapping at one of the apples with its beak, the gardener’s son jumped up and shot an arrow at it. But the arrow did the bird no harm; only it dropped a golden feather from its tail, and then flew away. The golden feather was brought to the king in the morning, and all the council was called together. Everyone agreed that it was worth more than all the wealth of the kingdom: but the king said, ‘One feather is of no use to me, I must have the whole bird.’  Then the gardener’s eldest son set out and thought to find the golden bird very easily; and when he had gone but a little way, he came to a wood, and by the side of the wood he saw a fox sitting; so he took his bow and made ready to shoot at it. Then the fox said, ‘Do not shoot me, for I will give you good counsel; I know what your business is, and that you want to find the golden bird. You will reach a village in the evening; and when you get there, you will see two inns opposite to each other, one of which is very pleasant and beautiful to look at: go not in there, but rest for the night in the other, though it may appear to you to be very poor and mean.’ But the son thought to himself, ‘What can such a beast as this know about the matter?’ So he shot his arrow at the fox; but he missed it, and it set up its tail above its back and ran into the wood. Then he went his way, and in the evening came to the village where the two inns were; and in one of these were people singing, and dancing, and feasting; but the other looked very dirty, and poor. ‘I should be very silly,’ said he, ‘if I went to that shabby house, and left this charming place’; so he went into the smart house, and ate and drank at his ease, and forgot the bird, and his country too.  Time passed on; and as the eldest son did not come back, and no tidings were heard of him, the second son set out, and the same thing happened to him. He met the fox, who gave him the good advice: but when he came to the two inns, his eldest brother was standing at the window where the merrymaking was, and called to him to come in; and he could not withstand the temptation, but went in, and forgot the golden bird and his country in the same manner.  Time passed on again, and the youngest son too wished to set out into the wide world to seek for the golden bird; but his father would not listen to it for a long while, for he was very fond of his son, and was afraid that some ill luck might happen to him also, and prevent his coming back. However, at last it was agreed he should go, for he would not rest at home; and as he came to the wood, he met the fox, and heard the same good counsel. But he was thankful to the fox, and did not attempt his life as his brothers had done; so the fox said, ‘Sit upon my tail, and you will travel faster.’ So he sat down, and the fox began to run, and away they went over stock and stone so quick that their hair whistled in the wind.  When they came to the village, the son followed the fox’s counsel, and without looking about him went to the shabby inn and rested there all night at his ease. In the morning came the fox again and met him as he was beginning his journey, and said, ‘Go straight forward, till you come to a castle, before which lie a whole troop of soldiers fast asleep and snoring: take no notice of them, but go into the castle and pass on and on till you come to a room, where the golden bird sits in a wooden cage; close by it stands a beautiful golden cage; but do not try to take the bird out of the shabby cage and put it into the handsome one, otherwise you will repent it.’ Then the fox stretched out his tail again, and the young man sat himself down, and away they went over stock and stone till their hair whistled in the wind.  Before the castle gate all was as the fox had said: so the son went in and found the chamber where the golden bird hung in a wooden cage, and below stood the golden cage, and the three golden apples that had been lost were lying close by it. Then thought he to himself, ‘It will be a very droll thing to bring away such a fine bird in this shabby cage’; so he opened the door and took hold of it and put it into the golden cage. But the bird set up such a loud scream that all the soldiers awoke, and they took him prisoner and carried him before the king. The next morning the court sat to judge him; and when all was heard, it sentenced him to die, unless he should bring the king the golden horse which could run as swiftly as the wind; and if he did this, he was to have the golden bird given him for his own.  So he set out once more on his journey, sighing, and in great despair, when on a sudden his friend the fox met him, and said, ‘You see now what has happened on account of your not listening to my counsel. I will still, however, tell you how to find the golden horse, if you will do as I bid you. You must go straight on till you come to the castle where the horse stands in his stall: by his side will lie the groom fast asleep and snoring: take away the horse quietly, but be sure to put the old leathern saddle upon him, and not the golden one that is close by it.’ Then the son sat down on the fox’s tail, and away they went over stock and stone till their hair whistled in the wind.  All went right, and the groom lay snoring with his hand upon the golden saddle. But when the son looked at the horse, he thought it a great pity to put the leathern saddle upon it. ‘I will give him the good one,’ said he; ‘I am sure he deserves it.’ As he took up the golden saddle the groom awoke and cried out so loud, that all the guards ran in and took him prisoner, and in the morning he was again brought before the court to be judged, and was sentenced to die. But it was agreed, that, if he could bring thither the beautiful princess, he should live, and have the bird and the horse given him for his own.  Then he went his way very sorrowful; but the old fox came and said, ‘Why did not you listen to me? If you had, you would have carried away both the bird and the horse; yet will I once more give you counsel. Go straight on, and in the evening you will arrive at a castle. At twelve o’clock at night the princess goes to the bathing-house: go up to her and give her a kiss, and she will let you lead her away; but take care you do not suffer her to go and take leave of her father and mother.’ Then the fox stretched out his tail, and so away they went over stock and stone till their hair whistled again.  As they came to the castle, all was as the fox had said, and at twelve o’clock the young man met the princess going to the bath and gave her the kiss, and she agreed to run away with him, but begged with many tears that he would let her take leave of her father. At first he refused, but she wept still more and more, and fell at his feet, till at last he consented; but the moment she came to her father’s house the guards awoke and he was taken prisoner again.  Then he was brought before the king, and the king said, ‘You shall never have my daughter unless in eight days you dig away the hill that stops the view from my window.’ Now this hill was so big that the whole world could not take it away: and when he had worked for seven days, and had done very little, the fox came and said. ‘Lie down and go to sleep; I will work for you.’ And in the morning he awoke and the hill was gone; so he went merrily to the king, and told him that now that it was removed he must give him the princess.  Then the king was obliged to keep his word, and away went the young man and the princess; and the fox came and said to him, ‘We will have all three, the princess, the horse, and the bird.’ ‘Ah!’ said the young man, ‘that would be a great thing, but how can you contrive it?’  ‘If you will only listen,’ said the fox, ‘it can be done. When you come to the king, and he asks for the beautiful princess, you must say, “Here she is!” Then he will be very joyful; and you will mount the golden horse that they are to give you, and put out your hand to take leave of them; but shake hands with the princess last. Then lift her quickly on to the horse behind you; clap your spurs to his side, and gallop away as fast as you can.’  All went right: then the fox said, ‘When you come to the castle where the bird is, I will stay with the princess at the door, and you will ride in and speak to the king; and when he sees that it is the right horse, he will bring out the bird; but you must sit still, and say that you want to look at it, to see whether it is the true golden bird; and when you get it into your hand, ride away.’  This, too, happened as the fox said; they carried off the bird, the princess mounted again, and they rode on to a great wood. Then the fox came, and said, ‘Pray kill me, and cut off my head and my feet.’ But the young man refused to do it: so the fox said, ‘I will at any rate give you good counsel: beware of two things; ransom no one from the gallows, and sit down by the side of no river.’ Then away he went. ‘Well,’ thought the young man, ‘it is no hard matter to keep that advice.’  He rode on with the princess, till at last he came to the village where he had left his two brothers. And there he heard a great noise and uproar; and when he asked what was the matter, the people said, ‘Two men are going to be hanged.’ As he came nearer, he saw that the two men were his brothers, who had turned robbers; so he said, ‘Cannot they in any way be saved?’ But the people said ‘No,’ unless he would bestow all his money upon the rascals and buy their liberty. Then he did not stay to think about the matter, but paid what was asked, and his brothers were given up, and went on with him towards their home.  And as they came to the wood where the fox first met them, it was so cool and pleasant that the two brothers said, ‘Let us sit down by the side of the river, and rest a while, to eat and drink.’ So he said, ‘Yes,’ and forgot the fox’s counsel, and sat down on the side of the river; and while he suspected nothing, they came behind, and threw him down the bank, and took the princess, the horse, and the bird, and went home to the king their master, and said. ‘All this have we won by our labour.’ Then there was great rejoicing made; but the horse would not eat, the bird would not sing, and the princess wept.  The youngest son fell to the bottom of the river’s bed: luckily it was nearly dry, but his bones were almost broken, and the bank was so steep that he could find no way to get out. Then the old fox came once more, and scolded him for not following his advice; otherwise no evil would have befallen him: ‘Yet,’ said he, ‘I cannot leave you here, so lay hold of my tail and hold fast.’ Then he pulled him out of the river, and said to him, as he got upon the bank, ‘Your brothers have set watch to kill you, if they find you in the kingdom.’ So he dressed himself as a poor man, and came secretly to the king’s court, and was scarcely within the doors when the horse began to eat, and the bird to sing, and the princess left off weeping. Then he went to the king, and told him all his brothers’ roguery; and they were seized and punished, and he had the princess given to him again; and after the king’s death he was heir to his kingdom.  A long while after, he went to walk one day in the wood, and the old fox met him, and besought him with tears in his eyes to kill him, and cut off his head and feet. And at last he did so, and in a moment the fox was changed into a man, and turned out to be the brother of the princess, who had been lost a great many many years.'"
      ]
     },
     "execution_count": 7,
     "metadata": {},
     "output_type": "execute_result"
    }
   ],
   "source": [
    "df['Text'][0]"
   ]
  },
  {
   "cell_type": "code",
   "execution_count": 8,
   "metadata": {},
   "outputs": [
    {
     "data": {
      "text/plain": [
       "((50, 2), (13, 2))"
      ]
     },
     "execution_count": 8,
     "metadata": {},
     "output_type": "execute_result"
    }
   ],
   "source": [
    "# split the data into train, val and test\n",
    "train_df, val_df = train_test_split(df, test_size=0.2, random_state=SEED)\n",
    "\n",
    "train_df.shape, val_df.shape"
   ]
  },
  {
   "cell_type": "code",
   "execution_count": 9,
   "metadata": {},
   "outputs": [
    {
     "data": {
      "text/plain": [
       "DatasetDict({\n",
       "    train: Dataset({\n",
       "        features: ['Title', 'Text', '__index_level_0__'],\n",
       "        num_rows: 50\n",
       "    })\n",
       "    valid: Dataset({\n",
       "        features: ['Title', 'Text', '__index_level_0__'],\n",
       "        num_rows: 13\n",
       "    })\n",
       "})"
      ]
     },
     "execution_count": 9,
     "metadata": {},
     "output_type": "execute_result"
    }
   ],
   "source": [
    "# create raw datasets\n",
    "from datasets import Dataset, DatasetDict\n",
    "\n",
    "ds_train = Dataset.from_pandas(train_df)\n",
    "ds_valid = Dataset.from_pandas(val_df)\n",
    "\n",
    "raw_datasets = DatasetDict(\n",
    "    {\n",
    "        \"train\": ds_train,\n",
    "        \"valid\": ds_valid\n",
    "    }\n",
    ")\n",
    "\n",
    "raw_datasets"
   ]
  },
  {
   "cell_type": "code",
   "execution_count": 10,
   "metadata": {},
   "outputs": [
    {
     "data": {
      "text/plain": [
       "DatasetDict({\n",
       "    train: Dataset({\n",
       "        features: ['Title', 'Text'],\n",
       "        num_rows: 50\n",
       "    })\n",
       "    valid: Dataset({\n",
       "        features: ['Title', 'Text'],\n",
       "        num_rows: 13\n",
       "    })\n",
       "})"
      ]
     },
     "execution_count": 10,
     "metadata": {},
     "output_type": "execute_result"
    }
   ],
   "source": [
    "# remove '__index_level_0__' column\n",
    "raw_datasets[\"train\"] = raw_datasets[\"train\"].remove_columns(\"__index_level_0__\")\n",
    "raw_datasets[\"valid\"] = raw_datasets[\"valid\"].remove_columns(\"__index_level_0__\")\n",
    "\n",
    "raw_datasets"
   ]
  },
  {
   "cell_type": "code",
   "execution_count": 11,
   "metadata": {},
   "outputs": [
    {
     "name": "stdout",
     "output_type": "stream",
     "text": [
      "Title: FREDERICK AND CATHERINE\n",
      "Text: There was once a man called Frederick: he had a wife whose name was Catherine, and they had not long been married. One day Frederick said. ‘Kate! I am going to work in the fields; when I come back I s\n"
     ]
    }
   ],
   "source": [
    "for key in raw_datasets[\"train\"][0]:\n",
    "    print(f\"{key}: {raw_datasets['train'][0][key][:200]}\")"
   ]
  },
  {
   "attachments": {},
   "cell_type": "markdown",
   "metadata": {},
   "source": [
    "### 2. Preprocessing"
   ]
  },
  {
   "cell_type": "code",
   "execution_count": 12,
   "metadata": {},
   "outputs": [
    {
     "name": "stdout",
     "output_type": "stream",
     "text": [
      "Input IDs length: 48\n",
      "Input chunk lengths: [128, 128, 128, 128, 128, 128, 128, 128, 128, 128, 128, 128, 128, 128, 128, 128, 128, 128, 128, 128, 94, 128, 128, 128, 128, 128, 128, 128, 128, 128, 128, 128, 128, 128, 128, 128, 128, 128, 128, 128, 128, 128, 128, 128, 128, 128, 128, 128]\n",
      "Chunk mapping: [0, 0, 0, 0, 0, 0, 0, 0, 0, 0, 0, 0, 0, 0, 0, 0, 0, 0, 0, 0, 0, 1, 1, 1, 1, 1, 1, 1, 1, 1, 1, 1, 1, 1, 1, 1, 1, 1, 1, 1, 1, 1, 1, 1, 1, 1, 1, 1]\n"
     ]
    }
   ],
   "source": [
    "# create the tokenizer\n",
    "from transformers import AutoTokenizer\n",
    "\n",
    "context_length = 128\n",
    "tokenizer = AutoTokenizer.from_pretrained(\"gpt2\", use_fast=True)\n",
    "\n",
    "outputs = tokenizer(\n",
    "    raw_datasets[\"train\"][:2][\"Text\"],\n",
    "    truncation=True,\n",
    "    max_length=context_length,\n",
    "    return_overflowing_tokens=True,\n",
    "    return_length=True,\n",
    ")\n",
    "\n",
    "print(f\"Input IDs length: {len(outputs['input_ids'])}\")\n",
    "print(f\"Input chunk lengths: {(outputs['length'])}\")\n",
    "print(f\"Chunk mapping: {outputs['overflow_to_sample_mapping']}\")"
   ]
  },
  {
   "cell_type": "code",
   "execution_count": 13,
   "metadata": {},
   "outputs": [
    {
     "data": {
      "application/vnd.jupyter.widget-view+json": {
       "model_id": "ccf9faff2e5c439d9a6a8d842636ed36",
       "version_major": 2,
       "version_minor": 0
      },
      "text/plain": [
       "Map:   0%|          | 0/50 [00:00<?, ? examples/s]"
      ]
     },
     "metadata": {},
     "output_type": "display_data"
    },
    {
     "data": {
      "application/vnd.jupyter.widget-view+json": {
       "model_id": "a5c4e7f258044ff58f71942161dd7a3f",
       "version_major": 2,
       "version_minor": 0
      },
      "text/plain": [
       "Map:   0%|          | 0/13 [00:00<?, ? examples/s]"
      ]
     },
     "metadata": {},
     "output_type": "display_data"
    },
    {
     "data": {
      "text/plain": [
       "DatasetDict({\n",
       "    train: Dataset({\n",
       "        features: ['input_ids'],\n",
       "        num_rows: 805\n",
       "    })\n",
       "    valid: Dataset({\n",
       "        features: ['input_ids'],\n",
       "        num_rows: 206\n",
       "    })\n",
       "})"
      ]
     },
     "execution_count": 13,
     "metadata": {},
     "output_type": "execute_result"
    }
   ],
   "source": [
    "# tokenize the data\n",
    "def tokenize(element):\n",
    "    outputs = tokenizer(\n",
    "        element[\"Text\"],\n",
    "        truncation=True,\n",
    "        max_length=context_length,\n",
    "        return_overflowing_tokens=True,\n",
    "        return_length=True,\n",
    "    )\n",
    "    input_batch = []\n",
    "    for length, input_ids in zip(outputs[\"length\"], outputs[\"input_ids\"]):\n",
    "        if length == context_length:\n",
    "            input_batch.append(input_ids)\n",
    "    return {\"input_ids\": input_batch}\n",
    "\n",
    "tokenized_datasets = raw_datasets.map(\n",
    "    tokenize, batched=True, remove_columns=raw_datasets[\"train\"].column_names\n",
    ")\n",
    "\n",
    "tokenized_datasets"
   ]
  },
  {
   "attachments": {},
   "cell_type": "markdown",
   "metadata": {},
   "source": [
    "### 3. Preparing data loaders"
   ]
  },
  {
   "cell_type": "code",
   "execution_count": 14,
   "metadata": {},
   "outputs": [
    {
     "data": {
      "text/plain": [
       "(101, 26)"
      ]
     },
     "execution_count": 14,
     "metadata": {},
     "output_type": "execute_result"
    }
   ],
   "source": [
    "from torch.utils.data.dataloader import DataLoader\n",
    "\n",
    "batch_size = 8\n",
    "\n",
    "tokenized_datasets.set_format(\"torch\")\n",
    "\n",
    "train_dataloader = DataLoader(tokenized_datasets[\"train\"], batch_size=batch_size, shuffle=True)\n",
    "eval_dataloader  = DataLoader(tokenized_datasets[\"valid\"], batch_size=batch_size)\n",
    "\n",
    "len(train_dataloader), len(eval_dataloader)"
   ]
  },
  {
   "cell_type": "code",
   "execution_count": null,
   "metadata": {},
   "outputs": [],
   "source": [
    "for i in train_dataloader:\n",
    "    print(i['input_ids'].shape)\n",
    "    break"
   ]
  },
  {
   "attachments": {},
   "cell_type": "markdown",
   "metadata": {},
   "source": [
    "### 4. Modeling"
   ]
  },
  {
   "cell_type": "code",
   "execution_count": 15,
   "metadata": {},
   "outputs": [
    {
     "name": "stdout",
     "output_type": "stream",
     "text": [
      "GPT-2 size: 124.4M parameters\n"
     ]
    }
   ],
   "source": [
    "# define the model\n",
    "from transformers import AutoTokenizer, GPT2LMHeadModel, AutoConfig\n",
    "\n",
    "config = AutoConfig.from_pretrained(\n",
    "    \"gpt2\",\n",
    "    vocab_size=len(tokenizer),\n",
    "    n_ctx=context_length,\n",
    "    bos_token_id=tokenizer.bos_token_id,\n",
    "    eos_token_id=tokenizer.eos_token_id,\n",
    ")\n",
    "\n",
    "model = GPT2LMHeadModel(config)\n",
    "model_size = sum(t.numel() for t in model.parameters())\n",
    "print(f\"GPT-2 size: {model_size/1000**2:.1f}M parameters\")"
   ]
  },
  {
   "cell_type": "code",
   "execution_count": 16,
   "metadata": {},
   "outputs": [
    {
     "name": "stdout",
     "output_type": "stream",
     "text": [
      "Keyword has not single token: Once upon a time\n",
      "Keyword has not single token: Long long ago\n",
      "Keyword has not single token: In a faraway land\n"
     ]
    }
   ],
   "source": [
    "# prepare key token ids\n",
    "keytoken_ids = []\n",
    "for keyword in [\n",
    "    \"Once upon a time\",\n",
    "    \"Long long ago\",\n",
    "    \"In a faraway land\"\n",
    "]:\n",
    "    ids = tokenizer([keyword]).input_ids[0]\n",
    "    if len(ids) == 1:\n",
    "        keytoken_ids.append(ids[0])\n",
    "    else:\n",
    "        print(f\"Keyword has not single token: {keyword}\")"
   ]
  },
  {
   "cell_type": "code",
   "execution_count": 30,
   "metadata": {},
   "outputs": [],
   "source": [
    "# define the loss function and the optimizer\n",
    "from torch.nn import CrossEntropyLoss\n",
    "\n",
    "def keytoken_weighted_loss(inputs, logits, keytoken_ids, alpha=1.0):\n",
    "    # Shift so that tokens < n predict n\n",
    "    shift_labels = inputs[..., 1:].contiguous()\n",
    "    shift_logits = logits[..., :-1, :].contiguous()\n",
    "    # Calculate per-token loss\n",
    "    loss_fct = CrossEntropyLoss(reduce=False) #change to reduction=None\n",
    "    loss = loss_fct(shift_logits.view(-1, shift_logits.size(-1)), shift_labels.view(-1))\n",
    "    # Resize and average loss per sample\n",
    "    loss_per_sample = loss.view(shift_logits.size(0), shift_logits.size(1)).mean(axis=1)\n",
    "    # Calculate weighted average\n",
    "    weighted_loss = loss_per_sample.mean()\n",
    "    return weighted_loss\n",
    "\n",
    "weight_decay = 0.1\n",
    "\n",
    "def get_grouped_params(model, no_decay=[\"bias\", \"LayerNorm.weight\"]):\n",
    "    params_with_wd, params_without_wd = [], []\n",
    "    for n, p in model.named_parameters():\n",
    "        if any(nd in n for nd in no_decay):\n",
    "            params_without_wd.append(p)\n",
    "        else:\n",
    "            params_with_wd.append(p)\n",
    "    return [\n",
    "        {\"params\": params_with_wd, \"weight_decay\": weight_decay},\n",
    "        {\"params\": params_without_wd, \"weight_decay\": 0.0},\n",
    "    ]\n",
    "\n",
    "model = GPT2LMHeadModel(config).to(device)\n",
    "\n",
    "from torch.optim import AdamW\n",
    "\n",
    "optimizer = AdamW(get_grouped_params(model), lr=5e-4)"
   ]
  },
  {
   "cell_type": "code",
   "execution_count": 31,
   "metadata": {},
   "outputs": [],
   "source": [
    "# use Accelerator to speed up training\n",
    "from accelerate import Accelerator\n",
    "\n",
    "accelerator = Accelerator(mixed_precision='fp16')\n",
    "\n",
    "model, optimizer, train_dataloader, eval_dataloader = accelerator.prepare(\n",
    "    model, optimizer, train_dataloader, eval_dataloader\n",
    ")"
   ]
  },
  {
   "cell_type": "code",
   "execution_count": 32,
   "metadata": {},
   "outputs": [],
   "source": [
    "# use get_scheduler library to schedule the learning rate\n",
    "from transformers import get_scheduler\n",
    "\n",
    "num_train_epochs = 1\n",
    "num_update_steps_per_epoch = len(train_dataloader)\n",
    "num_training_steps = num_train_epochs * num_update_steps_per_epoch\n",
    "\n",
    "lr_scheduler = get_scheduler(\n",
    "    name=\"linear\",\n",
    "    optimizer=optimizer,\n",
    "    num_warmup_steps=10,\n",
    "    num_training_steps=num_training_steps,\n",
    ")"
   ]
  },
  {
   "cell_type": "code",
   "execution_count": 20,
   "metadata": {},
   "outputs": [
    {
     "name": "stdout",
     "output_type": "stream",
     "text": [
      "Token is valid.\n",
      "Your token has been saved in your configured git credential helpers (manager-core).\n",
      "Your token has been saved to C:\\Users\\MARC\\.cache\\huggingface\\token\n",
      "Login successful\n"
     ]
    }
   ],
   "source": [
    "# log in to huggingface hub\n",
    "from huggingface_hub import notebook_login\n",
    "\n",
    "notebook_login()"
   ]
  },
  {
   "cell_type": "code",
   "execution_count": 21,
   "metadata": {},
   "outputs": [
    {
     "data": {
      "text/plain": [
       "'myomyintmaung/fairy-tale-generator-accelerate'"
      ]
     },
     "execution_count": 21,
     "metadata": {},
     "output_type": "execute_result"
    }
   ],
   "source": [
    "# create a repository to save the model\n",
    "from huggingface_hub import Repository, get_full_repo_name\n",
    "\n",
    "model_name = \"fairy-tale-generator-accelerate\"\n",
    "repo_name = get_full_repo_name(model_name)\n",
    "repo_name"
   ]
  },
  {
   "cell_type": "code",
   "execution_count": 22,
   "metadata": {},
   "outputs": [
    {
     "name": "stderr",
     "output_type": "stream",
     "text": [
      "d:\\GitHub\\nlp-assignments\\09-HuggingFace-Language-Model\\fairy-tale-generator-accelerate is already a clone of https://huggingface.co/myomyintmaung/fairy-tale-generator-accelerate. Make sure you pull the latest changes with `repo.git_pull()`.\n"
     ]
    }
   ],
   "source": [
    "# clone the repository in a local folder\n",
    "import os\n",
    "os.environ[\"TOKENIZERS_PARALLELISM\"] = \"true\"\n",
    "\n",
    "output_dir = \"fairy-tale-generator-accelerate\"\n",
    "repo = Repository(output_dir, clone_from=repo_name)"
   ]
  },
  {
   "attachments": {},
   "cell_type": "markdown",
   "metadata": {},
   "source": [
    "### 5. Training"
   ]
  },
  {
   "cell_type": "code",
   "execution_count": 23,
   "metadata": {},
   "outputs": [],
   "source": [
    "# function to evaluate the model during training\n",
    "def evaluate():\n",
    "    model.eval()\n",
    "    losses = []\n",
    "    for step, batch in enumerate(eval_dataloader):\n",
    "        with torch.no_grad():\n",
    "            outputs = model(batch[\"input_ids\"], labels=batch[\"input_ids\"])\n",
    "            outputs.loss = outputs.loss.reshape(1)\n",
    "        losses.append(accelerator.gather(outputs.loss))        \n",
    "    loss = torch.mean(torch.cat(losses))\n",
    "    try:\n",
    "        perplexity = torch.exp(loss)\n",
    "    except OverflowError:\n",
    "        perplexity = float(\"inf\")\n",
    "    return loss.item(), perplexity.item()"
   ]
  },
  {
   "cell_type": "code",
   "execution_count": 24,
   "metadata": {},
   "outputs": [
    {
     "data": {
      "text/plain": [
       "(11.021819114685059, 61194.8984375)"
      ]
     },
     "execution_count": 24,
     "metadata": {},
     "output_type": "execute_result"
    }
   ],
   "source": [
    "# test the evaluate function\n",
    "evaluate()"
   ]
  },
  {
   "cell_type": "code",
   "execution_count": 33,
   "metadata": {},
   "outputs": [
    {
     "data": {
      "application/vnd.jupyter.widget-view+json": {
       "model_id": "65fe9afd8d5340928e5278de5a7d877b",
       "version_major": 2,
       "version_minor": 0
      },
      "text/plain": [
       "  0%|          | 0/101 [00:00<?, ?it/s]"
      ]
     },
     "metadata": {},
     "output_type": "display_data"
    },
    {
     "ename": "RuntimeError",
     "evalue": "[enforce fail at ..\\c10\\core\\impl\\alloc_cpu.cpp:72] data. DefaultCPUAllocator: not enough memory: you tried to allocate 204244448 bytes.",
     "output_type": "error",
     "traceback": [
      "\u001b[1;31m---------------------------------------------------------------------------\u001b[0m",
      "\u001b[1;31mRuntimeError\u001b[0m                              Traceback (most recent call last)",
      "Cell \u001b[1;32mIn[33], line 22\u001b[0m\n\u001b[0;32m     15\u001b[0m     accelerator\u001b[39m.\u001b[39mprint(\n\u001b[0;32m     16\u001b[0m         {\n\u001b[0;32m     17\u001b[0m             \u001b[39m\"\u001b[39m\u001b[39msteps\u001b[39m\u001b[39m\"\u001b[39m: completed_steps,\n\u001b[0;32m     18\u001b[0m             \u001b[39m\"\u001b[39m\u001b[39mloss/train\u001b[39m\u001b[39m\"\u001b[39m: loss\u001b[39m.\u001b[39mitem() \u001b[39m*\u001b[39m gradient_accumulation_steps,\n\u001b[0;32m     19\u001b[0m         }\n\u001b[0;32m     20\u001b[0m     )\n\u001b[0;32m     21\u001b[0m loss \u001b[39m=\u001b[39m loss \u001b[39m/\u001b[39m gradient_accumulation_steps\n\u001b[1;32m---> 22\u001b[0m accelerator\u001b[39m.\u001b[39;49mbackward(loss)\n\u001b[0;32m     23\u001b[0m \u001b[39mif\u001b[39;00m step \u001b[39m%\u001b[39m gradient_accumulation_steps \u001b[39m==\u001b[39m \u001b[39m0\u001b[39m:\n\u001b[0;32m     24\u001b[0m     accelerator\u001b[39m.\u001b[39mclip_grad_norm_(model\u001b[39m.\u001b[39mparameters(), \u001b[39m1.0\u001b[39m)\n",
      "File \u001b[1;32mc:\\Users\\MARC\\anaconda3\\envs\\myenv\\Lib\\site-packages\\accelerate\\accelerator.py:1683\u001b[0m, in \u001b[0;36mAccelerator.backward\u001b[1;34m(self, loss, **kwargs)\u001b[0m\n\u001b[0;32m   1681\u001b[0m     \u001b[39mself\u001b[39m\u001b[39m.\u001b[39mscaler\u001b[39m.\u001b[39mscale(loss)\u001b[39m.\u001b[39mbackward(\u001b[39m*\u001b[39m\u001b[39m*\u001b[39mkwargs)\n\u001b[0;32m   1682\u001b[0m \u001b[39melse\u001b[39;00m:\n\u001b[1;32m-> 1683\u001b[0m     loss\u001b[39m.\u001b[39;49mbackward(\u001b[39m*\u001b[39;49m\u001b[39m*\u001b[39;49mkwargs)\n",
      "File \u001b[1;32mc:\\Users\\MARC\\anaconda3\\envs\\myenv\\Lib\\site-packages\\torch\\_tensor.py:487\u001b[0m, in \u001b[0;36mTensor.backward\u001b[1;34m(self, gradient, retain_graph, create_graph, inputs)\u001b[0m\n\u001b[0;32m    477\u001b[0m \u001b[39mif\u001b[39;00m has_torch_function_unary(\u001b[39mself\u001b[39m):\n\u001b[0;32m    478\u001b[0m     \u001b[39mreturn\u001b[39;00m handle_torch_function(\n\u001b[0;32m    479\u001b[0m         Tensor\u001b[39m.\u001b[39mbackward,\n\u001b[0;32m    480\u001b[0m         (\u001b[39mself\u001b[39m,),\n\u001b[1;32m   (...)\u001b[0m\n\u001b[0;32m    485\u001b[0m         inputs\u001b[39m=\u001b[39minputs,\n\u001b[0;32m    486\u001b[0m     )\n\u001b[1;32m--> 487\u001b[0m torch\u001b[39m.\u001b[39;49mautograd\u001b[39m.\u001b[39;49mbackward(\n\u001b[0;32m    488\u001b[0m     \u001b[39mself\u001b[39;49m, gradient, retain_graph, create_graph, inputs\u001b[39m=\u001b[39;49minputs\n\u001b[0;32m    489\u001b[0m )\n",
      "File \u001b[1;32mc:\\Users\\MARC\\anaconda3\\envs\\myenv\\Lib\\site-packages\\torch\\autograd\\__init__.py:200\u001b[0m, in \u001b[0;36mbackward\u001b[1;34m(tensors, grad_tensors, retain_graph, create_graph, grad_variables, inputs)\u001b[0m\n\u001b[0;32m    195\u001b[0m     retain_graph \u001b[39m=\u001b[39m create_graph\n\u001b[0;32m    197\u001b[0m \u001b[39m# The reason we repeat same the comment below is that\u001b[39;00m\n\u001b[0;32m    198\u001b[0m \u001b[39m# some Python versions print out the first line of a multi-line function\u001b[39;00m\n\u001b[0;32m    199\u001b[0m \u001b[39m# calls in the traceback and some print out the last line\u001b[39;00m\n\u001b[1;32m--> 200\u001b[0m Variable\u001b[39m.\u001b[39;49m_execution_engine\u001b[39m.\u001b[39;49mrun_backward(  \u001b[39m# Calls into the C++ engine to run the backward pass\u001b[39;49;00m\n\u001b[0;32m    201\u001b[0m     tensors, grad_tensors_, retain_graph, create_graph, inputs,\n\u001b[0;32m    202\u001b[0m     allow_unreachable\u001b[39m=\u001b[39;49m\u001b[39mTrue\u001b[39;49;00m, accumulate_grad\u001b[39m=\u001b[39;49m\u001b[39mTrue\u001b[39;49;00m)\n",
      "\u001b[1;31mRuntimeError\u001b[0m: [enforce fail at ..\\c10\\core\\impl\\alloc_cpu.cpp:72] data. DefaultCPUAllocator: not enough memory: you tried to allocate 204244448 bytes."
     ]
    }
   ],
   "source": [
    "# train the model\n",
    "\n",
    "gradient_accumulation_steps = 10\n",
    "eval_steps = 2\n",
    "\n",
    "model.train()\n",
    "completed_steps = 0\n",
    "for epoch in range(num_train_epochs):\n",
    "    for step, batch in tqdm(\n",
    "        enumerate(train_dataloader, start=1), total=num_training_steps\n",
    "    ):\n",
    "        logits = model(batch[\"input_ids\"]).logits\n",
    "        loss = keytoken_weighted_loss(batch[\"input_ids\"], logits, keytoken_ids)\n",
    "        if step % 10 == 0:\n",
    "            accelerator.print(\n",
    "                {\n",
    "                    \"steps\": completed_steps,\n",
    "                    \"loss/train\": loss.item() * gradient_accumulation_steps,\n",
    "                }\n",
    "            )\n",
    "        loss = loss / gradient_accumulation_steps\n",
    "        accelerator.backward(loss)\n",
    "        if step % gradient_accumulation_steps == 0:\n",
    "            accelerator.clip_grad_norm_(model.parameters(), 1.0)\n",
    "            optimizer.step()\n",
    "            lr_scheduler.step()\n",
    "            optimizer.zero_grad()\n",
    "            completed_steps += 1\n",
    "        if (step % (eval_steps * gradient_accumulation_steps)) == 0:\n",
    "            eval_loss, perplexity = evaluate()\n",
    "            accelerator.print({\"loss/eval\": eval_loss, \"perplexity\": perplexity})\n",
    "            model.train()\n",
    "            accelerator.wait_for_everyone()\n",
    "            unwrapped_model = accelerator.unwrap_model(model)\n",
    "            unwrapped_model.save_pretrained(output_dir, save_function=accelerator.save)\n",
    "            if accelerator.is_main_process:\n",
    "                tokenizer.save_pretrained(output_dir)\n",
    "                repo.push_to_hub(\n",
    "                    commit_message=f\"Training in progress step {step}\", blocking=False\n",
    "                )"
   ]
  },
  {
   "attachments": {},
   "cell_type": "markdown",
   "metadata": {},
   "source": [
    "### 6. Inference"
   ]
  },
  {
   "attachments": {},
   "cell_type": "markdown",
   "metadata": {},
   "source": [
    "#### Greedy search"
   ]
  },
  {
   "attachments": {},
   "cell_type": "markdown",
   "metadata": {},
   "source": [
    "#### Beam search"
   ]
  }
 ],
 "metadata": {
  "kernelspec": {
   "display_name": "myenv",
   "language": "python",
   "name": "python3"
  },
  "language_info": {
   "codemirror_mode": {
    "name": "ipython",
    "version": 3
   },
   "file_extension": ".py",
   "mimetype": "text/x-python",
   "name": "python",
   "nbconvert_exporter": "python",
   "pygments_lexer": "ipython3",
   "version": "3.11.2"
  },
  "orig_nbformat": 4
 },
 "nbformat": 4,
 "nbformat_minor": 2
}
