{
  "cells": [
    {
      "cell_type": "markdown",
      "metadata": {
        "colab_type": "text",
        "id": "view-in-github"
      },
      "source": [
        "<a href=\"https://colab.research.google.com/github/myomyint-maung/nlp-assignments/blob/main/07-Machine-Translation/07_Machine_Translation.ipynb\" target=\"_parent\"><img src=\"https://colab.research.google.com/assets/colab-badge.svg\" alt=\"Open In Colab\"/></a>"
      ]
    },
    {
      "cell_type": "markdown",
      "metadata": {
        "id": "Eus6ws8gS-oW"
      },
      "source": [
        "# 23 Feb - Machine Translation from Myanmar to English"
      ]
    },
    {
      "cell_type": "code",
      "execution_count": 1,
      "metadata": {
        "colab": {
          "base_uri": "https://localhost:8080/"
        },
        "id": "UuPqwROuS-oY",
        "outputId": "012c2e10-fb25-4f1d-f88f-f8b39844fa8b"
      },
      "outputs": [
        {
          "name": "stdout",
          "output_type": "stream",
          "text": [
            "cuda\n"
          ]
        }
      ],
      "source": [
        "# Import necessary libraries\n",
        "import torch, torchtext\n",
        "from torch import nn\n",
        "import torch.nn.functional as F\n",
        "import random, math, time\n",
        "\n",
        "# Choose the computing device\n",
        "device = torch.device('cuda' if torch.cuda.is_available() else 'cpu')\n",
        "print(device)\n",
        "\n",
        "# Set SEED for reproducibility\n",
        "SEED = 1234\n",
        "torch.manual_seed(SEED)\n",
        "torch.backends.cudnn.deterministic = True"
      ]
    },
    {
      "cell_type": "markdown",
      "metadata": {
        "id": "S6vCQ7_FS-oa",
        "jp-MarkdownHeadingCollapsed": true,
        "tags": []
      },
      "source": [
        "## 1. Loading Data\n",
        "\n",
        "**Note**: I use the Myanmar and English datasets from the Asian Language Treebank (ALT) Parallel Corpus available at https://www2.nict.go.jp/astrec-att/member/mutiyama/ALT/."
      ]
    },
    {
      "cell_type": "code",
      "execution_count": 2,
      "metadata": {
        "colab": {
          "base_uri": "https://localhost:8080/",
          "height": 362
        },
        "id": "8p7OI83oS-oa",
        "outputId": "aaea584f-01e4-4485-ac28-40c7a6d9f46e"
      },
      "outputs": [
        {
          "name": "stdout",
          "output_type": "stream",
          "text": [
            "<class 'pandas.core.frame.DataFrame'>\n",
            "Int64Index: 19166 entries, 0 to 19172\n",
            "Data columns (total 2 columns):\n",
            " #   Column  Non-Null Count  Dtype \n",
            "---  ------  --------------  ----- \n",
            " 0   MY      19166 non-null  object\n",
            " 1   EN      19166 non-null  object\n",
            "dtypes: object(2)\n",
            "memory usage: 449.2+ KB\n"
          ]
        },
        {
          "data": {
            "text/html": [
              "\n",
              "  <div id=\"df-04faa723-c6cd-4cb4-a6af-2829428cc88c\">\n",
              "    <div class=\"colab-df-container\">\n",
              "      <div>\n",
              "<style scoped>\n",
              "    .dataframe tbody tr th:only-of-type {\n",
              "        vertical-align: middle;\n",
              "    }\n",
              "\n",
              "    .dataframe tbody tr th {\n",
              "        vertical-align: top;\n",
              "    }\n",
              "\n",
              "    .dataframe thead th {\n",
              "        text-align: right;\n",
              "    }\n",
              "</style>\n",
              "<table border=\"1\" class=\"dataframe\">\n",
              "  <thead>\n",
              "    <tr style=\"text-align: right;\">\n",
              "      <th></th>\n",
              "      <th>MY</th>\n",
              "      <th>EN</th>\n",
              "    </tr>\n",
              "  </thead>\n",
              "  <tbody>\n",
              "    <tr>\n",
              "      <th>0</th>\n",
              "      <td>ပြင်သစ်နိုင်ငံ ပါရီမြို့ ပါ့ဒက်စ် ပရင့်စက် ၌ ၂...</td>\n",
              "      <td>Italy have defeated Portugal 31-5 in Pool C of...</td>\n",
              "    </tr>\n",
              "    <tr>\n",
              "      <th>1</th>\n",
              "      <td>အန်ဒရီယာ မာစီ သည် အီတလီ အတွက် စမ်းသပ်မှု တစ်ခု...</td>\n",
              "      <td>Andrea Masi opened the scoring in the fourth m...</td>\n",
              "    </tr>\n",
              "    <tr>\n",
              "      <th>2</th>\n",
              "      <td>ပထမ တစ်ဝက် ၏ တော်တော်များများ အတွက် ကစားပွဲ ကိ...</td>\n",
              "      <td>Despite controlling the game for much of the f...</td>\n",
              "    </tr>\n",
              "    <tr>\n",
              "      <th>3</th>\n",
              "      <td>ပေါ်တူဂီ သည် ဘယ်သောအခါမှ စွန့်လွှတ်မှု မရှိခဲ့...</td>\n",
              "      <td>Portugal never gave up and David Penalva score...</td>\n",
              "    </tr>\n",
              "    <tr>\n",
              "      <th>4</th>\n",
              "      <td>အီတလီ သည် ပထမပိုင်း ၌ ၁၆-၅ ဖြင့် ဦးဆောင်ခဲ့ သေ...</td>\n",
              "      <td>Italy led 16-5 at half time but were matched b...</td>\n",
              "    </tr>\n",
              "  </tbody>\n",
              "</table>\n",
              "</div>\n",
              "      <button class=\"colab-df-convert\" onclick=\"convertToInteractive('df-04faa723-c6cd-4cb4-a6af-2829428cc88c')\"\n",
              "              title=\"Convert this dataframe to an interactive table.\"\n",
              "              style=\"display:none;\">\n",
              "        \n",
              "  <svg xmlns=\"http://www.w3.org/2000/svg\" height=\"24px\"viewBox=\"0 0 24 24\"\n",
              "       width=\"24px\">\n",
              "    <path d=\"M0 0h24v24H0V0z\" fill=\"none\"/>\n",
              "    <path d=\"M18.56 5.44l.94 2.06.94-2.06 2.06-.94-2.06-.94-.94-2.06-.94 2.06-2.06.94zm-11 1L8.5 8.5l.94-2.06 2.06-.94-2.06-.94L8.5 2.5l-.94 2.06-2.06.94zm10 10l.94 2.06.94-2.06 2.06-.94-2.06-.94-.94-2.06-.94 2.06-2.06.94z\"/><path d=\"M17.41 7.96l-1.37-1.37c-.4-.4-.92-.59-1.43-.59-.52 0-1.04.2-1.43.59L10.3 9.45l-7.72 7.72c-.78.78-.78 2.05 0 2.83L4 21.41c.39.39.9.59 1.41.59.51 0 1.02-.2 1.41-.59l7.78-7.78 2.81-2.81c.8-.78.8-2.07 0-2.86zM5.41 20L4 18.59l7.72-7.72 1.47 1.35L5.41 20z\"/>\n",
              "  </svg>\n",
              "      </button>\n",
              "      \n",
              "  <style>\n",
              "    .colab-df-container {\n",
              "      display:flex;\n",
              "      flex-wrap:wrap;\n",
              "      gap: 12px;\n",
              "    }\n",
              "\n",
              "    .colab-df-convert {\n",
              "      background-color: #E8F0FE;\n",
              "      border: none;\n",
              "      border-radius: 50%;\n",
              "      cursor: pointer;\n",
              "      display: none;\n",
              "      fill: #1967D2;\n",
              "      height: 32px;\n",
              "      padding: 0 0 0 0;\n",
              "      width: 32px;\n",
              "    }\n",
              "\n",
              "    .colab-df-convert:hover {\n",
              "      background-color: #E2EBFA;\n",
              "      box-shadow: 0px 1px 2px rgba(60, 64, 67, 0.3), 0px 1px 3px 1px rgba(60, 64, 67, 0.15);\n",
              "      fill: #174EA6;\n",
              "    }\n",
              "\n",
              "    [theme=dark] .colab-df-convert {\n",
              "      background-color: #3B4455;\n",
              "      fill: #D2E3FC;\n",
              "    }\n",
              "\n",
              "    [theme=dark] .colab-df-convert:hover {\n",
              "      background-color: #434B5C;\n",
              "      box-shadow: 0px 1px 3px 1px rgba(0, 0, 0, 0.15);\n",
              "      filter: drop-shadow(0px 1px 2px rgba(0, 0, 0, 0.3));\n",
              "      fill: #FFFFFF;\n",
              "    }\n",
              "  </style>\n",
              "\n",
              "      <script>\n",
              "        const buttonEl =\n",
              "          document.querySelector('#df-04faa723-c6cd-4cb4-a6af-2829428cc88c button.colab-df-convert');\n",
              "        buttonEl.style.display =\n",
              "          google.colab.kernel.accessAllowed ? 'block' : 'none';\n",
              "\n",
              "        async function convertToInteractive(key) {\n",
              "          const element = document.querySelector('#df-04faa723-c6cd-4cb4-a6af-2829428cc88c');\n",
              "          const dataTable =\n",
              "            await google.colab.kernel.invokeFunction('convertToInteractive',\n",
              "                                                     [key], {});\n",
              "          if (!dataTable) return;\n",
              "\n",
              "          const docLinkHtml = 'Like what you see? Visit the ' +\n",
              "            '<a target=\"_blank\" href=https://colab.research.google.com/notebooks/data_table.ipynb>data table notebook</a>'\n",
              "            + ' to learn more about interactive tables.';\n",
              "          element.innerHTML = '';\n",
              "          dataTable['output_type'] = 'display_data';\n",
              "          await google.colab.output.renderOutput(dataTable, element);\n",
              "          const docLink = document.createElement('div');\n",
              "          docLink.innerHTML = docLinkHtml;\n",
              "          element.appendChild(docLink);\n",
              "        }\n",
              "      </script>\n",
              "    </div>\n",
              "  </div>\n",
              "  "
            ],
            "text/plain": [
              "                                                  MY  \\\n",
              "0  ပြင်သစ်နိုင်ငံ ပါရီမြို့ ပါ့ဒက်စ် ပရင့်စက် ၌ ၂...   \n",
              "1  အန်ဒရီယာ မာစီ သည် အီတလီ အတွက် စမ်းသပ်မှု တစ်ခု...   \n",
              "2  ပထမ တစ်ဝက် ၏ တော်တော်များများ အတွက် ကစားပွဲ ကိ...   \n",
              "3  ပေါ်တူဂီ သည် ဘယ်သောအခါမှ စွန့်လွှတ်မှု မရှိခဲ့...   \n",
              "4  အီတလီ သည် ပထမပိုင်း ၌ ၁၆-၅ ဖြင့် ဦးဆောင်ခဲ့ သေ...   \n",
              "\n",
              "                                                  EN  \n",
              "0  Italy have defeated Portugal 31-5 in Pool C of...  \n",
              "1  Andrea Masi opened the scoring in the fourth m...  \n",
              "2  Despite controlling the game for much of the f...  \n",
              "3  Portugal never gave up and David Penalva score...  \n",
              "4  Italy led 16-5 at half time but were matched b...  "
            ]
          },
          "execution_count": 2,
          "metadata": {},
          "output_type": "execute_result"
        }
      ],
      "source": [
        "# Load the datasets\n",
        "import pandas as pd\n",
        "\n",
        "data_my = pd.read_csv('/content/nlp-assignments/07-Machine-Translation/data/data_my.txt', sep='\\t', header=None)\n",
        "data_en = pd.read_csv('/content/nlp-assignments/07-Machine-Translation/data/data_en.txt', sep='\\t', header=None)\n",
        "\n",
        "data_my.columns = ['REF', 'MY']\n",
        "data_en.columns = ['REF', 'EN']\n",
        "\n",
        "df = pd.merge(data_my, data_en, on='REF')\n",
        "df = df.drop('REF', axis=1)\n",
        "df = df.dropna()\n",
        "\n",
        "df.info()\n",
        "df.head()"
      ]
    },
    {
      "cell_type": "code",
      "execution_count": 3,
      "metadata": {
        "colab": {
          "base_uri": "https://localhost:8080/"
        },
        "id": "crIVyZSmfSpu",
        "outputId": "cba21cee-7645-43c4-af2c-acb1149276bb"
      },
      "outputs": [
        {
          "data": {
            "text/plain": [
              "[['ပြင်သစ်နိုင်ငံ ပါရီမြို့ ပါ့ဒက်စ် ပရင့်စက် ၌ ၂၀၀၇ခုနှစ် ရပ်ဘီ ကမ္ဘာ့ ဖလား တွင် အီတလီ သည် ပေါ်တူဂီ ကို ၃၁-၅ ဂိုး ဖြင့် ရေကူးကန် စီ တွင် ရှုံးနိမ့်သွားပါသည် ။',\n",
              "  'Italy have defeated Portugal 31-5 in Pool C of the 2007 Rugby World Cup at Parc des Princes, Paris, France.'],\n",
              " ['အန်ဒရီယာ မာစီ သည် အီတလီ အတွက် စမ်းသပ်မှု တစ်ခု အဖြစ် စတုတ္ထ မိနစ် တွင် အမှတ်ပေးခြင်း ကို ဖွင့်လှစ်ပေးခဲ့သည် ။',\n",
              "  'Andrea Masi opened the scoring in the fourth minute with a try for Italy.'],\n",
              " ['ပထမ တစ်ဝက် ၏ တော်တော်များများ အတွက် ကစားပွဲ ကို ထိန်းချုပ်ခြင်း မရှိခဲ့လျှင် အီတလီ သည် ပွဲနားချိန် မတိုင်မှီ အခြား မည်သည့် ကြိုးစားမှု များ ကိုမှ အမှတ် မရနိုင် ပေမယ့် ဒေးဗစ် ဘော်တိုလပ်စီ သည် သူတို့၏ ဦးဆောင်မှု ကို အဓွန့်ရှည် စေရန် ပယ်နယ်လ်တီ ၃ဂိုး သွင်းပေးခဲ့သည် ။',\n",
              "  'Despite controlling the game for much of the first half, Italy could not score any other tries before the interval but David Bortolussi kicked three penalties to extend their lead.'],\n",
              " ['ပေါ်တူဂီ သည် ဘယ်သောအခါမှ စွန့်လွှတ်မှု မရှိခဲ့ ပဲ ဒေးဗစ် ပန်နယ်ဗါ သည် ၃၃ မိနစ် တွင် သူတို့ ၏ ကစားပွဲ ရဲ့ အမှတ်များ ကိုသာ အထောက်အကူပြုသည့် ကြိုးစားမှု တစ်ခု မှ အမှတ်ရခဲ့ပါသည်။',\n",
              "  'Portugal never gave up and David Penalva scored a try in the 33rd minute, providing their only points of the match.'],\n",
              " ['အီတလီ သည် ပထမပိုင်း ၌ ၁၆-၅ ဖြင့် ဦးဆောင်ခဲ့ သော်လည်း ပေါ်တူဂီ မှ ဒုတိယပိုင်း တော်တော်များများ တွင် ဂိုးအရေအတွက်ညီစေခဲ့သည် ။',\n",
              "  'Italy led 16-5 at half time but were matched by Portugal for much of the second half.']]"
            ]
          },
          "execution_count": 3,
          "metadata": {},
          "output_type": "execute_result"
        }
      ],
      "source": [
        "# Convert the dataframe into a list of parallel corpus\n",
        "corpus = df.values.tolist()\n",
        "\n",
        "corpus[0:5]"
      ]
    },
    {
      "cell_type": "markdown",
      "metadata": {
        "id": "GVvA32LkS-ob",
        "jp-MarkdownHeadingCollapsed": true,
        "tags": []
      },
      "source": [
        "## 2. Splitting Data"
      ]
    },
    {
      "cell_type": "code",
      "execution_count": 4,
      "metadata": {
        "colab": {
          "base_uri": "https://localhost:8080/"
        },
        "id": "CrCDX1wnUYgt",
        "outputId": "d3547b20-99d6-4be6-d638-9044eef1e1d8"
      },
      "outputs": [
        {
          "data": {
            "text/plain": [
              "19166"
            ]
          },
          "execution_count": 4,
          "metadata": {},
          "output_type": "execute_result"
        }
      ],
      "source": [
        "# Check the size of the corpus\n",
        "len(corpus)"
      ]
    },
    {
      "cell_type": "code",
      "execution_count": 5,
      "metadata": {
        "colab": {
          "base_uri": "https://localhost:8080/"
        },
        "id": "0YAQgZnsS-oc",
        "outputId": "4e93adf9-bede-43fc-9f59-5707dc82eae4"
      },
      "outputs": [
        {
          "data": {
            "text/plain": [
              "(15332, 1916, 1918)"
            ]
          },
          "execution_count": 5,
          "metadata": {},
          "output_type": "execute_result"
        }
      ],
      "source": [
        "# Split the corpus into training, validataion and test sets\n",
        "random.shuffle(corpus)\n",
        "\n",
        "train_size = int(len(corpus) * 0.8)\n",
        "val_size   = int(len(corpus) * 0.1)\n",
        "\n",
        "train_set = corpus[:train_size]\n",
        "val_set   = corpus[train_size:(train_size + val_size)]\n",
        "test_set  = corpus[(train_size + val_size):]\n",
        "\n",
        "len(train_set), len(val_set), len(test_set)"
      ]
    },
    {
      "cell_type": "markdown",
      "metadata": {
        "id": "A31AtVhWS-oc",
        "tags": []
      },
      "source": [
        "## 3. Preprocessing \n",
        "\n",
        "### Tokenizing"
      ]
    },
    {
      "cell_type": "code",
      "execution_count": 6,
      "metadata": {
        "id": "cHXZMkNP6hJ-"
      },
      "outputs": [],
      "source": [
        "# Assign the source and target languages\n",
        "SRC_LANGUAGE = 'MY'\n",
        "TRG_LANGUAGE = 'EN'"
      ]
    },
    {
      "cell_type": "code",
      "execution_count": 7,
      "metadata": {
        "id": "35RDGJlrS-od"
      },
      "outputs": [],
      "source": [
        "# Assign place-holders\n",
        "token_transform = {}\n",
        "vocab_transform = {}"
      ]
    },
    {
      "cell_type": "code",
      "execution_count": 8,
      "metadata": {
        "colab": {
          "base_uri": "https://localhost:8080/"
        },
        "id": "qbFRn6249Zm3",
        "outputId": "e1922158-efe9-42b7-b035-b89b27e77ff2"
      },
      "outputs": [
        {
          "name": "stdout",
          "output_type": "stream",
          "text": [
            "Sentence:  “ ပီအေ - ၄၅၇ ကို ကြာရှည်ထားခံခြင်း အတွက် ရွေးချယ်ခြင်း မဟုတ်ပဲ အသုံးပြုရ လွယ်ကူ ပြီး ၊ အဆိပ် - မဖြစ်စေခဲ့ လျှင် ၊ ၄င်း ကို ကောင်း မွန်သော အသုံးချ စရာ တွေ့ရှိလိမ့်မယ် ” ဟု ၊ နယ်သာလန် ရှိ ယူတရီချ် တက္ကသိုလ် ဆေးပညာ စင်တာ ၌ အိတ်အိုင်ဗွီ ပိုး စမ်းသပ် နေသူ ချားလ်စ ဘိုချာ က ပြောခဲ့သည် ။\n",
            "Tokenization:  ['“', 'ပီအေ', '-', '၄၅၇', 'ကို', 'ကြာရှည်', 'ထားခံ', 'ခြင်း', 'အတွက်', 'ရွေးချယ်', 'ခြင်း', 'မ', 'ဟုတ်', 'ပဲ', 'အသုံးပြု', 'ရ', 'လွယ်ကူ', 'ပြီး', '၊', 'အဆိပ်', '-', 'မ', 'ဖြစ်', 'စေ', 'ခဲ့', 'လျှင်', '၊', '၄င်း', 'ကို', 'ကောင်းမွန်', 'သော', 'အသုံးချ', 'စရာ', 'တွေ့', 'ရှိ', 'လိမ့်', 'မယ်', '”', 'ဟု', '၊', 'နယ်သာလန်', 'ရှိယူတရီချ်', 'တက္ကသိုလ်', 'ဆေး', 'ပညာ', 'စင်တာ', '၌', 'အိတ်အိုင်ဗွီပိုးစမ်းသပ်', 'နေ', 'သူ', 'ချားလ်စဘိုချာ', 'က', 'ပြော', 'ခဲ့', 'သည်', '။']\n"
          ]
        }
      ],
      "source": [
        "# Creat the Myanmar tokenizer\n",
        "import pyidaungsu.tokenize as tokenize\n",
        "\n",
        "def myanmar_tokenizer(text):\n",
        "    return tokenize(text, form='word')\n",
        "\n",
        "token_transform[SRC_LANGUAGE] = myanmar_tokenizer\n",
        "\n",
        "print(\"Sentence: \", train_set[0][0])\n",
        "print(\"Tokenization: \", token_transform[SRC_LANGUAGE](train_set[0][0]))"
      ]
    },
    {
      "cell_type": "code",
      "execution_count": 9,
      "metadata": {
        "colab": {
          "base_uri": "https://localhost:8080/"
        },
        "id": "_7dOs3eyS-od",
        "outputId": "1002a1c3-7886-4295-861d-7fa10fbc2513"
      },
      "outputs": [
        {
          "name": "stdout",
          "output_type": "stream",
          "text": [
            "Sentence:  If PA-457 turns out to be non-toxic, easy to use and not to select for resistance, it will find good use, said Charles Boucher who researches HIV at Utrecht university medical center in the Netherlands.\n",
            "Tokenization:  ['If', 'PA-457', 'turns', 'out', 'to', 'be', 'non', '-', 'toxic', ',', 'easy', 'to', 'use', 'and', 'not', 'to', 'select', 'for', 'resistance', ',', 'it', 'will', 'find', 'good', 'use', ',', 'said', 'Charles', 'Boucher', 'who', 'researches', 'HIV', 'at', 'Utrecht', 'university', 'medical', 'center', 'in', 'the', 'Netherlands', '.']\n"
          ]
        }
      ],
      "source": [
        "# Creat the English tokenizer\n",
        "from torchtext.data.utils import get_tokenizer\n",
        "token_transform[TRG_LANGUAGE] = get_tokenizer('spacy', language='en_core_web_sm')\n",
        "\n",
        "print(\"Sentence: \", train_set[0][1])\n",
        "print(\"Tokenization: \", token_transform[TRG_LANGUAGE](train_set[0][1]))"
      ]
    },
    {
      "cell_type": "code",
      "execution_count": 10,
      "metadata": {
        "id": "0Au8iBUjS-od"
      },
      "outputs": [],
      "source": [
        "# helper function to yield list of tokens\n",
        "# here data can be `train` or `val` or `test`\n",
        "def yield_tokens(data, language):\n",
        "    language_index = {SRC_LANGUAGE: 0, TRG_LANGUAGE: 1}\n",
        "\n",
        "    for data_sample in data:\n",
        "        yield token_transform[language](data_sample[language_index[language]]) #either first or second index"
      ]
    },
    {
      "cell_type": "code",
      "execution_count": 11,
      "metadata": {
        "id": "jxNmHDfsS-oe"
      },
      "outputs": [],
      "source": [
        "# Define special symbols and indices\n",
        "UNK_IDX, PAD_IDX, SOS_IDX, EOS_IDX = 0, 1, 2, 3\n",
        "# Make sure the tokens are in order of their indices to properly insert them in vocab\n",
        "special_symbols = ['<unk>', '<pad>', '<sos>', '<eos>']"
      ]
    },
    {
      "cell_type": "markdown",
      "metadata": {
        "id": "Y8Z6Q-AKS-oe",
        "tags": []
      },
      "source": [
        "### Numericalization"
      ]
    },
    {
      "cell_type": "code",
      "execution_count": 12,
      "metadata": {
        "id": "xF9YL5f7S-oe"
      },
      "outputs": [],
      "source": [
        "# Build vocabulary\n",
        "from torchtext.vocab import build_vocab_from_iterator\n",
        "\n",
        "for ln in [SRC_LANGUAGE, TRG_LANGUAGE]: \n",
        "    vocab_transform[ln] = build_vocab_from_iterator(yield_tokens(train_set, ln), \n",
        "                                                    min_freq=2,\n",
        "                                                    specials=special_symbols,\n",
        "                                                    special_first=True)\n",
        "\n",
        "for ln in [SRC_LANGUAGE, TRG_LANGUAGE]:\n",
        "    vocab_transform[ln].set_default_index(UNK_IDX)"
      ]
    },
    {
      "cell_type": "code",
      "execution_count": 13,
      "metadata": {
        "id": "cmq8vg9ehZzM"
      },
      "outputs": [],
      "source": [
        "# Save vocab\n",
        "import pickle\n",
        "\n",
        "file_path = './nlp-assignments/07-Machine-Translation/vocab_transform.pkl'\n",
        "\n",
        "with open(file_path, 'wb') as file:\n",
        "    pickle.dump(vocab_transform, file)"
      ]
    },
    {
      "cell_type": "code",
      "execution_count": 14,
      "metadata": {
        "colab": {
          "base_uri": "https://localhost:8080/"
        },
        "id": "xrd9hgXDS-oe",
        "outputId": "95affaf6-b7e8-4acc-ab52-384ea7971ad6"
      },
      "outputs": [
        {
          "name": "stdout",
          "output_type": "stream",
          "text": [
            "[382, 831, 451, 0, 451]\n",
            "[931, 18, 11, 0, 11]\n"
          ]
        }
      ],
      "source": [
        "#see some examples\n",
        "print(vocab_transform[SRC_LANGUAGE](['ပြင်သစ်', 'အီတလီ', 'ကုလသမဂ္ဂ', 'ဘလာဘလာ', 'ကုလသမဂ္ဂ']))\n",
        "print(vocab_transform[TRG_LANGUAGE](['here', 'is', 'a', 'unknownword', 'a']))"
      ]
    },
    {
      "cell_type": "code",
      "execution_count": 15,
      "metadata": {
        "colab": {
          "base_uri": "https://localhost:8080/",
          "height": 35
        },
        "id": "b7ySki1PS-of",
        "outputId": "994250d4-b12f-4ab0-856f-e4b4b61472a7"
      },
      "outputs": [
        {
          "data": {
            "application/vnd.google.colaboratory.intrinsic+json": {
              "type": "string"
            },
            "text/plain": [
              "'ကုလသမဂ္ဂ'"
            ]
          },
          "execution_count": 15,
          "metadata": {},
          "output_type": "execute_result"
        }
      ],
      "source": [
        "#we can reverse it....\n",
        "mapping = vocab_transform[SRC_LANGUAGE].get_itos()\n",
        "\n",
        "mapping[451]"
      ]
    },
    {
      "cell_type": "code",
      "execution_count": 16,
      "metadata": {
        "colab": {
          "base_uri": "https://localhost:8080/"
        },
        "id": "TDSq3RDzS-of",
        "outputId": "b366d0a0-50c7-422d-b87f-36da42d0dc39"
      },
      "outputs": [
        {
          "data": {
            "text/plain": [
              "('<unk>', '<pad>', '<sos>', '<eos>')"
            ]
          },
          "execution_count": 16,
          "metadata": {},
          "output_type": "execute_result"
        }
      ],
      "source": [
        "#let's try special symbols\n",
        "mapping[0], mapping[1], mapping[2], mapping[3]"
      ]
    },
    {
      "cell_type": "code",
      "execution_count": 17,
      "metadata": {
        "colab": {
          "base_uri": "https://localhost:8080/"
        },
        "id": "CF1irvO-S-of",
        "outputId": "a3e814a3-d814-4e06-dbbe-d51aaf369bdf"
      },
      "outputs": [
        {
          "data": {
            "text/plain": [
              "12131"
            ]
          },
          "execution_count": 17,
          "metadata": {},
          "output_type": "execute_result"
        }
      ],
      "source": [
        "#check unique vocabularies\n",
        "len(mapping)"
      ]
    },
    {
      "cell_type": "markdown",
      "metadata": {
        "id": "A3Z32aZgS-of",
        "tags": []
      },
      "source": [
        "## 4. Preparing Dataloaders"
      ]
    },
    {
      "cell_type": "code",
      "execution_count": 18,
      "metadata": {
        "id": "KLUEGwErS-og"
      },
      "outputs": [],
      "source": [
        "from torch.nn.utils.rnn import pad_sequence\n",
        "from torch.utils.data import DataLoader\n",
        "\n",
        "# helper function to club together sequential operations\n",
        "def sequential_transforms(*transforms):\n",
        "    def func(txt_input):\n",
        "        for transform in transforms:\n",
        "            txt_input = transform(txt_input)\n",
        "        return txt_input\n",
        "    return func\n",
        "\n",
        "# function to add BOS/EOS and create tensor for input sequence indices\n",
        "def tensor_transform(token_ids):\n",
        "    return torch.cat((torch.tensor([SOS_IDX]), \n",
        "                      torch.tensor(token_ids), \n",
        "                      torch.tensor([EOS_IDX])))\n",
        "\n",
        "# src and trg language text transforms to convert raw strings into tensors indices\n",
        "text_transform = {}\n",
        "for ln in [SRC_LANGUAGE, TRG_LANGUAGE]:\n",
        "    text_transform[ln] = sequential_transforms(token_transform[ln], #Tokenization\n",
        "                                               vocab_transform[ln], #Numericalization\n",
        "                                               tensor_transform) # Add BOS/EOS and create tensor\n",
        "\n",
        "\n",
        "# function to collate data samples into batch tesors\n",
        "def collate_batch(batch):\n",
        "    src_batch, src_len_batch, trg_batch = [], [], []\n",
        "    for src_sample, trg_sample in batch:\n",
        "        processed_text = text_transform[SRC_LANGUAGE](src_sample.rstrip(\"\\n\"))\n",
        "        src_batch.append(processed_text)\n",
        "        trg_batch.append(text_transform[TRG_LANGUAGE](trg_sample.rstrip(\"\\n\")))\n",
        "        src_len_batch.append(processed_text.size(0))\n",
        "\n",
        "    src_batch = pad_sequence(src_batch, padding_value=PAD_IDX)\n",
        "    trg_batch = pad_sequence(trg_batch, padding_value=PAD_IDX)\n",
        "    return src_batch, torch.tensor(src_len_batch, dtype=torch.int64), trg_batch"
      ]
    },
    {
      "cell_type": "code",
      "execution_count": 19,
      "metadata": {
        "id": "NWEmK5e5S-og"
      },
      "outputs": [],
      "source": [
        "# Create traning, validataion and test dataloaders\n",
        "batch_size = 16\n",
        "\n",
        "train_loader = DataLoader(train_set, batch_size=batch_size,\n",
        "                              shuffle=True, collate_fn=collate_batch)\n",
        "val_loader = DataLoader(val_set, batch_size=batch_size,\n",
        "                              shuffle=True, collate_fn=collate_batch)\n",
        "test_loader  = DataLoader(test_set, batch_size=batch_size,\n",
        "                             shuffle=True, collate_fn=collate_batch)"
      ]
    },
    {
      "cell_type": "code",
      "execution_count": 20,
      "metadata": {
        "colab": {
          "base_uri": "https://localhost:8080/"
        },
        "id": "wks132OvS-og",
        "outputId": "74e9b51f-af40-4999-e5d8-c0b1ffbb56b6"
      },
      "outputs": [
        {
          "name": "stdout",
          "output_type": "stream",
          "text": [
            "Myanmar shape:  torch.Size([59, 16])\n",
            "English shape:  torch.Size([37, 16])\n"
          ]
        }
      ],
      "source": [
        "# Test the train_loader\n",
        "for my, _, en in train_loader:\n",
        "    break\n",
        "\n",
        "print(\"Myanmar shape: \", my.shape)  # (seq len, batch_size)\n",
        "print(\"English shape: \", en.shape)   # (seq len, batch_size)"
      ]
    },
    {
      "cell_type": "markdown",
      "metadata": {
        "id": "m-2e1hdCS-oh"
      },
      "source": [
        "## 5. Modeling\n",
        "\n",
        "### Encoder"
      ]
    },
    {
      "cell_type": "code",
      "execution_count": 21,
      "metadata": {
        "id": "b7PU-x03S-oh"
      },
      "outputs": [],
      "source": [
        "class Encoder(nn.Module):\n",
        "    def __init__(self, input_dim, emb_dim, hid_dim, dropout):\n",
        "        super().__init__()\n",
        "        \n",
        "        self.embedding = nn.Embedding(input_dim, emb_dim)\n",
        "        self.rnn = nn.GRU(emb_dim, hid_dim, bidirectional = True)\n",
        "        self.fc = nn.Linear(hid_dim * 2, hid_dim)\n",
        "        self.dropout = nn.Dropout(dropout)\n",
        "        \n",
        "    def forward(self, src, src_len):\n",
        "\n",
        "        embedded = self.dropout(self.embedding(src))\n",
        "\n",
        "        packed_embedded = nn.utils.rnn.pack_padded_sequence(embedded, src_len.to('cpu'), enforce_sorted=False)\n",
        "                \n",
        "        packed_outputs, hidden = self.rnn(packed_embedded)        \n",
        "\n",
        "        outputs, _ = nn.utils.rnn.pad_packed_sequence(packed_outputs)\n",
        "        #outputs: [src len, batch size, hid dim * num directions]\n",
        "\n",
        "        hidden = torch.tanh(self.fc(torch.cat((hidden[-2,:,:], hidden[-1,:,:]), dim = 1)))\n",
        "        #hidden: [batch size, hid dim]\n",
        "        \n",
        "        return outputs, hidden"
      ]
    },
    {
      "cell_type": "markdown",
      "metadata": {
        "id": "HJD08k1CKbtt"
      },
      "source": [
        "### Additive Attention"
      ]
    },
    {
      "cell_type": "code",
      "execution_count": 22,
      "metadata": {
        "id": "Pt-gzlrDB2DR"
      },
      "outputs": [],
      "source": [
        "class AdditiveAttention(nn.Module):\n",
        "    def __init__(self, hid_dim):\n",
        "        super().__init__()\n",
        "        \n",
        "        self.v = nn.Linear(hid_dim, 1, bias = False)\n",
        "        self.W = nn.Linear(hid_dim,     hid_dim) #for decoder\n",
        "        self.U = nn.Linear(hid_dim * 2, hid_dim) #for encoder outputs\n",
        "                \n",
        "    def forward(self, hidden, encoder_outputs, mask):\n",
        "\n",
        "        src_len = encoder_outputs.shape[0]\n",
        "\n",
        "        hidden = hidden.unsqueeze(1).repeat(1, src_len, 1)\n",
        "        #hidden = [batch size, src len, hid dim]\n",
        "\n",
        "        encoder_outputs = encoder_outputs.permute(1, 0, 2)\n",
        "        #encoder_outputs = [batch size, src len, hid dim * 2]\n",
        "        \n",
        "        energy = torch.tanh(self.W(hidden) + self.U(encoder_outputs))\n",
        "        #energy = [batch size, src len, hid dim]\n",
        "\n",
        "        attention = self.v(energy).squeeze(2)\n",
        "        #attention = [batch size, src len]\n",
        "\n",
        "        attention = attention.masked_fill(mask, -1e10)\n",
        "        \n",
        "        return F.softmax(attention, dim = 1)"
      ]
    },
    {
      "cell_type": "markdown",
      "metadata": {
        "id": "uMaFFeYMB2kP"
      },
      "source": [
        "### Multiplicative Attention"
      ]
    },
    {
      "cell_type": "code",
      "execution_count": 23,
      "metadata": {
        "id": "Lv2Yqn6UB7JL"
      },
      "outputs": [],
      "source": [
        "class MultiplicativeAttention(nn.Module):\n",
        "    def __init__(self, hid_dim):\n",
        "        super().__init__()\n",
        "        \n",
        "        self.U = nn.Linear(hid_dim * 2, hid_dim) #for encoder outputs\n",
        "                \n",
        "    def forward(self, hidden, encoder_outputs, mask):\n",
        "\n",
        "        hidden = hidden.unsqueeze(1)\n",
        "        #hidden = [batch size, 1, hid dim]\n",
        "\n",
        "        encoder_outputs = encoder_outputs.permute(1, 0, 2)\n",
        "        #encoder_outputs = [batch size, src len, hid dim * 2]\n",
        "\n",
        "        encoder_outputs = self.U(encoder_outputs)\n",
        "        #encoder_outputs = [batch size, src len, hid dim]\n",
        "         \n",
        "        energy = torch.bmm(hidden, encoder_outputs.transpose(1, 2))\n",
        "        #energy = [batch size, 1, src len]\n",
        "        \n",
        "        attention = energy.squeeze(1)\n",
        "        #attention = [batch size, src len]\n",
        "\n",
        "        attention = attention.masked_fill(mask, -1e10)\n",
        "        \n",
        "        return F.softmax(attention, dim = 1)"
      ]
    },
    {
      "cell_type": "markdown",
      "metadata": {
        "id": "Bex7kxB3Kmd0"
      },
      "source": [
        "### General Attention"
      ]
    },
    {
      "cell_type": "code",
      "execution_count": 24,
      "metadata": {
        "id": "z-C2f1hwKnDE"
      },
      "outputs": [],
      "source": [
        "class GeneralAttention(nn.Module):\n",
        "    def __init__(self):\n",
        "        super().__init__()\n",
        "                \n",
        "    def forward(self, hidden, encoder_outputs, mask):\n",
        "\n",
        "        hidden = hidden.unsqueeze(1).repeat(1, 1, 2)\n",
        "        #hidden = [batch size, 1, hid dim * 2]\n",
        "\n",
        "        encoder_outputs = encoder_outputs.permute(1, 2, 0)\n",
        "        #encoder_outputs = [batch size, hid dim * 2, src len]\n",
        "        \n",
        "        energy = torch.bmm(hidden, encoder_outputs)\n",
        "        #energy = [batch size, 1, src len]\n",
        "\n",
        "        attention = energy.squeeze(1)\n",
        "        #attention = [batch size, src len]\n",
        "\n",
        "        attention = attention.masked_fill(mask, -1e10)\n",
        "        \n",
        "        return F.softmax(attention, dim = 1)"
      ]
    },
    {
      "cell_type": "markdown",
      "metadata": {
        "id": "ErC6YwDSS-oi",
        "tags": []
      },
      "source": [
        "### Decoder"
      ]
    },
    {
      "cell_type": "code",
      "execution_count": 25,
      "metadata": {
        "id": "FjjCBLMaS-oi"
      },
      "outputs": [],
      "source": [
        "class Decoder(nn.Module):\n",
        "    def __init__(self, output_dim, emb_dim, hid_dim, dropout, attention):\n",
        "        super().__init__()\n",
        "\n",
        "        self.output_dim = output_dim\n",
        "        self.attention = attention\n",
        "        self.embedding = nn.Embedding(output_dim, emb_dim)\n",
        "        self.gru = nn.GRU((hid_dim * 2) + emb_dim, hid_dim)\n",
        "        self.fc = nn.Linear((hid_dim * 2) + hid_dim + emb_dim, output_dim)\n",
        "        self.dropout = nn.Dropout(dropout)\n",
        "        \n",
        "    def forward(self, input, hidden, encoder_outputs, mask):\n",
        "      \n",
        "        input = input.unsqueeze(0)\n",
        "\n",
        "        embedded = self.dropout(self.embedding(input))\n",
        "\n",
        "        a = self.attention(hidden, encoder_outputs, mask)\n",
        "\n",
        "        a = a.unsqueeze(1)\n",
        "\n",
        "        encoder_outputs = encoder_outputs.permute(1, 0, 2)\n",
        "\n",
        "        weighted = torch.bmm(a, encoder_outputs)\n",
        "\n",
        "        weighted = weighted.permute(1, 0, 2)\n",
        "\n",
        "        rnn_input = torch.cat((embedded, weighted), dim = 2)\n",
        "   \n",
        "        output, hidden = self.gru(rnn_input, hidden.unsqueeze(0))\n",
        "\n",
        "        assert (output == hidden).all()\n",
        "        \n",
        "        embedded = embedded.squeeze(0)\n",
        "        output = output.squeeze(0)\n",
        "        weighted = weighted.squeeze(0)\n",
        "        \n",
        "        prediction = self.fc(torch.cat((output, weighted, embedded), dim = 1))\n",
        "        \n",
        "        return prediction, hidden.squeeze(0), a.squeeze(1)"
      ]
    },
    {
      "cell_type": "markdown",
      "metadata": {
        "id": "Afov6lRGS-oi"
      },
      "source": [
        "### Seq2Seq"
      ]
    },
    {
      "cell_type": "code",
      "execution_count": 26,
      "metadata": {
        "id": "98fVboXCS-oi"
      },
      "outputs": [],
      "source": [
        "class Seq2Seq(nn.Module):\n",
        "    def __init__(self, encoder, decoder, src_pad_idx, device):\n",
        "        super().__init__()\n",
        "        \n",
        "        self.encoder = encoder\n",
        "        self.decoder = decoder\n",
        "        self.src_pad_idx = src_pad_idx\n",
        "        self.device = device\n",
        "        \n",
        "    def create_mask(self, src):\n",
        "        mask = (src == self.src_pad_idx).permute(1, 0)\n",
        "        return mask\n",
        "        \n",
        "    def forward(self, src, src_len, trg, teacher_forcing_ratio = 0.5):\n",
        "                    \n",
        "        batch_size = src.shape[1]\n",
        "        trg_len = trg.shape[0]\n",
        "        trg_vocab_size = self.decoder.output_dim\n",
        "\n",
        "        outputs = torch.zeros(trg_len, batch_size, trg_vocab_size).to(self.device)\n",
        "\n",
        "        attentions = torch.zeros(trg_len, batch_size, src.shape[0]).to(self.device)\n",
        "\n",
        "        encoder_outputs, hidden = self.encoder(src, src_len)\n",
        "\n",
        "        input_ = trg[0,:]\n",
        "        \n",
        "        mask = self.create_mask(src)\n",
        "                \n",
        "        for t in range(1, trg_len):\n",
        "\n",
        "            output, hidden, attention = self.decoder(input_, hidden, encoder_outputs, mask)\n",
        "\n",
        "            outputs[t] = output\n",
        "\n",
        "            attentions[t] = attention\n",
        "\n",
        "            teacher_force = random.random() < teacher_forcing_ratio\n",
        "\n",
        "            top1 = output.argmax(1) \n",
        "\n",
        "            input_ = trg[t] if teacher_force else top1\n",
        "            \n",
        "        return outputs, attentions"
      ]
    },
    {
      "cell_type": "markdown",
      "metadata": {
        "id": "LshZSBUvS-oi",
        "tags": []
      },
      "source": [
        "## 6. Training and Evaluation"
      ]
    },
    {
      "cell_type": "code",
      "execution_count": 27,
      "metadata": {
        "id": "484hkCNAS-oj"
      },
      "outputs": [],
      "source": [
        "def initialize_weights(m):\n",
        "    for name, param in m.named_parameters():\n",
        "        if 'weight' in name:\n",
        "            nn.init.normal_(param.data, mean=0, std=0.01)\n",
        "        else:\n",
        "            nn.init.constant_(param.data, 0)"
      ]
    },
    {
      "cell_type": "code",
      "execution_count": 28,
      "metadata": {
        "id": "jsLA4FuaS-oj"
      },
      "outputs": [],
      "source": [
        "# Set hyperparameters\n",
        "input_dim   = len(vocab_transform[SRC_LANGUAGE])\n",
        "output_dim  = len(vocab_transform[TRG_LANGUAGE])\n",
        "emb_dim     = 64  \n",
        "hid_dim     = 128  \n",
        "dropout     = 0.5\n",
        "lr          = 0.001"
      ]
    },
    {
      "cell_type": "markdown",
      "metadata": {
        "id": "NnWHUc4jqF8C"
      },
      "source": [
        "### 6.1. Additive Attention"
      ]
    },
    {
      "cell_type": "code",
      "execution_count": 29,
      "metadata": {
        "colab": {
          "base_uri": "https://localhost:8080/"
        },
        "id": "c_9vO613MUus",
        "outputId": "d3134535-5258-40c6-d6c8-7f7cf5c72f31"
      },
      "outputs": [
        {
          "data": {
            "text/plain": [
              "Seq2Seq(\n",
              "  (encoder): Encoder(\n",
              "    (embedding): Embedding(12131, 64)\n",
              "    (rnn): GRU(64, 128, bidirectional=True)\n",
              "    (fc): Linear(in_features=256, out_features=128, bias=True)\n",
              "    (dropout): Dropout(p=0.5, inplace=False)\n",
              "  )\n",
              "  (decoder): Decoder(\n",
              "    (attention): AdditiveAttention(\n",
              "      (v): Linear(in_features=128, out_features=1, bias=False)\n",
              "      (W): Linear(in_features=128, out_features=128, bias=True)\n",
              "      (U): Linear(in_features=256, out_features=128, bias=True)\n",
              "    )\n",
              "    (embedding): Embedding(15568, 64)\n",
              "    (gru): GRU(320, 128)\n",
              "    (fc): Linear(in_features=448, out_features=15568, bias=True)\n",
              "    (dropout): Dropout(p=0.5, inplace=False)\n",
              "  )\n",
              ")"
            ]
          },
          "execution_count": 29,
          "metadata": {},
          "output_type": "execute_result"
        }
      ],
      "source": [
        "# Initialize the model\n",
        "attn = AdditiveAttention(hid_dim)\n",
        "enc  = Encoder(input_dim,  emb_dim,  hid_dim, dropout)\n",
        "dec  = Decoder(output_dim, emb_dim,  hid_dim, dropout, attn)\n",
        "\n",
        "SRC_PAD_IDX = PAD_IDX\n",
        "\n",
        "model = Seq2Seq(enc, dec, SRC_PAD_IDX, device).to(device)\n",
        "model.apply(initialize_weights)"
      ]
    },
    {
      "cell_type": "code",
      "execution_count": 30,
      "metadata": {
        "colab": {
          "base_uri": "https://localhost:8080/"
        },
        "id": "3bhEGnmoS-oj",
        "outputId": "05726d09-38a8-4483-d432-a9e6c0804e81"
      },
      "outputs": [
        {
          "name": "stdout",
          "output_type": "stream",
          "text": [
            "776384\n",
            " 24576\n",
            " 49152\n",
            "   384\n",
            "   384\n",
            " 24576\n",
            " 49152\n",
            "   384\n",
            "   384\n",
            " 32768\n",
            "   128\n",
            "   128\n",
            " 16384\n",
            "   128\n",
            " 32768\n",
            "   128\n",
            "996352\n",
            "122880\n",
            " 49152\n",
            "   384\n",
            "   384\n",
            "6974464\n",
            " 15568\n",
            "______\n",
            "9166992\n"
          ]
        }
      ],
      "source": [
        "# Print the number of model parameters\n",
        "def count_parameters(model):\n",
        "    params = [p.numel() for p in model.parameters() if p.requires_grad]\n",
        "    for item in params:\n",
        "        print(f'{item:>6}')\n",
        "    print(f'______\\n{sum(params):>6}')\n",
        "    \n",
        "count_parameters(model)"
      ]
    },
    {
      "cell_type": "code",
      "execution_count": 31,
      "metadata": {
        "id": "97UvEGT6LzGO"
      },
      "outputs": [],
      "source": [
        "# Define loss and optimizer\n",
        "import torch.optim as optim\n",
        "\n",
        "optimizer = optim.Adam(model.parameters(), lr=lr)\n",
        "criterion = nn.CrossEntropyLoss(ignore_index = PAD_IDX)"
      ]
    },
    {
      "cell_type": "code",
      "execution_count": 32,
      "metadata": {
        "id": "S61OnhqSS-oj"
      },
      "outputs": [],
      "source": [
        "# Create the function for training\n",
        "def train(model, loader, optimizer, criterion, clip, loader_length):\n",
        "    \n",
        "    model.train()\n",
        "    epoch_loss = 0\n",
        "    \n",
        "    for src, src_length, trg in loader:\n",
        "        \n",
        "        src = src.to(device)\n",
        "        trg = trg.to(device)\n",
        "        \n",
        "        optimizer.zero_grad()\n",
        "        \n",
        "        output, attentions = model(src, src_length, trg)\n",
        "        \n",
        "        #trg    = [trg len, batch size]\n",
        "        #output = [trg len, batch size, output dim]\n",
        "        output_dim = output.shape[-1]\n",
        "        \n",
        "        #the loss function only works on 2d inputs with 1d targets thus we need to flatten each of them\n",
        "        output = output[1:].view(-1, output_dim)\n",
        "        trg    = trg[1:].view(-1)\n",
        "        #trg    = [(trg len - 1) * batch size]\n",
        "        #output = [(trg len - 1) * batch size, output dim]\n",
        "        \n",
        "        loss = criterion(output, trg)\n",
        "        \n",
        "        loss.backward()\n",
        "        \n",
        "        #clip the gradients to prevent them from exploding (a common issue in RNNs)\n",
        "        torch.nn.utils.clip_grad_norm_(model.parameters(), clip)\n",
        "        \n",
        "        optimizer.step()\n",
        "        \n",
        "        epoch_loss += loss.item()\n",
        "        \n",
        "    return epoch_loss / loader_length"
      ]
    },
    {
      "cell_type": "code",
      "execution_count": 33,
      "metadata": {
        "id": "up78lf8nS-ok"
      },
      "outputs": [],
      "source": [
        "# Create the function for evaluation\n",
        "def evaluate(model, loader, criterion, loader_length):\n",
        "        \n",
        "    #turn off dropout (and batch norm if used)\n",
        "    model.eval()\n",
        "    \n",
        "    epoch_loss = 0\n",
        "    \n",
        "    with torch.no_grad():\n",
        "    \n",
        "        for src, src_length, trg in loader:\n",
        "        \n",
        "            src = src.to(device)\n",
        "            trg = trg.to(device)\n",
        "\n",
        "            output, attentions = model(src, src_length, trg, 0) #turn off teacher forcing\n",
        "\n",
        "            #trg    = [trg len, batch size]\n",
        "            #output = [trg len, batch size, output dim]\n",
        "\n",
        "            output_dim = output.shape[-1]\n",
        "            \n",
        "            output = output[1:].view(-1, output_dim)\n",
        "            trg = trg[1:].view(-1)\n",
        "\n",
        "            #trg    = [(trg len - 1) * batch size]\n",
        "            #output = [(trg len - 1) * batch size, output dim]\n",
        "\n",
        "            loss = criterion(output, trg)\n",
        "            \n",
        "            epoch_loss += loss.item()\n",
        "        \n",
        "    return epoch_loss / loader_length"
      ]
    },
    {
      "cell_type": "code",
      "execution_count": 34,
      "metadata": {
        "id": "s_gNRrfaS-ok"
      },
      "outputs": [],
      "source": [
        "# Find the lengths of the dataloaders\n",
        "train_loader_length = len(list(iter(train_loader)))\n",
        "val_loader_length   = len(list(iter(val_loader)))\n",
        "test_loader_length  = len(list(iter(test_loader)))"
      ]
    },
    {
      "cell_type": "code",
      "execution_count": 35,
      "metadata": {
        "id": "Hb4O0uXLS-ok"
      },
      "outputs": [],
      "source": [
        "# Create the function to calculate training epoch time\n",
        "def epoch_time(start_time, end_time):\n",
        "    elapsed_time = end_time - start_time\n",
        "    elapsed_mins = int(elapsed_time / 60)\n",
        "    elapsed_secs = int(elapsed_time - (elapsed_mins * 60))\n",
        "    return elapsed_mins, elapsed_secs"
      ]
    },
    {
      "cell_type": "code",
      "execution_count": 36,
      "metadata": {
        "id": "gcbCauL7Q-pX"
      },
      "outputs": [],
      "source": [
        "# Create the folder to save models\n",
        "import os\n",
        "from os import path\n",
        "\n",
        "if path.exists('./models') == False:\n",
        "  os.mkdir('./models')"
      ]
    },
    {
      "cell_type": "code",
      "execution_count": 38,
      "metadata": {
        "colab": {
          "base_uri": "https://localhost:8080/"
        },
        "id": "2k9QRbqYS-ok",
        "outputId": "38c62b6d-92e5-4369-80ac-6e62dccbc58e"
      },
      "outputs": [
        {
          "name": "stdout",
          "output_type": "stream",
          "text": [
            "Epoch: 01 | Time: 4m 48s\n",
            "\tTrain Loss: 5.912 | Train PPL: 369.361\n",
            "\t Val. Loss: 6.228 |  Val. PPL: 506.664\n",
            "Epoch: 02 | Time: 4m 42s\n",
            "\tTrain Loss: 5.689 | Train PPL: 295.532\n",
            "\t Val. Loss: 6.156 |  Val. PPL: 471.473\n",
            "Epoch: 03 | Time: 4m 28s\n",
            "\tTrain Loss: 5.478 | Train PPL: 239.251\n",
            "\t Val. Loss: 6.073 |  Val. PPL: 434.134\n",
            "Epoch: 04 | Time: 4m 23s\n",
            "\tTrain Loss: 5.288 | Train PPL: 197.896\n",
            "\t Val. Loss: 6.054 |  Val. PPL: 425.979\n",
            "Epoch: 05 | Time: 4m 24s\n",
            "\tTrain Loss: 5.092 | Train PPL: 162.759\n",
            "\t Val. Loss: 6.026 |  Val. PPL: 414.059\n"
          ]
        }
      ],
      "source": [
        "# Train the model\n",
        "best_val_loss = float('inf')\n",
        "num_epochs = 5\n",
        "clip       = 1\n",
        "\n",
        "save_path = f'./models/Additive{model.__class__.__name__}.pt'\n",
        "\n",
        "train_losses = []\n",
        "val_losses   = []\n",
        "\n",
        "for epoch in range(num_epochs):\n",
        "    \n",
        "    start_time = time.time()\n",
        "\n",
        "    train_loss = train(model, train_loader, optimizer, criterion, clip, train_loader_length)\n",
        "    val_loss   = evaluate(model, val_loader, criterion, val_loader_length)\n",
        "    \n",
        "    #for plotting\n",
        "    train_losses.append(train_loss)\n",
        "    val_losses.append(val_loss)\n",
        "    \n",
        "    end_time = time.time()\n",
        "    \n",
        "    epoch_mins, epoch_secs = epoch_time(start_time, end_time)\n",
        "\n",
        "    \n",
        "    if val_loss < best_val_loss:\n",
        "        best_val_loss = val_loss\n",
        "        torch.save(model.state_dict(), save_path)\n",
        "    \n",
        "    print(f'Epoch: {epoch+1:02} | Time: {epoch_mins}m {epoch_secs}s')\n",
        "    print(f'\\tTrain Loss: {train_loss:.3f} | Train PPL: {math.exp(train_loss):7.3f}')\n",
        "    print(f'\\t Val. Loss: {val_loss:.3f} |  Val. PPL: {math.exp(val_loss):7.3f}')\n",
        "    \n",
        "    #lower perplexity is better"
      ]
    },
    {
      "cell_type": "code",
      "execution_count": 39,
      "metadata": {
        "colab": {
          "base_uri": "https://localhost:8080/",
          "height": 328
        },
        "id": "-I-m_G2yS-ol",
        "outputId": "9da4e19b-3e37-4e0d-ae87-9c229bdd78ef"
      },
      "outputs": [
        {
          "data": {
            "text/plain": [
              "Text(0, 0.5, 'loss')"
            ]
          },
          "execution_count": 39,
          "metadata": {},
          "output_type": "execute_result"
        },
        {
          "data": {
            "image/png": "[encoded data removed]",
            "text/plain": [
              "<Figure size 500x300 with 1 Axes>"
            ]
          },
          "metadata": {},
          "output_type": "display_data"
        }
      ],
      "source": [
        "# Plot the losses\n",
        "import matplotlib.pyplot as plt\n",
        "fig = plt.figure(figsize=(5, 3))\n",
        "ax = fig.add_subplot(1, 1, 1)\n",
        "ax.plot(train_losses, label = 'train loss')\n",
        "ax.plot(val_losses, label = 'val loss')\n",
        "plt.legend()\n",
        "ax.set_xlabel('updates')\n",
        "ax.set_ylabel('loss')"
      ]
    },
    {
      "cell_type": "code",
      "execution_count": 40,
      "metadata": {
        "colab": {
          "base_uri": "https://localhost:8080/"
        },
        "id": "_3cAom0rS-ol",
        "outputId": "0bd25f31-c38c-45d5-b6e0-4c6fd87bba13"
      },
      "outputs": [
        {
          "name": "stdout",
          "output_type": "stream",
          "text": [
            "| Test Loss: 6.016 | Test PPL: 410.081 |\n"
          ]
        }
      ],
      "source": [
        "# Evaluate the model with the test set\n",
        "model.load_state_dict(torch.load(save_path))\n",
        "test_loss = evaluate(model, test_loader, criterion, test_loader_length)\n",
        "\n",
        "print(f'| Test Loss: {test_loss:.3f} | Test PPL: {math.exp(test_loss):7.3f} |')"
      ]
    },
    {
      "cell_type": "markdown",
      "metadata": {
        "id": "NCOjUdRSr8cz"
      },
      "source": [
        "### 6.2. Multiplicative Attention"
      ]
    },
    {
      "cell_type": "code",
      "execution_count": 53,
      "metadata": {
        "colab": {
          "base_uri": "https://localhost:8080/"
        },
        "id": "bLKc7lb7sCS3",
        "outputId": "d3fd3cef-9d49-4a58-d0ea-bdb04e02ba6b"
      },
      "outputs": [
        {
          "data": {
            "text/plain": [
              "Seq2Seq(\n",
              "  (encoder): Encoder(\n",
              "    (embedding): Embedding(12131, 64)\n",
              "    (rnn): GRU(64, 128, bidirectional=True)\n",
              "    (fc): Linear(in_features=256, out_features=128, bias=True)\n",
              "    (dropout): Dropout(p=0.5, inplace=False)\n",
              "  )\n",
              "  (decoder): Decoder(\n",
              "    (attention): MultiplicativeAttention(\n",
              "      (U): Linear(in_features=256, out_features=128, bias=True)\n",
              "    )\n",
              "    (embedding): Embedding(15568, 64)\n",
              "    (gru): GRU(320, 128)\n",
              "    (fc): Linear(in_features=448, out_features=15568, bias=True)\n",
              "    (dropout): Dropout(p=0.5, inplace=False)\n",
              "  )\n",
              ")"
            ]
          },
          "execution_count": 53,
          "metadata": {},
          "output_type": "execute_result"
        }
      ],
      "source": [
        "# Initialize the model\n",
        "attn = MultiplicativeAttention(hid_dim)\n",
        "enc  = Encoder(input_dim,  emb_dim,  hid_dim, dropout)\n",
        "dec  = Decoder(output_dim, emb_dim,  hid_dim, dropout, attn)\n",
        "\n",
        "SRC_PAD_IDX = PAD_IDX\n",
        "\n",
        "model = Seq2Seq(enc, dec, SRC_PAD_IDX, device).to(device)\n",
        "model.apply(initialize_weights)"
      ]
    },
    {
      "cell_type": "code",
      "execution_count": 54,
      "metadata": {
        "colab": {
          "base_uri": "https://localhost:8080/"
        },
        "id": "o4oX_KikxcC8",
        "outputId": "499a1eb7-12ee-4c02-fede-84d476c23175"
      },
      "outputs": [
        {
          "name": "stdout",
          "output_type": "stream",
          "text": [
            "776384\n",
            " 24576\n",
            " 49152\n",
            "   384\n",
            "   384\n",
            " 24576\n",
            " 49152\n",
            "   384\n",
            "   384\n",
            " 32768\n",
            "   128\n",
            " 32768\n",
            "   128\n",
            "996352\n",
            "122880\n",
            " 49152\n",
            "   384\n",
            "   384\n",
            "6974464\n",
            " 15568\n",
            "______\n",
            "9150352\n"
          ]
        }
      ],
      "source": [
        "# Print the number of model parameters\n",
        "def count_parameters(model):\n",
        "    params = [p.numel() for p in model.parameters() if p.requires_grad]\n",
        "    for item in params:\n",
        "        print(f'{item:>6}')\n",
        "    print(f'______\\n{sum(params):>6}')\n",
        "    \n",
        "count_parameters(model)"
      ]
    },
    {
      "cell_type": "code",
      "execution_count": 55,
      "metadata": {
        "id": "Jg__NR71xqiF"
      },
      "outputs": [],
      "source": [
        "# Define loss and optimizer\n",
        "import torch.optim as optim\n",
        "\n",
        "optimizer = optim.Adam(model.parameters(), lr=lr)\n",
        "criterion = nn.CrossEntropyLoss(ignore_index = PAD_IDX)"
      ]
    },
    {
      "cell_type": "code",
      "execution_count": 56,
      "metadata": {
        "colab": {
          "base_uri": "https://localhost:8080/"
        },
        "id": "cv-AteH-xvGm",
        "outputId": "62a32ad3-a6fd-402b-80b5-0d063a056639"
      },
      "outputs": [
        {
          "name": "stdout",
          "output_type": "stream",
          "text": [
            "Epoch: 01 | Time: 4m 12s\n",
            "\tTrain Loss: 6.687 | Train PPL: 801.661\n",
            "\t Val. Loss: 6.452 |  Val. PPL: 634.074\n",
            "Epoch: 02 | Time: 4m 13s\n",
            "\tTrain Loss: 6.266 | Train PPL: 526.274\n",
            "\t Val. Loss: 6.382 |  Val. PPL: 590.999\n",
            "Epoch: 03 | Time: 4m 10s\n",
            "\tTrain Loss: 6.026 | Train PPL: 414.098\n",
            "\t Val. Loss: 6.281 |  Val. PPL: 534.328\n",
            "Epoch: 04 | Time: 4m 17s\n",
            "\tTrain Loss: 5.816 | Train PPL: 335.715\n",
            "\t Val. Loss: 6.197 |  Val. PPL: 491.499\n",
            "Epoch: 05 | Time: 4m 19s\n",
            "\tTrain Loss: 5.628 | Train PPL: 278.125\n",
            "\t Val. Loss: 6.120 |  Val. PPL: 454.646\n"
          ]
        }
      ],
      "source": [
        "# Train the model\n",
        "best_val_loss = float('inf')\n",
        "num_epochs = 5\n",
        "clip       = 1\n",
        "\n",
        "save_path = f'./models/Multiplicative{model.__class__.__name__}.pt'\n",
        "\n",
        "train_losses = []\n",
        "val_losses   = []\n",
        "\n",
        "for epoch in range(num_epochs):\n",
        "    \n",
        "    start_time = time.time()\n",
        "\n",
        "    train_loss = train(model, train_loader, optimizer, criterion, clip, train_loader_length)\n",
        "    val_loss   = evaluate(model, val_loader, criterion, val_loader_length)\n",
        "    \n",
        "    #for plotting\n",
        "    train_losses.append(train_loss)\n",
        "    val_losses.append(val_loss)\n",
        "    \n",
        "    end_time = time.time()\n",
        "    \n",
        "    epoch_mins, epoch_secs = epoch_time(start_time, end_time)\n",
        "\n",
        "    \n",
        "    if val_loss < best_val_loss:\n",
        "        best_val_loss = val_loss\n",
        "        torch.save(model.state_dict(), save_path)\n",
        "    \n",
        "    print(f'Epoch: {epoch+1:02} | Time: {epoch_mins}m {epoch_secs}s')\n",
        "    print(f'\\tTrain Loss: {train_loss:.3f} | Train PPL: {math.exp(train_loss):7.3f}')\n",
        "    print(f'\\t Val. Loss: {val_loss:.3f} |  Val. PPL: {math.exp(val_loss):7.3f}')\n",
        "    \n",
        "    #lower perplexity is better"
      ]
    },
    {
      "cell_type": "code",
      "execution_count": 57,
      "metadata": {
        "colab": {
          "base_uri": "https://localhost:8080/",
          "height": 328
        },
        "id": "M2nR_rgJx_3R",
        "outputId": "8ae9e513-f988-4ff5-a199-8ebd09b9aed6"
      },
      "outputs": [
        {
          "data": {
            "text/plain": [
              "Text(0, 0.5, 'loss')"
            ]
          },
          "execution_count": 57,
          "metadata": {},
          "output_type": "execute_result"
        },
        {
          "data": {
            "image/png": "[encoded data removed]",
            "text/plain": [
              "<Figure size 500x300 with 1 Axes>"
            ]
          },
          "metadata": {},
          "output_type": "display_data"
        }
      ],
      "source": [
        "# Plot the losses\n",
        "import matplotlib.pyplot as plt\n",
        "fig = plt.figure(figsize=(5, 3))\n",
        "ax = fig.add_subplot(1, 1, 1)\n",
        "ax.plot(train_losses, label = 'train loss')\n",
        "ax.plot(val_losses, label = 'val loss')\n",
        "plt.legend()\n",
        "ax.set_xlabel('updates')\n",
        "ax.set_ylabel('loss')"
      ]
    },
    {
      "cell_type": "code",
      "execution_count": 58,
      "metadata": {
        "colab": {
          "base_uri": "https://localhost:8080/"
        },
        "id": "zLSZa0AzyIED",
        "outputId": "1f176592-c686-4d03-8772-2626607832ac"
      },
      "outputs": [
        {
          "name": "stdout",
          "output_type": "stream",
          "text": [
            "| Test Loss: 6.118 | Test PPL: 453.844 |\n"
          ]
        }
      ],
      "source": [
        "# Evaluate the model with the test set\n",
        "model.load_state_dict(torch.load(save_path))\n",
        "test_loss = evaluate(model, test_loader, criterion, test_loader_length)\n",
        "\n",
        "print(f'| Test Loss: {test_loss:.3f} | Test PPL: {math.exp(test_loss):7.3f} |')"
      ]
    },
    {
      "cell_type": "markdown",
      "metadata": {
        "id": "qA161lNJyTVj"
      },
      "source": [
        "### 6.3. General Attention"
      ]
    },
    {
      "cell_type": "code",
      "execution_count": 60,
      "metadata": {
        "colab": {
          "base_uri": "https://localhost:8080/"
        },
        "id": "T1BcOvSkyWpq",
        "outputId": "42ac2a78-0527-40b2-8348-89e49683306d"
      },
      "outputs": [
        {
          "data": {
            "text/plain": [
              "Seq2Seq(\n",
              "  (encoder): Encoder(\n",
              "    (embedding): Embedding(12131, 64)\n",
              "    (rnn): GRU(64, 128, bidirectional=True)\n",
              "    (fc): Linear(in_features=256, out_features=128, bias=True)\n",
              "    (dropout): Dropout(p=0.5, inplace=False)\n",
              "  )\n",
              "  (decoder): Decoder(\n",
              "    (attention): GeneralAttention()\n",
              "    (embedding): Embedding(15568, 64)\n",
              "    (gru): GRU(320, 128)\n",
              "    (fc): Linear(in_features=448, out_features=15568, bias=True)\n",
              "    (dropout): Dropout(p=0.5, inplace=False)\n",
              "  )\n",
              ")"
            ]
          },
          "execution_count": 60,
          "metadata": {},
          "output_type": "execute_result"
        }
      ],
      "source": [
        "# Initialize the model\n",
        "attn = GeneralAttention()\n",
        "enc  = Encoder(input_dim,  emb_dim,  hid_dim, dropout)\n",
        "dec  = Decoder(output_dim, emb_dim,  hid_dim, dropout, attn)\n",
        "\n",
        "SRC_PAD_IDX = PAD_IDX\n",
        "\n",
        "model = Seq2Seq(enc, dec, SRC_PAD_IDX, device).to(device)\n",
        "model.apply(initialize_weights)"
      ]
    },
    {
      "cell_type": "code",
      "execution_count": 61,
      "metadata": {
        "colab": {
          "base_uri": "https://localhost:8080/"
        },
        "id": "5BolhJnGyqGM",
        "outputId": "1bf0c206-38e1-43e5-ea6f-d348bd06e809"
      },
      "outputs": [
        {
          "name": "stdout",
          "output_type": "stream",
          "text": [
            "776384\n",
            " 24576\n",
            " 49152\n",
            "   384\n",
            "   384\n",
            " 24576\n",
            " 49152\n",
            "   384\n",
            "   384\n",
            " 32768\n",
            "   128\n",
            "996352\n",
            "122880\n",
            " 49152\n",
            "   384\n",
            "   384\n",
            "6974464\n",
            " 15568\n",
            "______\n",
            "9117456\n"
          ]
        }
      ],
      "source": [
        "# Print the number of model parameters\n",
        "def count_parameters(model):\n",
        "    params = [p.numel() for p in model.parameters() if p.requires_grad]\n",
        "    for item in params:\n",
        "        print(f'{item:>6}')\n",
        "    print(f'______\\n{sum(params):>6}')\n",
        "    \n",
        "count_parameters(model)"
      ]
    },
    {
      "cell_type": "code",
      "execution_count": 62,
      "metadata": {
        "id": "nEjSehfayuUW"
      },
      "outputs": [],
      "source": [
        "# Define loss and optimizer\n",
        "import torch.optim as optim\n",
        "\n",
        "optimizer = optim.Adam(model.parameters(), lr=lr)\n",
        "criterion = nn.CrossEntropyLoss(ignore_index = PAD_IDX)"
      ]
    },
    {
      "cell_type": "code",
      "execution_count": 64,
      "metadata": {
        "colab": {
          "base_uri": "https://localhost:8080/"
        },
        "id": "KE9N88ZKyw8d",
        "outputId": "99fcfab5-ac4a-4398-bbff-2dc4c52161dd"
      },
      "outputs": [
        {
          "name": "stdout",
          "output_type": "stream",
          "text": [
            "Epoch: 01 | Time: 4m 17s\n",
            "\tTrain Loss: 5.980 | Train PPL: 395.411\n",
            "\t Val. Loss: 6.247 |  Val. PPL: 516.531\n",
            "Epoch: 02 | Time: 4m 1s\n",
            "\tTrain Loss: 5.778 | Train PPL: 322.959\n",
            "\t Val. Loss: 6.191 |  Val. PPL: 488.420\n",
            "Epoch: 03 | Time: 3m 58s\n",
            "\tTrain Loss: 5.595 | Train PPL: 268.976\n",
            "\t Val. Loss: 6.118 |  Val. PPL: 453.783\n",
            "Epoch: 04 | Time: 3m 55s\n",
            "\tTrain Loss: 5.426 | Train PPL: 227.129\n",
            "\t Val. Loss: 6.115 |  Val. PPL: 452.791\n",
            "Epoch: 05 | Time: 3m 54s\n",
            "\tTrain Loss: 5.281 | Train PPL: 196.597\n",
            "\t Val. Loss: 6.125 |  Val. PPL: 457.256\n"
          ]
        }
      ],
      "source": [
        "# Train the model\n",
        "best_val_loss = float('inf')\n",
        "num_epochs = 5\n",
        "clip       = 1\n",
        "\n",
        "save_path = f'./models/General{model.__class__.__name__}.pt'\n",
        "\n",
        "train_losses = []\n",
        "val_losses   = []\n",
        "\n",
        "for epoch in range(num_epochs):\n",
        "    \n",
        "    start_time = time.time()\n",
        "\n",
        "    train_loss = train(model, train_loader, optimizer, criterion, clip, train_loader_length)\n",
        "    val_loss   = evaluate(model, val_loader, criterion, val_loader_length)\n",
        "    \n",
        "    #for plotting\n",
        "    train_losses.append(train_loss)\n",
        "    val_losses.append(val_loss)\n",
        "    \n",
        "    end_time = time.time()\n",
        "    \n",
        "    epoch_mins, epoch_secs = epoch_time(start_time, end_time)\n",
        "\n",
        "    \n",
        "    if val_loss < best_val_loss:\n",
        "        best_val_loss = val_loss\n",
        "        torch.save(model.state_dict(), save_path)\n",
        "    \n",
        "    print(f'Epoch: {epoch+1:02} | Time: {epoch_mins}m {epoch_secs}s')\n",
        "    print(f'\\tTrain Loss: {train_loss:.3f} | Train PPL: {math.exp(train_loss):7.3f}')\n",
        "    print(f'\\t Val. Loss: {val_loss:.3f} |  Val. PPL: {math.exp(val_loss):7.3f}')\n",
        "    \n",
        "    #lower perplexity is better"
      ]
    },
    {
      "cell_type": "code",
      "execution_count": 65,
      "metadata": {
        "colab": {
          "base_uri": "https://localhost:8080/",
          "height": 328
        },
        "id": "i31L2wMBy3fK",
        "outputId": "468e77aa-8abe-418f-c2eb-844cfc47577b"
      },
      "outputs": [
        {
          "data": {
            "text/plain": [
              "Text(0, 0.5, 'loss')"
            ]
          },
          "execution_count": 65,
          "metadata": {},
          "output_type": "execute_result"
        },
        {
          "data": {
            "image/png": "[encoded data removed]",
            "text/plain": [
              "<Figure size 500x300 with 1 Axes>"
            ]
          },
          "metadata": {},
          "output_type": "display_data"
        }
      ],
      "source": [
        "# Plot the losses\n",
        "import matplotlib.pyplot as plt\n",
        "fig = plt.figure(figsize=(5, 3))\n",
        "ax = fig.add_subplot(1, 1, 1)\n",
        "ax.plot(train_losses, label = 'train loss')\n",
        "ax.plot(val_losses, label = 'val loss')\n",
        "plt.legend()\n",
        "ax.set_xlabel('updates')\n",
        "ax.set_ylabel('loss')"
      ]
    },
    {
      "cell_type": "code",
      "execution_count": 66,
      "metadata": {
        "colab": {
          "base_uri": "https://localhost:8080/"
        },
        "id": "EuPG9XZvy6-3",
        "outputId": "3be9a75d-7eae-4427-b8dc-d68a0ceae30a"
      },
      "outputs": [
        {
          "name": "stdout",
          "output_type": "stream",
          "text": [
            "| Test Loss: 6.106 | Test PPL: 448.499 |\n"
          ]
        }
      ],
      "source": [
        "# Evaluate the model with the test set\n",
        "model.load_state_dict(torch.load(save_path))\n",
        "test_loss = evaluate(model, test_loader, criterion, test_loader_length)\n",
        "\n",
        "print(f'| Test Loss: {test_loss:.3f} | Test PPL: {math.exp(test_loss):7.3f} |')"
      ]
    },
    {
      "cell_type": "markdown",
      "metadata": {
        "id": "hyhfRcBjkzA0"
      },
      "source": [
        "### 6.4. Conclusion\n",
        "\n",
        "Attention | Test Loss | Test PPL  |\n",
        "--- | --- | ---  |\n",
        "Additive | 6.016 | 410.081  |\n",
        "Multiplicative | 6.118 | 453.844  |\n",
        "General | 6.106 | 448.499  |\n",
        "\n",
        "According to my model, the additive attention is the best attention."
      ]
    },
    {
      "cell_type": "markdown",
      "metadata": {
        "id": "R45qd6XVS-ol"
      },
      "source": [
        "## 7. Testing on Random Samples"
      ]
    },
    {
      "cell_type": "code",
      "execution_count": 90,
      "metadata": {
        "id": "od9K4YAqS-ol"
      },
      "outputs": [],
      "source": [
        "sample = corpus[1]"
      ]
    },
    {
      "cell_type": "code",
      "execution_count": 91,
      "metadata": {
        "colab": {
          "base_uri": "https://localhost:8080/"
        },
        "id": "G3fNPlwMS-ol",
        "outputId": "05cb879f-24b3-48c2-9d51-302b8df1d3a9"
      },
      "outputs": [
        {
          "data": {
            "text/plain": [
              "('ပါကစ္စတန် နိုင်ငံ ၏ အနောက်-မြောက် နယ်စပ် ပြည်နယ် တွင် နိုင်ငံရေး ဆိုင်ရာ ဆန္ဒပြပွဲ တစ် ခု အတွင်း အသေခံ ဗုံး ဖော်ခွဲမှု တစ် ခု ၌ လူ ၃၈ ယောက် သေဆုံးခဲ့ကြောင်း ပြောခဲ့သည် ။',\n",
              " '38 people were said to have died in a suicide bombing during a political rally in the North-West Frontier Province of Pakistan.')"
            ]
          },
          "execution_count": 91,
          "metadata": {},
          "output_type": "execute_result"
        }
      ],
      "source": [
        "sample[0], sample[1]"
      ]
    },
    {
      "cell_type": "code",
      "execution_count": 92,
      "metadata": {
        "colab": {
          "base_uri": "https://localhost:8080/"
        },
        "id": "XdBQD-zOS-ol",
        "outputId": "2f9b7085-c219-40f9-a80f-c983b4e1efe6"
      },
      "outputs": [
        {
          "data": {
            "text/plain": [
              "tensor([   2,  629,   46,   11,  343,   48,  172, 1061,  133,   14,   46,   29,\n",
              "          94, 1491,   16,   20,   89,  981,    0,  391,   13,   16,   20,   80,\n",
              "        7256,   54,  110,    5,   79,   40,    5,    4,    8,    3],\n",
              "       device='cuda:0')"
            ]
          },
          "execution_count": 92,
          "metadata": {},
          "output_type": "execute_result"
        }
      ],
      "source": [
        "src_text = text_transform[SRC_LANGUAGE](sample[0]).to(device)\n",
        "src_text"
      ]
    },
    {
      "cell_type": "code",
      "execution_count": 93,
      "metadata": {
        "colab": {
          "base_uri": "https://localhost:8080/"
        },
        "id": "ZTGMrxL-S-om",
        "outputId": "39defa88-fd38-46f4-ca1d-4d144e66b985"
      },
      "outputs": [
        {
          "data": {
            "text/plain": [
              "tensor([   2, 2332,   50,   30,   28,    8,   24,  167,   10,   11,  601, 1450,\n",
              "         113,   11,  304, 1926,   10,    4,  302,   17,  703, 5799, 2589,    7,\n",
              "         583,    6,    3], device='cuda:0')"
            ]
          },
          "execution_count": 93,
          "metadata": {},
          "output_type": "execute_result"
        }
      ],
      "source": [
        "trg_text = text_transform[TRG_LANGUAGE](sample[1]).to(device)\n",
        "trg_text"
      ]
    },
    {
      "cell_type": "code",
      "execution_count": 94,
      "metadata": {
        "id": "ETmtpNP7S-om"
      },
      "outputs": [],
      "source": [
        "src_text = src_text.reshape(-1, 1)  #because batch_size is 1"
      ]
    },
    {
      "cell_type": "code",
      "execution_count": 95,
      "metadata": {
        "id": "O05tDi5hS-om"
      },
      "outputs": [],
      "source": [
        "trg_text = trg_text.reshape(-1, 1)"
      ]
    },
    {
      "cell_type": "code",
      "execution_count": 96,
      "metadata": {
        "colab": {
          "base_uri": "https://localhost:8080/"
        },
        "id": "M_KNr2gMS-om",
        "outputId": "80cdf8bd-2fc1-4ba0-ea05-2b4f79db7be2"
      },
      "outputs": [
        {
          "data": {
            "text/plain": [
              "(torch.Size([34, 1]), torch.Size([27, 1]))"
            ]
          },
          "execution_count": 96,
          "metadata": {},
          "output_type": "execute_result"
        }
      ],
      "source": [
        "src_text.shape, trg_text.shape"
      ]
    },
    {
      "cell_type": "code",
      "execution_count": 97,
      "metadata": {
        "id": "2cB-LlnHS-om"
      },
      "outputs": [],
      "source": [
        "text_length = torch.tensor([src_text.size(0)]).to(dtype=torch.int64)"
      ]
    },
    {
      "cell_type": "code",
      "execution_count": 98,
      "metadata": {
        "colab": {
          "base_uri": "https://localhost:8080/"
        },
        "id": "QycUn8YiS-om",
        "outputId": "0b32802c-4d1d-4fca-f2b9-7906f036e0fb"
      },
      "outputs": [
        {
          "name": "stdout",
          "output_type": "stream",
          "text": [
            "tensor([  59,  585, 1450,    7,   11,  106,   10,   11,   10,   11,   10,   11,\n",
            "          10,   11,   10,   11,   10,   11,   10,   11,   10,    4,   10,    4,\n",
            "           6,    3], device='cuda:0')\n"
          ]
        }
      ],
      "source": [
        "attn = AdditiveAttention(hid_dim)\n",
        "enc  = Encoder(input_dim,  emb_dim,  hid_dim, dropout)\n",
        "dec  = Decoder(output_dim, emb_dim,  hid_dim, dropout, attn)\n",
        "\n",
        "SRC_PAD_IDX = PAD_IDX\n",
        "\n",
        "model = Seq2Seq(enc, dec, SRC_PAD_IDX, device).to(device)\n",
        "\n",
        "model.load_state_dict(torch.load('./models/AdditiveSeq2Seq.pt'))\n",
        "\n",
        "model.eval()\n",
        "with torch.no_grad():\n",
        "    output, attentions = model(src_text, text_length, trg_text, 0) #turn off teacher forcing\n",
        "\n",
        "output = output.squeeze(1)\n",
        "\n",
        "output = output[1:]\n",
        "\n",
        "output_max = output.argmax(1) #returns max indices\n",
        "\n",
        "print(output_max)"
      ]
    },
    {
      "cell_type": "code",
      "execution_count": 99,
      "metadata": {
        "colab": {
          "base_uri": "https://localhost:8080/"
        },
        "id": "6mODv39xS-on",
        "outputId": "9762226f-85e0-4f28-d62f-d74709dc0958"
      },
      "outputs": [
        {
          "name": "stdout",
          "output_type": "stream",
          "text": [
            "A\n",
            "bomb\n",
            "bombing\n",
            "of\n",
            "a\n",
            "killed\n",
            "in\n",
            "a\n",
            "in\n",
            "a\n",
            "in\n",
            "a\n",
            "in\n",
            "a\n",
            "in\n",
            "a\n",
            "in\n",
            "a\n",
            "in\n",
            "a\n",
            "in\n",
            "the\n",
            "in\n",
            "the\n",
            ".\n",
            "<eos>\n"
          ]
        }
      ],
      "source": [
        "mapping = vocab_transform[TRG_LANGUAGE].get_itos()\n",
        "\n",
        "for token in output_max:\n",
        "    print(mapping[token.item()])"
      ]
    }
  ],
  "metadata": {
    "accelerator": "GPU",
    "colab": {
      "include_colab_link": true,
      "provenance": []
    },
    "gpuClass": "standard",
    "kernelspec": {
      "display_name": "dsai",
      "language": "python",
      "name": "python3"
    },
    "language_info": {
      "codemirror_mode": {
        "name": "ipython",
        "version": 3
      },
      "file_extension": ".py",
      "mimetype": "text/x-python",
      "name": "python",
      "nbconvert_exporter": "python",
      "pygments_lexer": "ipython3",
      "version": "3.7.16"
    },
    "vscode": {
      "interpreter": {
        "hash": "0f2c79af21be9d001248940c049b6176cf8bfb45cabf7aa85848f5cea0f590f6"
      }
    }
  },
  "nbformat": 4,
  "nbformat_minor": 0
}
