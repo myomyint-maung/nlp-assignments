{
  "cells": [
    {
      "cell_type": "markdown",
      "metadata": {
        "id": "view-in-github",
        "colab_type": "text"
      },
      "source": [
        "<a href=\"https://colab.research.google.com/github/myomyint-maung/nlp-assignments/blob/main/07-Machine-Translation/07_Machine_Translation.ipynb\" target=\"_parent\"><img src=\"https://colab.research.google.com/assets/colab-badge.svg\" alt=\"Open In Colab\"/></a>"
      ]
    },
    {
      "cell_type": "markdown",
      "metadata": {
        "id": "Eus6ws8gS-oW"
      },
      "source": [
        "# 23 Feb - Machine Translation from Myanmar to English"
      ]
    },
    {
      "cell_type": "code",
      "execution_count": 1,
      "metadata": {
        "colab": {
          "base_uri": "https://localhost:8080/"
        },
        "id": "UuPqwROuS-oY",
        "outputId": "a631e343-3a04-4577-e701-129657be55b4"
      },
      "outputs": [
        {
          "output_type": "stream",
          "name": "stdout",
          "text": [
            "cuda\n"
          ]
        }
      ],
      "source": [
        "# Import necessary libraries\n",
        "import torch, torchtext\n",
        "from torch import nn\n",
        "import torch.nn.functional as F\n",
        "import random, math, time\n",
        "\n",
        "# Choose the computing device\n",
        "device = torch.device('cuda' if torch.cuda.is_available() else 'cpu')\n",
        "print(device)\n",
        "\n",
        "# Set SEED for reproducibility\n",
        "SEED = 1234\n",
        "torch.manual_seed(SEED)\n",
        "torch.backends.cudnn.deterministic = True"
      ]
    },
    {
      "cell_type": "markdown",
      "metadata": {
        "id": "S6vCQ7_FS-oa",
        "jp-MarkdownHeadingCollapsed": true,
        "tags": []
      },
      "source": [
        "## 1. Loading Data\n",
        "\n",
        "**Note**: I use the Myanmar and English datasets from the Asian Language Treebank (ALT) Parallel Corpus available at https://www2.nict.go.jp/astrec-att/member/mutiyama/ALT/."
      ]
    },
    {
      "cell_type": "code",
      "source": [
        "# !git clone https://github.com/myomyint-maung/nlp-assignments.git\n",
        "\n",
        "# from google.colab import drive\n",
        "# drive.mount('/content/drive')"
      ],
      "metadata": {
        "id": "nEX-iwdtTFQb"
      },
      "execution_count": 2,
      "outputs": []
    },
    {
      "cell_type": "code",
      "execution_count": 3,
      "metadata": {
        "colab": {
          "base_uri": "https://localhost:8080/",
          "height": 362
        },
        "id": "8p7OI83oS-oa",
        "outputId": "c471f921-9d3e-4270-ecdd-8bdf76c3d2da"
      },
      "outputs": [
        {
          "output_type": "stream",
          "name": "stdout",
          "text": [
            "<class 'pandas.core.frame.DataFrame'>\n",
            "Int64Index: 19166 entries, 0 to 19172\n",
            "Data columns (total 2 columns):\n",
            " #   Column  Non-Null Count  Dtype \n",
            "---  ------  --------------  ----- \n",
            " 0   MY      19166 non-null  object\n",
            " 1   EN      19166 non-null  object\n",
            "dtypes: object(2)\n",
            "memory usage: 449.2+ KB\n"
          ]
        },
        {
          "output_type": "execute_result",
          "data": {
            "text/plain": [
              "                                                  MY  \\\n",
              "0  ပြင်သစ်နိုင်ငံ ပါရီမြို့ ပါ့ဒက်စ် ပရင့်စက် ၌ ၂...   \n",
              "1  အန်ဒရီယာ မာစီ သည် အီတလီ အတွက် စမ်းသပ်မှု တစ်ခု...   \n",
              "2  ပထမ တစ်ဝက် ၏ တော်တော်များများ အတွက် ကစားပွဲ ကိ...   \n",
              "3  ပေါ်တူဂီ သည် ဘယ်သောအခါမှ စွန့်လွှတ်မှု မရှိခဲ့...   \n",
              "4  အီတလီ သည် ပထမပိုင်း ၌ ၁၆-၅ ဖြင့် ဦးဆောင်ခဲ့ သေ...   \n",
              "\n",
              "                                                  EN  \n",
              "0  Italy have defeated Portugal 31-5 in Pool C of...  \n",
              "1  Andrea Masi opened the scoring in the fourth m...  \n",
              "2  Despite controlling the game for much of the f...  \n",
              "3  Portugal never gave up and David Penalva score...  \n",
              "4  Italy led 16-5 at half time but were matched b...  "
            ],
            "text/html": [
              "\n",
              "  <div id=\"df-a07120d9-011e-4aa0-8876-7fadcc30e367\">\n",
              "    <div class=\"colab-df-container\">\n",
              "      <div>\n",
              "<style scoped>\n",
              "    .dataframe tbody tr th:only-of-type {\n",
              "        vertical-align: middle;\n",
              "    }\n",
              "\n",
              "    .dataframe tbody tr th {\n",
              "        vertical-align: top;\n",
              "    }\n",
              "\n",
              "    .dataframe thead th {\n",
              "        text-align: right;\n",
              "    }\n",
              "</style>\n",
              "<table border=\"1\" class=\"dataframe\">\n",
              "  <thead>\n",
              "    <tr style=\"text-align: right;\">\n",
              "      <th></th>\n",
              "      <th>MY</th>\n",
              "      <th>EN</th>\n",
              "    </tr>\n",
              "  </thead>\n",
              "  <tbody>\n",
              "    <tr>\n",
              "      <th>0</th>\n",
              "      <td>ပြင်သစ်နိုင်ငံ ပါရီမြို့ ပါ့ဒက်စ် ပရင့်စက် ၌ ၂...</td>\n",
              "      <td>Italy have defeated Portugal 31-5 in Pool C of...</td>\n",
              "    </tr>\n",
              "    <tr>\n",
              "      <th>1</th>\n",
              "      <td>အန်ဒရီယာ မာစီ သည် အီတလီ အတွက် စမ်းသပ်မှု တစ်ခု...</td>\n",
              "      <td>Andrea Masi opened the scoring in the fourth m...</td>\n",
              "    </tr>\n",
              "    <tr>\n",
              "      <th>2</th>\n",
              "      <td>ပထမ တစ်ဝက် ၏ တော်တော်များများ အတွက် ကစားပွဲ ကိ...</td>\n",
              "      <td>Despite controlling the game for much of the f...</td>\n",
              "    </tr>\n",
              "    <tr>\n",
              "      <th>3</th>\n",
              "      <td>ပေါ်တူဂီ သည် ဘယ်သောအခါမှ စွန့်လွှတ်မှု မရှိခဲ့...</td>\n",
              "      <td>Portugal never gave up and David Penalva score...</td>\n",
              "    </tr>\n",
              "    <tr>\n",
              "      <th>4</th>\n",
              "      <td>အီတလီ သည် ပထမပိုင်း ၌ ၁၆-၅ ဖြင့် ဦးဆောင်ခဲ့ သေ...</td>\n",
              "      <td>Italy led 16-5 at half time but were matched b...</td>\n",
              "    </tr>\n",
              "  </tbody>\n",
              "</table>\n",
              "</div>\n",
              "      <button class=\"colab-df-convert\" onclick=\"convertToInteractive('df-a07120d9-011e-4aa0-8876-7fadcc30e367')\"\n",
              "              title=\"Convert this dataframe to an interactive table.\"\n",
              "              style=\"display:none;\">\n",
              "        \n",
              "  <svg xmlns=\"http://www.w3.org/2000/svg\" height=\"24px\"viewBox=\"0 0 24 24\"\n",
              "       width=\"24px\">\n",
              "    <path d=\"M0 0h24v24H0V0z\" fill=\"none\"/>\n",
              "    <path d=\"M18.56 5.44l.94 2.06.94-2.06 2.06-.94-2.06-.94-.94-2.06-.94 2.06-2.06.94zm-11 1L8.5 8.5l.94-2.06 2.06-.94-2.06-.94L8.5 2.5l-.94 2.06-2.06.94zm10 10l.94 2.06.94-2.06 2.06-.94-2.06-.94-.94-2.06-.94 2.06-2.06.94z\"/><path d=\"M17.41 7.96l-1.37-1.37c-.4-.4-.92-.59-1.43-.59-.52 0-1.04.2-1.43.59L10.3 9.45l-7.72 7.72c-.78.78-.78 2.05 0 2.83L4 21.41c.39.39.9.59 1.41.59.51 0 1.02-.2 1.41-.59l7.78-7.78 2.81-2.81c.8-.78.8-2.07 0-2.86zM5.41 20L4 18.59l7.72-7.72 1.47 1.35L5.41 20z\"/>\n",
              "  </svg>\n",
              "      </button>\n",
              "      \n",
              "  <style>\n",
              "    .colab-df-container {\n",
              "      display:flex;\n",
              "      flex-wrap:wrap;\n",
              "      gap: 12px;\n",
              "    }\n",
              "\n",
              "    .colab-df-convert {\n",
              "      background-color: #E8F0FE;\n",
              "      border: none;\n",
              "      border-radius: 50%;\n",
              "      cursor: pointer;\n",
              "      display: none;\n",
              "      fill: #1967D2;\n",
              "      height: 32px;\n",
              "      padding: 0 0 0 0;\n",
              "      width: 32px;\n",
              "    }\n",
              "\n",
              "    .colab-df-convert:hover {\n",
              "      background-color: #E2EBFA;\n",
              "      box-shadow: 0px 1px 2px rgba(60, 64, 67, 0.3), 0px 1px 3px 1px rgba(60, 64, 67, 0.15);\n",
              "      fill: #174EA6;\n",
              "    }\n",
              "\n",
              "    [theme=dark] .colab-df-convert {\n",
              "      background-color: #3B4455;\n",
              "      fill: #D2E3FC;\n",
              "    }\n",
              "\n",
              "    [theme=dark] .colab-df-convert:hover {\n",
              "      background-color: #434B5C;\n",
              "      box-shadow: 0px 1px 3px 1px rgba(0, 0, 0, 0.15);\n",
              "      filter: drop-shadow(0px 1px 2px rgba(0, 0, 0, 0.3));\n",
              "      fill: #FFFFFF;\n",
              "    }\n",
              "  </style>\n",
              "\n",
              "      <script>\n",
              "        const buttonEl =\n",
              "          document.querySelector('#df-a07120d9-011e-4aa0-8876-7fadcc30e367 button.colab-df-convert');\n",
              "        buttonEl.style.display =\n",
              "          google.colab.kernel.accessAllowed ? 'block' : 'none';\n",
              "\n",
              "        async function convertToInteractive(key) {\n",
              "          const element = document.querySelector('#df-a07120d9-011e-4aa0-8876-7fadcc30e367');\n",
              "          const dataTable =\n",
              "            await google.colab.kernel.invokeFunction('convertToInteractive',\n",
              "                                                     [key], {});\n",
              "          if (!dataTable) return;\n",
              "\n",
              "          const docLinkHtml = 'Like what you see? Visit the ' +\n",
              "            '<a target=\"_blank\" href=https://colab.research.google.com/notebooks/data_table.ipynb>data table notebook</a>'\n",
              "            + ' to learn more about interactive tables.';\n",
              "          element.innerHTML = '';\n",
              "          dataTable['output_type'] = 'display_data';\n",
              "          await google.colab.output.renderOutput(dataTable, element);\n",
              "          const docLink = document.createElement('div');\n",
              "          docLink.innerHTML = docLinkHtml;\n",
              "          element.appendChild(docLink);\n",
              "        }\n",
              "      </script>\n",
              "    </div>\n",
              "  </div>\n",
              "  "
            ]
          },
          "metadata": {},
          "execution_count": 3
        }
      ],
      "source": [
        "# Load the datasets\n",
        "import pandas as pd\n",
        "\n",
        "data_my = pd.read_csv('/content/nlp-assignments/07-Machine-Translation/data/data_my.txt', sep='\\t', header=None)\n",
        "data_en = pd.read_csv('/content/nlp-assignments/07-Machine-Translation/data/data_en.txt', sep='\\t', header=None)\n",
        "\n",
        "data_my.columns = ['REF', 'MY']\n",
        "data_en.columns = ['REF', 'EN']\n",
        "\n",
        "df = pd.merge(data_my, data_en, on='REF')\n",
        "df = df.drop('REF', axis=1)\n",
        "df = df.dropna()\n",
        "\n",
        "df.info()\n",
        "df.head()"
      ]
    },
    {
      "cell_type": "code",
      "execution_count": 4,
      "metadata": {
        "colab": {
          "base_uri": "https://localhost:8080/"
        },
        "id": "crIVyZSmfSpu",
        "outputId": "52924537-2502-4eaf-8ea0-1f716e5bd31e"
      },
      "outputs": [
        {
          "output_type": "execute_result",
          "data": {
            "text/plain": [
              "[['ပြင်သစ်နိုင်ငံ ပါရီမြို့ ပါ့ဒက်စ် ပရင့်စက် ၌ ၂၀၀၇ခုနှစ် ရပ်ဘီ ကမ္ဘာ့ ဖလား တွင် အီတလီ သည် ပေါ်တူဂီ ကို ၃၁-၅ ဂိုး ဖြင့် ရေကူးကန် စီ တွင် ရှုံးနိမ့်သွားပါသည် ။',\n",
              "  'Italy have defeated Portugal 31-5 in Pool C of the 2007 Rugby World Cup at Parc des Princes, Paris, France.'],\n",
              " ['အန်ဒရီယာ မာစီ သည် အီတလီ အတွက် စမ်းသပ်မှု တစ်ခု အဖြစ် စတုတ္ထ မိနစ် တွင် အမှတ်ပေးခြင်း ကို ဖွင့်လှစ်ပေးခဲ့သည် ။',\n",
              "  'Andrea Masi opened the scoring in the fourth minute with a try for Italy.'],\n",
              " ['ပထမ တစ်ဝက် ၏ တော်တော်များများ အတွက် ကစားပွဲ ကို ထိန်းချုပ်ခြင်း မရှိခဲ့လျှင် အီတလီ သည် ပွဲနားချိန် မတိုင်မှီ အခြား မည်သည့် ကြိုးစားမှု များ ကိုမှ အမှတ် မရနိုင် ပေမယ့် ဒေးဗစ် ဘော်တိုလပ်စီ သည် သူတို့၏ ဦးဆောင်မှု ကို အဓွန့်ရှည် စေရန် ပယ်နယ်လ်တီ ၃ဂိုး သွင်းပေးခဲ့သည် ။',\n",
              "  'Despite controlling the game for much of the first half, Italy could not score any other tries before the interval but David Bortolussi kicked three penalties to extend their lead.'],\n",
              " ['ပေါ်တူဂီ သည် ဘယ်သောအခါမှ စွန့်လွှတ်မှု မရှိခဲ့ ပဲ ဒေးဗစ် ပန်နယ်ဗါ သည် ၃၃ မိနစ် တွင် သူတို့ ၏ ကစားပွဲ ရဲ့ အမှတ်များ ကိုသာ အထောက်အကူပြုသည့် ကြိုးစားမှု တစ်ခု မှ အမှတ်ရခဲ့ပါသည်။',\n",
              "  'Portugal never gave up and David Penalva scored a try in the 33rd minute, providing their only points of the match.'],\n",
              " ['အီတလီ သည် ပထမပိုင်း ၌ ၁၆-၅ ဖြင့် ဦးဆောင်ခဲ့ သော်လည်း ပေါ်တူဂီ မှ ဒုတိယပိုင်း တော်တော်များများ တွင် ဂိုးအရေအတွက်ညီစေခဲ့သည် ။',\n",
              "  'Italy led 16-5 at half time but were matched by Portugal for much of the second half.']]"
            ]
          },
          "metadata": {},
          "execution_count": 4
        }
      ],
      "source": [
        "# Convert the dataframe into a list of parallel corpus\n",
        "corpus = df.values.tolist()\n",
        "\n",
        "corpus[0:5]"
      ]
    },
    {
      "cell_type": "markdown",
      "metadata": {
        "id": "GVvA32LkS-ob",
        "jp-MarkdownHeadingCollapsed": true,
        "tags": []
      },
      "source": [
        "## 2. Splitting Data"
      ]
    },
    {
      "cell_type": "code",
      "execution_count": 5,
      "metadata": {
        "colab": {
          "base_uri": "https://localhost:8080/"
        },
        "id": "Mj4hCIv6S-ob",
        "outputId": "6aa5b333-bea9-4ada-9150-2d649367b368"
      },
      "outputs": [
        {
          "output_type": "execute_result",
          "data": {
            "text/plain": [
              "19166"
            ]
          },
          "metadata": {},
          "execution_count": 5
        }
      ],
      "source": [
        "# Check the size of the corpus\n",
        "corpus_size = len(corpus)\n",
        "\n",
        "corpus_size"
      ]
    },
    {
      "cell_type": "code",
      "execution_count": 6,
      "metadata": {
        "colab": {
          "base_uri": "https://localhost:8080/"
        },
        "id": "0YAQgZnsS-oc",
        "outputId": "37bf8e90-4e0e-495c-e38d-dd25f9ff60b1"
      },
      "outputs": [
        {
          "output_type": "execute_result",
          "data": {
            "text/plain": [
              "(13416, 1916, 3834, 19166)"
            ]
          },
          "metadata": {},
          "execution_count": 6
        }
      ],
      "source": [
        "# Split the corpus into training, validataion and test sets\n",
        "random.shuffle(corpus)\n",
        "\n",
        "train_size = int(corpus_size * 0.7)\n",
        "val_size   = int(corpus_size * 0.1)\n",
        "\n",
        "train = corpus[:train_size]\n",
        "val   = corpus[train_size:(train_size + val_size)]\n",
        "test  = corpus[(train_size + val_size):]\n",
        "\n",
        "len(train), len(val), len(test), len(train)+len(val)+len(test)"
      ]
    },
    {
      "cell_type": "markdown",
      "metadata": {
        "id": "A31AtVhWS-oc",
        "tags": []
      },
      "source": [
        "## 3. Preprocessing \n",
        "\n",
        "### Tokenizing"
      ]
    },
    {
      "cell_type": "code",
      "execution_count": 7,
      "metadata": {
        "id": "cHXZMkNP6hJ-"
      },
      "outputs": [],
      "source": [
        "# Assign the source and target languages\n",
        "SRC_LANGUAGE = 'MY'\n",
        "TRG_LANGUAGE = 'EN'"
      ]
    },
    {
      "cell_type": "code",
      "execution_count": 8,
      "metadata": {
        "id": "35RDGJlrS-od"
      },
      "outputs": [],
      "source": [
        "# Assign place-holders\n",
        "token_transform = {}\n",
        "vocab_transform = {}"
      ]
    },
    {
      "cell_type": "code",
      "source": [
        "# !pip install pyidaungsu"
      ],
      "metadata": {
        "id": "OC0h2lOhYej4"
      },
      "execution_count": 9,
      "outputs": []
    },
    {
      "cell_type": "code",
      "execution_count": 10,
      "metadata": {
        "colab": {
          "base_uri": "https://localhost:8080/"
        },
        "id": "qbFRn6249Zm3",
        "outputId": "8f8e24f6-f4ae-43fb-ac10-6c92e533a0bf"
      },
      "outputs": [
        {
          "output_type": "stream",
          "name": "stdout",
          "text": [
            "Sentence:  ၂၀၀၅ ခုနှစ် ၊ မတ်လ ၂၂ ရက် ကြာသပတေးနေ့ တွင် ၊ လပ် ဗေးဂက်စ် မှ အမျိုးသမီး တစ်ဦး ဖြစ်သော ၊ အန်န အရလ သည် ၊ ဖရက်နိုဘေ့စ် ဂျန် မန်းနစ်ရှ်မက် မှ ပိုင်ဆိုင်သော ၊ ကယ်လီဖိုးနီးယားပြည်နယ် ၊ စံဂျိုး မြို့လယ် ၏ တောင်ဘက် တည့်တည့် ရှိ ၊ ၁၄၀၅ မွန်တရေး အမြန်လမ်း တွင် တည်ရှိသော ဝမ်းဒီစ် စားသောက်ဆိုင် တစ်ဆိုင် တွင် သူမ ၏ ငရုတ်ဆီ ပန်းကန် ထဲမှ လူ ၏ လက်ချောင်း တစ်ခု တွေ့ရှိခဲ့ ကြောင်း အခိုင်အမာပြောဆိုခဲ့သည် ။\n",
            "Tokenization:  ['၂၀၀၅', 'ခုနှစ်', '၊', 'မတ်', 'လ', '၂၂', 'ရက်', 'ကြာသပတေး', 'နေ့', 'တွင်', '၊', 'လပ်', 'ဗေးဂက်စ်', 'မှ', 'အမျိုးသမီး', 'တစ်', 'ဦး', 'ဖြစ်', 'သော', '၊', 'အန်န', 'အရ', 'လ', 'သည်', '၊', 'ဖရက်နိုဘေ့စ်ဂျန်မန်းနစ်ရှ်မက်', 'မှ', 'ပိုင်ဆိုင်', 'သော', '၊', 'ကယ်လီဖိုးနီးယား', 'ပြည်နယ်', '၊', 'စံဂျိုး', 'မြို့', 'လယ်', '၏', 'တောင်', 'ဘက်', 'တည့်', 'တည့်', 'ရှိ', '၊', '၁၄၀၅', 'မွန်တရေး', 'အမြန်လမ်း', 'တွင်', 'တည်ရှိ', 'သော', 'ဝမ်းဒီစ်စားသောက်ဆိုင်', 'တစ်', 'ဆိုင်', 'တွင်', 'သူမ', '၏', 'ငရုတ်ဆီပန်းကန်', 'ထဲ', 'မှ', 'လူ', '၏', 'လက်ချောင်း', 'တစ်', 'ခု', 'တွေ့', 'ရှိ', 'ခဲ့', 'ကြောင်း', 'အခိုင်အမာ', 'ပြောဆို', 'ခဲ့', 'သည်', '။']\n"
          ]
        }
      ],
      "source": [
        "# Creat the Myanmar tokenizer\n",
        "import pyidaungsu.tokenize as tokenize\n",
        "\n",
        "def myanmar_tokenizer(text):\n",
        "    return tokenize(text, form='word')\n",
        "\n",
        "token_transform[SRC_LANGUAGE] = myanmar_tokenizer\n",
        "\n",
        "print(\"Sentence: \", train[0][0])\n",
        "print(\"Tokenization: \", token_transform[SRC_LANGUAGE](train[0][0]))"
      ]
    },
    {
      "cell_type": "code",
      "execution_count": 11,
      "metadata": {
        "colab": {
          "base_uri": "https://localhost:8080/"
        },
        "id": "_7dOs3eyS-od",
        "outputId": "6f516d94-567f-4c73-dd96-4aa3692dbd02"
      },
      "outputs": [
        {
          "output_type": "stream",
          "name": "stdout",
          "text": [
            "Sentence:  On Thursday the 22nd of March, 2005, Anna Ayala, a woman from Las Vegas, claimed to have found a human finger in her bowl of chili at a Wendy's restaurant located at 1405 Monterey Highway, just south of downtown San Jose, California, owned by Fresno-based Jern Management..\n",
            "Tokenization:  ['On', 'Thursday', 'the', '22nd', 'of', 'March', ',', '2005', ',', 'Anna', 'Ayala', ',', 'a', 'woman', 'from', 'Las', 'Vegas', ',', 'claimed', 'to', 'have', 'found', 'a', 'human', 'finger', 'in', 'her', 'bowl', 'of', 'chili', 'at', 'a', 'Wendy', \"'s\", 'restaurant', 'located', 'at', '1405', 'Monterey', 'Highway', ',', 'just', 'south', 'of', 'downtown', 'San', 'Jose', ',', 'California', ',', 'owned', 'by', 'Fresno', '-', 'based', 'Jern', 'Management', '..']\n"
          ]
        }
      ],
      "source": [
        "# Creat the English tokenizer\n",
        "from torchtext.data.utils import get_tokenizer\n",
        "token_transform[TRG_LANGUAGE] = get_tokenizer('spacy', language='en_core_web_sm')\n",
        "\n",
        "print(\"Sentence: \", train[0][1])\n",
        "print(\"Tokenization: \", token_transform[TRG_LANGUAGE](train[0][1]))"
      ]
    },
    {
      "cell_type": "code",
      "execution_count": 13,
      "metadata": {
        "id": "0Au8iBUjS-od"
      },
      "outputs": [],
      "source": [
        "# helper function to yield list of tokens\n",
        "# here data can be `train` or `val` or `test`\n",
        "def yield_tokens(data, language):\n",
        "    language_index = {SRC_LANGUAGE: 0, TRG_LANGUAGE: 1}\n",
        "\n",
        "    for data_sample in data:\n",
        "        yield token_transform[language](data_sample[language_index[language]]) #either first or second index"
      ]
    },
    {
      "cell_type": "code",
      "execution_count": 14,
      "metadata": {
        "id": "jxNmHDfsS-oe"
      },
      "outputs": [],
      "source": [
        "# Define special symbols and indices\n",
        "UNK_IDX, PAD_IDX, SOS_IDX, EOS_IDX = 0, 1, 2, 3\n",
        "# Make sure the tokens are in order of their indices to properly insert them in vocab\n",
        "special_symbols = ['<unk>', '<pad>', '<sos>', '<eos>']"
      ]
    },
    {
      "cell_type": "markdown",
      "metadata": {
        "id": "Y8Z6Q-AKS-oe",
        "tags": []
      },
      "source": [
        "### Numericalization"
      ]
    },
    {
      "cell_type": "code",
      "execution_count": 15,
      "metadata": {
        "id": "xF9YL5f7S-oe"
      },
      "outputs": [],
      "source": [
        "# Build vocab\n",
        "# from torchtext.vocab import build_vocab_from_iterator\n",
        "\n",
        "# for ln in [SRC_LANGUAGE, TRG_LANGUAGE]: \n",
        "#     vocab_transform[ln] = build_vocab_from_iterator(yield_tokens(train, ln), \n",
        "#                                                     min_freq=2,\n",
        "#                                                     specials=special_symbols,\n",
        "#                                                     special_first=True)\n",
        "\n",
        "# for ln in [SRC_LANGUAGE, TRG_LANGUAGE]:\n",
        "#     vocab_transform[ln].set_default_index(UNK_IDX)"
      ]
    },
    {
      "cell_type": "code",
      "execution_count": 16,
      "metadata": {
        "id": "cmq8vg9ehZzM"
      },
      "outputs": [],
      "source": [
        "# Save vocab\n",
        "# import pickle\n",
        "\n",
        "# file_path = '/content/nlp-assignments/07-Machine-Translation/vocab_transform.pkl'\n",
        "\n",
        "# with open(file_path, 'wb') as file:\n",
        "#     pickle.dump(vocab_transform, file)\n"
      ]
    },
    {
      "cell_type": "code",
      "source": [
        "# Load the saved vocab\n",
        "import pickle\n",
        "\n",
        "file_path = '/content/nlp-assignments/07-Machine-Translation/vocab_transform.pkl'\n",
        "\n",
        "with open(file_path, 'rb') as file:\n",
        "    vocab_transform = pickle.load(file)"
      ],
      "metadata": {
        "id": "EY0mDUzcUoIm"
      },
      "execution_count": 17,
      "outputs": []
    },
    {
      "cell_type": "code",
      "execution_count": 18,
      "metadata": {
        "colab": {
          "base_uri": "https://localhost:8080/"
        },
        "id": "xrd9hgXDS-oe",
        "outputId": "9976e059-fdb7-4419-c8fc-db6a96c386f5"
      },
      "outputs": [
        {
          "output_type": "stream",
          "name": "stdout",
          "text": [
            "[414, 909, 479, 0, 479]\n",
            "[978, 18, 11, 0, 11]\n"
          ]
        }
      ],
      "source": [
        "#see some examples\n",
        "print(vocab_transform[SRC_LANGUAGE](['ပြင်သစ်', 'အီတလီ', 'ကုလသမဂ္ဂ', 'ဘလာဘလာ', 'ကုလသမဂ္ဂ']))\n",
        "print(vocab_transform[TRG_LANGUAGE](['here', 'is', 'a', 'unknownword', 'a']))"
      ]
    },
    {
      "cell_type": "code",
      "execution_count": 19,
      "metadata": {
        "colab": {
          "base_uri": "https://localhost:8080/",
          "height": 35
        },
        "id": "b7ySki1PS-of",
        "outputId": "77656824-323c-4cbf-b534-516c68bcde2e"
      },
      "outputs": [
        {
          "output_type": "execute_result",
          "data": {
            "text/plain": [
              "'ကုလသမဂ္ဂ'"
            ],
            "application/vnd.google.colaboratory.intrinsic+json": {
              "type": "string"
            }
          },
          "metadata": {},
          "execution_count": 19
        }
      ],
      "source": [
        "#we can reverse it....\n",
        "mapping = vocab_transform[SRC_LANGUAGE].get_itos()\n",
        "\n",
        "mapping[479]"
      ]
    },
    {
      "cell_type": "code",
      "execution_count": 20,
      "metadata": {
        "colab": {
          "base_uri": "https://localhost:8080/",
          "height": 35
        },
        "id": "jcWkWHrTS-of",
        "outputId": "4371d5e0-5b66-45a0-890c-20a756d826e2"
      },
      "outputs": [
        {
          "output_type": "execute_result",
          "data": {
            "text/plain": [
              "'<unk>'"
            ],
            "application/vnd.google.colaboratory.intrinsic+json": {
              "type": "string"
            }
          },
          "metadata": {},
          "execution_count": 20
        }
      ],
      "source": [
        "#let's try unknown vocab\n",
        "mapping[0]"
      ]
    },
    {
      "cell_type": "code",
      "execution_count": 21,
      "metadata": {
        "colab": {
          "base_uri": "https://localhost:8080/"
        },
        "id": "TDSq3RDzS-of",
        "outputId": "88be73b9-53ca-41e0-a60f-bd655e42436f"
      },
      "outputs": [
        {
          "output_type": "execute_result",
          "data": {
            "text/plain": [
              "('<pad>', '<sos>', '<eos>')"
            ]
          },
          "metadata": {},
          "execution_count": 21
        }
      ],
      "source": [
        "#let's try special symbols\n",
        "mapping[1], mapping[2], mapping[3]"
      ]
    },
    {
      "cell_type": "code",
      "execution_count": 22,
      "metadata": {
        "colab": {
          "base_uri": "https://localhost:8080/"
        },
        "id": "CF1irvO-S-of",
        "outputId": "3b413828-2341-406b-e5a7-cadf44b3843b"
      },
      "outputs": [
        {
          "output_type": "execute_result",
          "data": {
            "text/plain": [
              "11102"
            ]
          },
          "metadata": {},
          "execution_count": 22
        }
      ],
      "source": [
        "#check unique vocabularies\n",
        "len(mapping)"
      ]
    },
    {
      "cell_type": "markdown",
      "metadata": {
        "id": "A3Z32aZgS-of",
        "tags": []
      },
      "source": [
        "## 4. Preparing Dataloaders"
      ]
    },
    {
      "cell_type": "code",
      "execution_count": 23,
      "metadata": {
        "id": "KLUEGwErS-og"
      },
      "outputs": [],
      "source": [
        "from torch.nn.utils.rnn import pad_sequence\n",
        "from torch.utils.data import DataLoader\n",
        "\n",
        "# helper function to club together sequential operations\n",
        "def sequential_transforms(*transforms):\n",
        "    def func(txt_input):\n",
        "        for transform in transforms:\n",
        "            txt_input = transform(txt_input)\n",
        "        return txt_input\n",
        "    return func\n",
        "\n",
        "# function to add BOS/EOS and create tensor for input sequence indices\n",
        "def tensor_transform(token_ids):\n",
        "    return torch.cat((torch.tensor([SOS_IDX]), \n",
        "                      torch.tensor(token_ids), \n",
        "                      torch.tensor([EOS_IDX])))\n",
        "\n",
        "# src and trg language text transforms to convert raw strings into tensors indices\n",
        "text_transform = {}\n",
        "for ln in [SRC_LANGUAGE, TRG_LANGUAGE]:\n",
        "    text_transform[ln] = sequential_transforms(token_transform[ln], #Tokenization\n",
        "                                               vocab_transform[ln], #Numericalization\n",
        "                                               tensor_transform) # Add BOS/EOS and create tensor\n",
        "\n",
        "\n",
        "# function to collate data samples into batch tesors\n",
        "def collate_batch(batch):\n",
        "    src_batch, src_len_batch, trg_batch = [], [], []\n",
        "    for src_sample, trg_sample in batch:\n",
        "        processed_text = text_transform[SRC_LANGUAGE](src_sample.rstrip(\"\\n\"))\n",
        "        src_batch.append(processed_text)\n",
        "        trg_batch.append(text_transform[TRG_LANGUAGE](trg_sample.rstrip(\"\\n\")))\n",
        "        src_len_batch.append(processed_text.size(0))\n",
        "\n",
        "    src_batch = pad_sequence(src_batch, padding_value=PAD_IDX)\n",
        "    trg_batch = pad_sequence(trg_batch, padding_value=PAD_IDX)\n",
        "    return src_batch, torch.tensor(src_len_batch, dtype=torch.int64), trg_batch"
      ]
    },
    {
      "cell_type": "code",
      "execution_count": 24,
      "metadata": {
        "id": "NWEmK5e5S-og"
      },
      "outputs": [],
      "source": [
        "# Create traning, validataion and test dataloaders\n",
        "batch_size = 8\n",
        "\n",
        "train_loader = DataLoader(train, batch_size=batch_size,\n",
        "                              shuffle=True, collate_fn=collate_batch)\n",
        "val_loader = DataLoader(val, batch_size=batch_size,\n",
        "                              shuffle=True, collate_fn=collate_batch)\n",
        "test_loader  = DataLoader(test, batch_size=batch_size,\n",
        "                             shuffle=True, collate_fn=collate_batch)"
      ]
    },
    {
      "cell_type": "code",
      "execution_count": 25,
      "metadata": {
        "colab": {
          "base_uri": "https://localhost:8080/"
        },
        "id": "wks132OvS-og",
        "outputId": "cbe8933d-0346-4bd4-ca74-179dde3afa06"
      },
      "outputs": [
        {
          "output_type": "stream",
          "name": "stdout",
          "text": [
            "Myanmar shape:  torch.Size([55, 8])\n",
            "English shape:  torch.Size([45, 8])\n"
          ]
        }
      ],
      "source": [
        "# Test the train_loader\n",
        "for my, _, en in train_loader:\n",
        "    break\n",
        "\n",
        "print(\"Myanmar shape: \", my.shape)  # (seq len, batch_size)\n",
        "print(\"English shape: \", en.shape)   # (seq len, batch_size)"
      ]
    },
    {
      "cell_type": "markdown",
      "metadata": {
        "id": "m-2e1hdCS-oh"
      },
      "source": [
        "## 5. Modeling\n",
        "\n",
        "### Encoder"
      ]
    },
    {
      "cell_type": "code",
      "execution_count": 26,
      "metadata": {
        "id": "b7PU-x03S-oh"
      },
      "outputs": [],
      "source": [
        "class Encoder(nn.Module):\n",
        "    def __init__(self, input_dim, emb_dim, hid_dim, dropout):\n",
        "        super().__init__()\n",
        "        \n",
        "        self.embedding = nn.Embedding(input_dim, emb_dim)\n",
        "        self.rnn = nn.GRU(emb_dim, hid_dim, bidirectional = True)\n",
        "        self.fc = nn.Linear(hid_dim * 2, hid_dim)\n",
        "        self.dropout = nn.Dropout(dropout)\n",
        "        \n",
        "    def forward(self, src, src_len):\n",
        "\n",
        "        embedded = self.dropout(self.embedding(src))\n",
        "\n",
        "        packed_embedded = nn.utils.rnn.pack_padded_sequence(embedded, src_len.to('cpu'), enforce_sorted=False)\n",
        "                \n",
        "        packed_outputs, hidden = self.rnn(packed_embedded)        \n",
        "\n",
        "        outputs, _ = nn.utils.rnn.pad_packed_sequence(packed_outputs) \n",
        "\n",
        "        hidden = torch.tanh(self.fc(torch.cat((hidden[-2,:,:], hidden[-1,:,:]), dim = 1)))\n",
        "        \n",
        "        return outputs, hidden"
      ]
    },
    {
      "cell_type": "markdown",
      "source": [
        "### Additive Attention"
      ],
      "metadata": {
        "id": "HJD08k1CKbtt"
      }
    },
    {
      "cell_type": "code",
      "source": [
        "class AdditiveAttention(nn.Module):\n",
        "    def __init__(self, hid_dim):\n",
        "        super().__init__()\n",
        "        \n",
        "        self.v = nn.Linear(hid_dim, 1, bias = False)\n",
        "        self.W = nn.Linear(hid_dim,     hid_dim) #for decoder\n",
        "        self.U = nn.Linear(hid_dim * 2, hid_dim) #for encoder outputs\n",
        "                \n",
        "    def forward(self, hidden, encoder_outputs, mask):\n",
        "        \n",
        "        batch_size = encoder_outputs.shape[1]\n",
        "\n",
        "        src_len = encoder_outputs.shape[0]\n",
        "\n",
        "        hidden = hidden.unsqueeze(1).repeat(1, src_len, 1)\n",
        "\n",
        "        encoder_outputs = encoder_outputs.permute(1, 0, 2)\n",
        "        \n",
        "        energy = torch.tanh(self.W(hidden) + self.U(encoder_outputs))\n",
        "        \n",
        "        attention = self.v(energy).squeeze(2)\n",
        "\n",
        "        attention = attention.masked_fill(mask, -1e10)\n",
        "        \n",
        "        return F.softmax(attention, dim = 1)"
      ],
      "metadata": {
        "id": "Pt-gzlrDB2DR"
      },
      "execution_count": 27,
      "outputs": []
    },
    {
      "cell_type": "markdown",
      "source": [
        "### Multiplicative Attention"
      ],
      "metadata": {
        "id": "uMaFFeYMB2kP"
      }
    },
    {
      "cell_type": "code",
      "source": [
        "class MultiplicativeAttention(nn.Module):\n",
        "    def __init__(self, hid_dim):\n",
        "        super().__init__()\n",
        "        \n",
        "        self.v = nn.Linear(hid_dim, 1, bias = False)\n",
        "        self.W = nn.Linear(hid_dim,     hid_dim) #for decoder\n",
        "        self.U = nn.Linear(hid_dim * 2, hid_dim) #for encoder outputs\n",
        "                \n",
        "    def forward(self, hidden, encoder_outputs, mask):\n",
        "        \n",
        "        batch_size = encoder_outputs.shape[1]\n",
        "        \n",
        "        wh = self.W(hidden).unsqueeze(1).repeat(1, 1, 2)\n",
        "\n",
        "        encoder_outputs = encoder_outputs.permute(1, 0, 2)\n",
        "        \n",
        "        energy = torch.bmm(wh, encoder_outputs.transpose(1, 2))\n",
        "        \n",
        "        attention = energy.squeeze(1)\n",
        "\n",
        "        attention = attention.masked_fill(mask, -1e10)\n",
        "        \n",
        "        return F.softmax(attention, dim = 1)"
      ],
      "metadata": {
        "id": "Lv2Yqn6UB7JL"
      },
      "execution_count": 28,
      "outputs": []
    },
    {
      "cell_type": "markdown",
      "source": [
        "### General Attention"
      ],
      "metadata": {
        "id": "Bex7kxB3Kmd0"
      }
    },
    {
      "cell_type": "code",
      "source": [
        "class GeneralAttention(nn.Module):\n",
        "    def __init__(self, hid_dim):\n",
        "        super().__init__()\n",
        "        \n",
        "        self.v = nn.Linear(hid_dim, 1, bias = False)\n",
        "        self.W = nn.Linear(hid_dim,     hid_dim) #for decoder\n",
        "        self.U = nn.Linear(hid_dim * 2, hid_dim) #for encoder outputs\n",
        "                \n",
        "    def forward(self, hidden, encoder_outputs, mask):\n",
        "        \n",
        "        batch_size = encoder_outputs.shape[1]\n",
        "\n",
        "        hidden = hidden.unsqueeze(1).repeat(1, 1, 2)\n",
        "\n",
        "        encoder_outputs = encoder_outputs.permute(1, 0, 2)\n",
        "        \n",
        "        energy = torch.bmm(hidden, encoder_outputs.transpose(1, 2))\n",
        "        \n",
        "        attention = energy.squeeze(1)\n",
        "\n",
        "        attention = attention.masked_fill(mask, -1e10)\n",
        "        \n",
        "        return F.softmax(attention, dim = 1)"
      ],
      "metadata": {
        "id": "z-C2f1hwKnDE"
      },
      "execution_count": 29,
      "outputs": []
    },
    {
      "cell_type": "markdown",
      "metadata": {
        "id": "ErC6YwDSS-oi",
        "tags": []
      },
      "source": [
        "### Decoder"
      ]
    },
    {
      "cell_type": "code",
      "execution_count": 30,
      "metadata": {
        "id": "FjjCBLMaS-oi"
      },
      "outputs": [],
      "source": [
        "class Decoder(nn.Module):\n",
        "    def __init__(self, output_dim, emb_dim, hid_dim, dropout, attention):\n",
        "        super().__init__()\n",
        "\n",
        "        self.output_dim = output_dim\n",
        "        self.attention = attention\n",
        "        self.embedding = nn.Embedding(output_dim, emb_dim)\n",
        "        self.gru = nn.GRU((hid_dim * 2) + emb_dim, hid_dim)\n",
        "        self.fc = nn.Linear((hid_dim * 2) + hid_dim + emb_dim, output_dim)\n",
        "        self.dropout = nn.Dropout(dropout)\n",
        "        \n",
        "    def forward(self, input, hidden, encoder_outputs, mask):\n",
        "      \n",
        "        input = input.unsqueeze(0)\n",
        "\n",
        "        embedded = self.dropout(self.embedding(input))\n",
        "\n",
        "        a = self.attention(hidden, encoder_outputs, mask)\n",
        "\n",
        "        a = a.unsqueeze(1)\n",
        "\n",
        "        encoder_outputs = encoder_outputs.permute(1, 0, 2)\n",
        "\n",
        "        weighted = torch.bmm(a, encoder_outputs)\n",
        "\n",
        "        weighted = weighted.permute(1, 0, 2)\n",
        "\n",
        "        rnn_input = torch.cat((embedded, weighted), dim = 2)\n",
        "   \n",
        "        output, hidden = self.gru(rnn_input, hidden.unsqueeze(0))\n",
        "\n",
        "        assert (output == hidden).all()\n",
        "        \n",
        "        embedded = embedded.squeeze(0)\n",
        "        output = output.squeeze(0)\n",
        "        weighted = weighted.squeeze(0)\n",
        "        \n",
        "        prediction = self.fc(torch.cat((output, weighted, embedded), dim = 1))\n",
        "        \n",
        "        return prediction, hidden.squeeze(0), a.squeeze(1)"
      ]
    },
    {
      "cell_type": "markdown",
      "metadata": {
        "id": "Afov6lRGS-oi"
      },
      "source": [
        "### Seq2Seq"
      ]
    },
    {
      "cell_type": "code",
      "execution_count": 31,
      "metadata": {
        "id": "98fVboXCS-oi"
      },
      "outputs": [],
      "source": [
        "class Seq2Seq(nn.Module):\n",
        "    def __init__(self, encoder, decoder, src_pad_idx, device):\n",
        "        super().__init__()\n",
        "        \n",
        "        self.encoder = encoder\n",
        "        self.decoder = decoder\n",
        "        self.src_pad_idx = src_pad_idx\n",
        "        self.device = device\n",
        "        \n",
        "    def create_mask(self, src):\n",
        "        mask = (src == self.src_pad_idx).permute(1, 0)\n",
        "        return mask\n",
        "        \n",
        "    def forward(self, src, src_len, trg, teacher_forcing_ratio = 0.5):\n",
        "                    \n",
        "        batch_size = src.shape[1]\n",
        "        trg_len = trg.shape[0]\n",
        "        trg_vocab_size = self.decoder.output_dim\n",
        "\n",
        "        outputs = torch.zeros(trg_len, batch_size, trg_vocab_size).to(self.device)\n",
        "\n",
        "        attentions = torch.zeros(trg_len, batch_size, src.shape[0]).to(self.device)\n",
        "\n",
        "        encoder_outputs, hidden = self.encoder(src, src_len)\n",
        "\n",
        "        input_ = trg[0,:]\n",
        "        \n",
        "        mask = self.create_mask(src)\n",
        "                \n",
        "        for t in range(1, trg_len):\n",
        "\n",
        "            output, hidden, attention = self.decoder(input_, hidden, encoder_outputs, mask)\n",
        "\n",
        "            outputs[t] = output\n",
        "\n",
        "            attentions[t] = attention\n",
        "\n",
        "            teacher_force = random.random() < teacher_forcing_ratio\n",
        "\n",
        "            top1 = output.argmax(1) \n",
        "\n",
        "            input_ = trg[t] if teacher_force else top1\n",
        "            \n",
        "        return outputs, attentions"
      ]
    },
    {
      "cell_type": "markdown",
      "metadata": {
        "id": "LshZSBUvS-oi",
        "tags": []
      },
      "source": [
        "## 6. Training\n",
        "\n",
        "### Additive Attention"
      ]
    },
    {
      "cell_type": "code",
      "execution_count": 32,
      "metadata": {
        "id": "484hkCNAS-oj"
      },
      "outputs": [],
      "source": [
        "def initialize_weights(m):\n",
        "    for name, param in m.named_parameters():\n",
        "        if 'weight' in name:\n",
        "            nn.init.normal_(param.data, mean=0, std=0.01)\n",
        "        else:\n",
        "            nn.init.constant_(param.data, 0)"
      ]
    },
    {
      "cell_type": "code",
      "execution_count": 33,
      "metadata": {
        "id": "jsLA4FuaS-oj"
      },
      "outputs": [],
      "source": [
        "# Set hyperparameters\n",
        "input_dim   = len(vocab_transform[SRC_LANGUAGE])\n",
        "output_dim  = len(vocab_transform[TRG_LANGUAGE])\n",
        "emb_dim     = 64  \n",
        "hid_dim     = 128  \n",
        "dropout     = 0.5\n",
        "lr          = 0.001"
      ]
    },
    {
      "cell_type": "code",
      "source": [
        "# Initialize the model\n",
        "attn = AdditiveAttention(hid_dim)\n",
        "enc  = Encoder(input_dim,  emb_dim,  hid_dim, dropout)\n",
        "dec  = Decoder(output_dim, emb_dim,  hid_dim, dropout, attn)\n",
        "\n",
        "SRC_PAD_IDX = PAD_IDX\n",
        "\n",
        "model = Seq2Seq(enc, dec, SRC_PAD_IDX, device).to(device)\n",
        "model.apply(initialize_weights)"
      ],
      "metadata": {
        "id": "c_9vO613MUus",
        "outputId": "9d6b50c2-742b-4fb5-8f0b-c59783de676a",
        "colab": {
          "base_uri": "https://localhost:8080/"
        }
      },
      "execution_count": 34,
      "outputs": [
        {
          "output_type": "execute_result",
          "data": {
            "text/plain": [
              "Seq2Seq(\n",
              "  (encoder): Encoder(\n",
              "    (embedding): Embedding(11102, 64)\n",
              "    (rnn): GRU(64, 128, bidirectional=True)\n",
              "    (fc): Linear(in_features=256, out_features=128, bias=True)\n",
              "    (dropout): Dropout(p=0.5, inplace=False)\n",
              "  )\n",
              "  (decoder): Decoder(\n",
              "    (attention): AdditiveAttention(\n",
              "      (v): Linear(in_features=128, out_features=1, bias=False)\n",
              "      (W): Linear(in_features=128, out_features=128, bias=True)\n",
              "      (U): Linear(in_features=256, out_features=128, bias=True)\n",
              "    )\n",
              "    (embedding): Embedding(14382, 64)\n",
              "    (gru): GRU(320, 128)\n",
              "    (fc): Linear(in_features=448, out_features=14382, bias=True)\n",
              "    (dropout): Dropout(p=0.5, inplace=False)\n",
              "  )\n",
              ")"
            ]
          },
          "metadata": {},
          "execution_count": 34
        }
      ]
    },
    {
      "cell_type": "code",
      "execution_count": 35,
      "metadata": {
        "colab": {
          "base_uri": "https://localhost:8080/"
        },
        "id": "3bhEGnmoS-oj",
        "outputId": "7e78e022-f5d0-4fb7-fdee-1076a029c92a"
      },
      "outputs": [
        {
          "output_type": "stream",
          "name": "stdout",
          "text": [
            "710528\n",
            " 24576\n",
            " 49152\n",
            "   384\n",
            "   384\n",
            " 24576\n",
            " 49152\n",
            "   384\n",
            "   384\n",
            " 32768\n",
            "   128\n",
            "   128\n",
            " 16384\n",
            "   128\n",
            " 32768\n",
            "   128\n",
            "920448\n",
            "122880\n",
            " 49152\n",
            "   384\n",
            "   384\n",
            "6443136\n",
            " 14382\n",
            "______\n",
            "8492718\n"
          ]
        }
      ],
      "source": [
        "# Print the number of model parameters\n",
        "def count_parameters(model):\n",
        "    params = [p.numel() for p in model.parameters() if p.requires_grad]\n",
        "    for item in params:\n",
        "        print(f'{item:>6}')\n",
        "    print(f'______\\n{sum(params):>6}')\n",
        "    \n",
        "count_parameters(model)"
      ]
    },
    {
      "cell_type": "code",
      "source": [
        "# Loss and optimizer\n",
        "import torch.optim as optim\n",
        "\n",
        "optimizer = optim.Adam(model.parameters(), lr=lr)\n",
        "criterion = nn.CrossEntropyLoss(ignore_index = PAD_IDX)"
      ],
      "metadata": {
        "id": "97UvEGT6LzGO"
      },
      "execution_count": 36,
      "outputs": []
    },
    {
      "cell_type": "code",
      "execution_count": 37,
      "metadata": {
        "id": "S61OnhqSS-oj"
      },
      "outputs": [],
      "source": [
        "# Create the function for training\n",
        "def train(model, loader, optimizer, criterion, clip, loader_length):\n",
        "    \n",
        "    model.train()\n",
        "    epoch_loss = 0\n",
        "    \n",
        "    for src, src_length, trg in loader:\n",
        "        \n",
        "        src = src.to(device)\n",
        "        trg = trg.to(device)\n",
        "        \n",
        "        optimizer.zero_grad()\n",
        "        \n",
        "        output, attentions = model(src, src_length, trg)\n",
        "        \n",
        "        #trg    = [trg len, batch size]\n",
        "        #output = [trg len, batch size, output dim]\n",
        "        output_dim = output.shape[-1]\n",
        "        \n",
        "        #the loss function only works on 2d inputs with 1d targets thus we need to flatten each of them\n",
        "        output = output[1:].view(-1, output_dim)\n",
        "        trg    = trg[1:].view(-1)\n",
        "        #trg    = [(trg len - 1) * batch size]\n",
        "        #output = [(trg len - 1) * batch size, output dim]\n",
        "        \n",
        "        loss = criterion(output, trg)\n",
        "        \n",
        "        loss.backward()\n",
        "        \n",
        "        #clip the gradients to prevent them from exploding (a common issue in RNNs)\n",
        "        torch.nn.utils.clip_grad_norm_(model.parameters(), clip)\n",
        "        \n",
        "        optimizer.step()\n",
        "        \n",
        "        epoch_loss += loss.item()\n",
        "        \n",
        "    return epoch_loss / loader_length"
      ]
    },
    {
      "cell_type": "code",
      "execution_count": 38,
      "metadata": {
        "id": "up78lf8nS-ok"
      },
      "outputs": [],
      "source": [
        "# Create the function for evaluation\n",
        "def evaluate(model, loader, criterion, loader_length):\n",
        "        \n",
        "    #turn off dropout (and batch norm if used)\n",
        "    model.eval()\n",
        "    \n",
        "    epoch_loss = 0\n",
        "    \n",
        "    with torch.no_grad():\n",
        "    \n",
        "        for src, src_length, trg in loader:\n",
        "        \n",
        "            src = src.to(device)\n",
        "            trg = trg.to(device)\n",
        "\n",
        "            output, attentions = model(src, src_length, trg, 0) #turn off teacher forcing\n",
        "\n",
        "            #trg    = [trg len, batch size]\n",
        "            #output = [trg len, batch size, output dim]\n",
        "\n",
        "            output_dim = output.shape[-1]\n",
        "            \n",
        "            output = output[1:].view(-1, output_dim)\n",
        "            trg = trg[1:].view(-1)\n",
        "\n",
        "            #trg    = [(trg len - 1) * batch size]\n",
        "            #output = [(trg len - 1) * batch size, output dim]\n",
        "\n",
        "            loss = criterion(output, trg)\n",
        "            \n",
        "            epoch_loss += loss.item()\n",
        "        \n",
        "    return epoch_loss / loader_length"
      ]
    },
    {
      "cell_type": "code",
      "execution_count": 39,
      "metadata": {
        "id": "s_gNRrfaS-ok"
      },
      "outputs": [],
      "source": [
        "# Find the lengths of the dataloaders\n",
        "# train_loader_length = len(list(iter(train_loader)))\n",
        "# val_loader_length   = len(list(iter(val_loader)))\n",
        "# test_loader_length  = len(list(iter(test_loader)))\n",
        "\n",
        "train_loader_length = 1677\n",
        "val_loader_length   = 240\n",
        "test_loader_length  = 480"
      ]
    },
    {
      "cell_type": "code",
      "execution_count": 42,
      "metadata": {
        "id": "Hb4O0uXLS-ok"
      },
      "outputs": [],
      "source": [
        "# Create the function to calculate training epoch time\n",
        "def epoch_time(start_time, end_time):\n",
        "    elapsed_time = end_time - start_time\n",
        "    elapsed_mins = int(elapsed_time / 60)\n",
        "    elapsed_secs = int(elapsed_time - (elapsed_mins * 60))\n",
        "    return elapsed_mins, elapsed_secs"
      ]
    },
    {
      "cell_type": "code",
      "execution_count": 43,
      "metadata": {
        "id": "gcbCauL7Q-pX"
      },
      "outputs": [],
      "source": [
        "# Create the folder to save models\n",
        "import os\n",
        "from os import path\n",
        "\n",
        "if path.exists('./models') == False:\n",
        "  os.mkdir('./models')"
      ]
    },
    {
      "cell_type": "code",
      "execution_count": 44,
      "metadata": {
        "colab": {
          "base_uri": "https://localhost:8080/"
        },
        "id": "2k9QRbqYS-ok",
        "outputId": "154537d5-ec1a-4ce8-8188-073069e81acf"
      },
      "outputs": [
        {
          "output_type": "stream",
          "name": "stdout",
          "text": [
            "Epoch: 01 | Time: 4m 32s\n",
            "\tTrain Loss: 6.558 | Train PPL: 704.741\n",
            "\t Val. Loss: 6.516 |  Val. PPL: 675.623\n",
            "Epoch: 02 | Time: 4m 31s\n",
            "\tTrain Loss: 6.064 | Train PPL: 430.149\n",
            "\t Val. Loss: 6.400 |  Val. PPL: 601.620\n",
            "Epoch: 03 | Time: 4m 35s\n",
            "\tTrain Loss: 5.767 | Train PPL: 319.717\n",
            "\t Val. Loss: 6.275 |  Val. PPL: 531.047\n",
            "Epoch: 04 | Time: 4m 32s\n",
            "\tTrain Loss: 5.510 | Train PPL: 247.266\n",
            "\t Val. Loss: 6.181 |  Val. PPL: 483.625\n",
            "Epoch: 05 | Time: 4m 30s\n",
            "\tTrain Loss: 5.268 | Train PPL: 194.119\n",
            "\t Val. Loss: 6.143 |  Val. PPL: 465.300\n"
          ]
        }
      ],
      "source": [
        "# Train the model\n",
        "best_val_loss = float('inf')\n",
        "num_epochs = 5\n",
        "clip       = 1\n",
        "\n",
        "save_path = f'./models/Additive{model.__class__.__name__}.pt'\n",
        "\n",
        "train_losses = []\n",
        "val_losses   = []\n",
        "\n",
        "for epoch in range(num_epochs):\n",
        "    \n",
        "    start_time = time.time()\n",
        "\n",
        "    train_loss = train(model, train_loader, optimizer, criterion, clip, train_loader_length)\n",
        "    val_loss   = evaluate(model, val_loader, criterion, val_loader_length)\n",
        "    \n",
        "    #for plotting\n",
        "    train_losses.append(train_loss)\n",
        "    val_losses.append(val_loss)\n",
        "    \n",
        "    end_time = time.time()\n",
        "    \n",
        "    epoch_mins, epoch_secs = epoch_time(start_time, end_time)\n",
        "\n",
        "    \n",
        "    if val_loss < best_val_loss:\n",
        "        best_val_loss = val_loss\n",
        "        torch.save(model.state_dict(), save_path)\n",
        "    \n",
        "    print(f'Epoch: {epoch+1:02} | Time: {epoch_mins}m {epoch_secs}s')\n",
        "    print(f'\\tTrain Loss: {train_loss:.3f} | Train PPL: {math.exp(train_loss):7.3f}')\n",
        "    print(f'\\t Val. Loss: {val_loss:.3f} |  Val. PPL: {math.exp(val_loss):7.3f}')\n",
        "    \n",
        "    #lower perplexity is better"
      ]
    },
    {
      "cell_type": "code",
      "execution_count": 45,
      "metadata": {
        "colab": {
          "base_uri": "https://localhost:8080/",
          "height": 243
        },
        "id": "-I-m_G2yS-ol",
        "outputId": "0e1c2fcf-d23d-4fed-f6ba-111a5f058cbb"
      },
      "outputs": [
        {
          "output_type": "execute_result",
          "data": {
            "text/plain": [
              "Text(0, 0.5, 'loss')"
            ]
          },
          "metadata": {},
          "execution_count": 45
        },
        {
          "output_type": "display_data",
          "data": {
            "text/plain": [
              "<Figure size 360x216 with 1 Axes>"
            ],
            "image/png": "[encoded data removed]"
          },
          "metadata": {
            "needs_background": "light"
          }
        }
      ],
      "source": [
        "import matplotlib.pyplot as plt\n",
        "fig = plt.figure(figsize=(5, 3))\n",
        "ax = fig.add_subplot(1, 1, 1)\n",
        "ax.plot(train_losses, label = 'train loss')\n",
        "ax.plot(val_losses, label = 'val loss')\n",
        "plt.legend()\n",
        "ax.set_xlabel('updates')\n",
        "ax.set_ylabel('loss')"
      ]
    },
    {
      "cell_type": "code",
      "execution_count": 46,
      "metadata": {
        "colab": {
          "base_uri": "https://localhost:8080/"
        },
        "id": "_3cAom0rS-ol",
        "outputId": "a68f36f1-0be3-4bb4-c675-445678af6bf7"
      },
      "outputs": [
        {
          "output_type": "stream",
          "name": "stdout",
          "text": [
            "| Test Loss: 6.142 | Test PPL: 464.772 |\n"
          ]
        }
      ],
      "source": [
        "# Evaluate the model with the test set\n",
        "model.load_state_dict(torch.load(save_path))\n",
        "test_loss = evaluate(model, test_loader, criterion, test_loader_length)\n",
        "\n",
        "print(f'| Test Loss: {test_loss:.3f} | Test PPL: {math.exp(test_loss):7.3f} |')"
      ]
    },
    {
      "cell_type": "markdown",
      "metadata": {
        "id": "R45qd6XVS-ol"
      },
      "source": [
        "## 7. Testing on Random Samples"
      ]
    },
    {
      "cell_type": "code",
      "execution_count": 47,
      "metadata": {
        "id": "od9K4YAqS-ol"
      },
      "outputs": [],
      "source": [
        "sample = corpus[0]"
      ]
    },
    {
      "cell_type": "code",
      "execution_count": 48,
      "metadata": {
        "colab": {
          "base_uri": "https://localhost:8080/"
        },
        "id": "G3fNPlwMS-ol",
        "outputId": "23c048f2-f4fc-4399-ea30-61237b38b261"
      },
      "outputs": [
        {
          "output_type": "execute_result",
          "data": {
            "text/plain": [
              "('၂၀၀၅ ခုနှစ် ၊ မတ်လ ၂၂ ရက် ကြာသပတေးနေ့ တွင် ၊ လပ် ဗေးဂက်စ် မှ အမျိုးသမီး တစ်ဦး ဖြစ်သော ၊ အန်န အရလ သည် ၊ ဖရက်နိုဘေ့စ် ဂျန် မန်းနစ်ရှ်မက် မှ ပိုင်ဆိုင်သော ၊ ကယ်လီဖိုးနီးယားပြည်နယ် ၊ စံဂျိုး မြို့လယ် ၏ တောင်ဘက် တည့်တည့် ရှိ ၊ ၁၄၀၅ မွန်တရေး အမြန်လမ်း တွင် တည်ရှိသော ဝမ်းဒီစ် စားသောက်ဆိုင် တစ်ဆိုင် တွင် သူမ ၏ ငရုတ်ဆီ ပန်းကန် ထဲမှ လူ ၏ လက်ချောင်း တစ်ခု တွေ့ရှိခဲ့ ကြောင်း အခိုင်အမာပြောဆိုခဲ့သည် ။',\n",
              " \"On Thursday the 22nd of March, 2005, Anna Ayala, a woman from Las Vegas, claimed to have found a human finger in her bowl of chili at a Wendy's restaurant located at 1405 Monterey Highway, just south of downtown San Jose, California, owned by Fresno-based Jern Management..\")"
            ]
          },
          "metadata": {},
          "execution_count": 48
        }
      ],
      "source": [
        "sample[0], sample[1]"
      ]
    },
    {
      "cell_type": "code",
      "execution_count": 49,
      "metadata": {
        "colab": {
          "base_uri": "https://localhost:8080/"
        },
        "id": "XdBQD-zOS-ol",
        "outputId": "7462f16e-7f54-42c2-8a47-1214ca0df4c7"
      },
      "outputs": [
        {
          "output_type": "execute_result",
          "data": {
            "text/plain": [
              "tensor([   2,  749,   60,    7,  428,   62,  998,  121,  531,   56,   14,    7,\n",
              "        9639,    0,   25,  283,   15,   81,   19,   10,    7,    0,   89,   62,\n",
              "           4,    7,    0,   25,  485,   10,    7,  800,  134,    7,    0,  110,\n",
              "        3054,   11,  157,  108, 4977, 4977,   18,    7,    0,    0, 6978,   14,\n",
              "         458,   10,    0,   15,  192,   14,  141,   11,    0,   85,   25,   91,\n",
              "          11,    0,   15,   20,  113,   18,    5,   75,  384,  130,    5,    4,\n",
              "           8,    3], device='cuda:0')"
            ]
          },
          "metadata": {},
          "execution_count": 49
        }
      ],
      "source": [
        "src_text = text_transform[SRC_LANGUAGE](sample[0]).to(device)\n",
        "src_text"
      ]
    },
    {
      "cell_type": "code",
      "execution_count": 50,
      "metadata": {
        "colab": {
          "base_uri": "https://localhost:8080/"
        },
        "id": "ZTGMrxL-S-om",
        "outputId": "2b0988e4-858f-4bc9-c953-8175f32925fa"
      },
      "outputs": [
        {
          "output_type": "execute_result",
          "data": {
            "text/plain": [
              "tensor([    2,   223,   244,     4,  6822,     7,   305,     5,   299,     5,\n",
              "         3273,     0,     5,    11,   674,    25, 11423,     0,     5,   376,\n",
              "            8,    24,   117,    11,   570, 13079,    10,    83,  9213,     7,\n",
              "            0,    26,    11,     0,    20,  5728,   629,    26,     0,     0,\n",
              "         4675,     5,   139,  1203,     7,  3147,   663,  3306,     5,   525,\n",
              "            5,  1036,    21,     0,    17,   291,     0,  3310,  8105,     3],\n",
              "       device='cuda:0')"
            ]
          },
          "metadata": {},
          "execution_count": 50
        }
      ],
      "source": [
        "trg_text = text_transform[TRG_LANGUAGE](sample[1]).to(device)\n",
        "trg_text"
      ]
    },
    {
      "cell_type": "code",
      "execution_count": 51,
      "metadata": {
        "id": "ETmtpNP7S-om"
      },
      "outputs": [],
      "source": [
        "src_text = src_text.reshape(-1, 1)  #because batch_size is 1"
      ]
    },
    {
      "cell_type": "code",
      "execution_count": 52,
      "metadata": {
        "id": "O05tDi5hS-om"
      },
      "outputs": [],
      "source": [
        "trg_text = trg_text.reshape(-1, 1)"
      ]
    },
    {
      "cell_type": "code",
      "execution_count": 53,
      "metadata": {
        "colab": {
          "base_uri": "https://localhost:8080/"
        },
        "id": "M_KNr2gMS-om",
        "outputId": "3a8ed71d-4202-4f66-862b-f668aa323b45"
      },
      "outputs": [
        {
          "output_type": "execute_result",
          "data": {
            "text/plain": [
              "(torch.Size([74, 1]), torch.Size([60, 1]))"
            ]
          },
          "metadata": {},
          "execution_count": 53
        }
      ],
      "source": [
        "src_text.shape, trg_text.shape"
      ]
    },
    {
      "cell_type": "code",
      "execution_count": 54,
      "metadata": {
        "id": "2cB-LlnHS-om"
      },
      "outputs": [],
      "source": [
        "text_length = torch.tensor([src_text.size(0)]).to(dtype=torch.int64)"
      ]
    },
    {
      "cell_type": "code",
      "execution_count": 55,
      "metadata": {
        "id": "QycUn8YiS-om"
      },
      "outputs": [],
      "source": [
        "model.load_state_dict(torch.load(save_path))\n",
        "\n",
        "model.eval()\n",
        "with torch.no_grad():\n",
        "    output, attentions = model(src_text, text_length, trg_text, 0) #turn off teacher forcing"
      ]
    },
    {
      "cell_type": "code",
      "execution_count": 56,
      "metadata": {
        "colab": {
          "base_uri": "https://localhost:8080/"
        },
        "id": "6fA-83RuS-om",
        "outputId": "ac9ccdc8-6a19-4093-9745-68a185e93ba2"
      },
      "outputs": [
        {
          "output_type": "execute_result",
          "data": {
            "text/plain": [
              "torch.Size([60, 1, 14382])"
            ]
          },
          "metadata": {},
          "execution_count": 56
        }
      ],
      "source": [
        "output.shape #trg_len, batch_size, trg_output_dim"
      ]
    },
    {
      "cell_type": "markdown",
      "metadata": {
        "id": "qrouCUaq2U40"
      },
      "source": [
        "Since batch size is 1, we just take off that dimension"
      ]
    },
    {
      "cell_type": "code",
      "execution_count": 57,
      "metadata": {
        "id": "6mODv39xS-on"
      },
      "outputs": [],
      "source": [
        "output = output.squeeze(1)"
      ]
    },
    {
      "cell_type": "code",
      "execution_count": 58,
      "metadata": {
        "colab": {
          "base_uri": "https://localhost:8080/"
        },
        "id": "j-ksFyJnS-on",
        "outputId": "70d40912-fc73-4b8c-ac49-0916b2b7bac3"
      },
      "outputs": [
        {
          "output_type": "execute_result",
          "data": {
            "text/plain": [
              "torch.Size([60, 14382])"
            ]
          },
          "metadata": {},
          "execution_count": 58
        }
      ],
      "source": [
        "output.shape"
      ]
    },
    {
      "cell_type": "markdown",
      "metadata": {
        "id": "0nywvdJ72fed"
      },
      "source": [
        "We shall remove the first token since it's zeroes anyway"
      ]
    },
    {
      "cell_type": "code",
      "execution_count": 59,
      "metadata": {
        "colab": {
          "base_uri": "https://localhost:8080/"
        },
        "id": "ciAz2R-CS-on",
        "outputId": "25d9a45f-6072-428e-93be-301563753f28"
      },
      "outputs": [
        {
          "output_type": "execute_result",
          "data": {
            "text/plain": [
              "torch.Size([59, 14382])"
            ]
          },
          "metadata": {},
          "execution_count": 59
        }
      ],
      "source": [
        "output = output[1:]\n",
        "output.shape #trg_len, trg_output_dim"
      ]
    },
    {
      "cell_type": "markdown",
      "metadata": {
        "id": "u-a5TlSh2oyp"
      },
      "source": [
        "Then we just take the top token with highest probabilities"
      ]
    },
    {
      "cell_type": "code",
      "execution_count": 60,
      "metadata": {
        "id": "WfdvvDofS-on"
      },
      "outputs": [],
      "source": [
        "output_max = output.argmax(1) #returns max indices"
      ]
    },
    {
      "cell_type": "code",
      "execution_count": 61,
      "metadata": {
        "colab": {
          "base_uri": "https://localhost:8080/"
        },
        "id": "Wm_i1iZGS-on",
        "outputId": "65b68dd7-e021-4c57-93ea-cfc7934a62bf"
      },
      "outputs": [
        {
          "output_type": "execute_result",
          "data": {
            "text/plain": [
              "tensor([14,  5,  5,  5,  5,  5,  5,  5,  5,  5,  5,  5,  0,  5,  0,  5,  0,  5,\n",
              "         0,  5,  0,  5,  0,  0,  5,  0,  0,  0,  0,  0,  0,  0,  0,  0,  0,  0,\n",
              "         0,  0,  0,  0,  0,  0,  0,  0,  0,  0,  0,  0,  0,  0,  0,  0,  6,  3,\n",
              "         3,  0,  6,  3,  3], device='cuda:0')"
            ]
          },
          "metadata": {},
          "execution_count": 61
        }
      ],
      "source": [
        "output_max"
      ]
    },
    {
      "cell_type": "markdown",
      "metadata": {
        "id": "JyMePvyN2vGA"
      },
      "source": [
        "Get the mapping of the target language"
      ]
    },
    {
      "cell_type": "code",
      "execution_count": 62,
      "metadata": {
        "id": "kFzeKwMuS-on"
      },
      "outputs": [],
      "source": [
        "mapping = vocab_transform[TRG_LANGUAGE].get_itos()"
      ]
    },
    {
      "cell_type": "code",
      "execution_count": 63,
      "metadata": {
        "colab": {
          "base_uri": "https://localhost:8080/"
        },
        "id": "aTu91y3PS-oo",
        "outputId": "0e9c8413-e161-4d72-a36c-b44485ed784a"
      },
      "outputs": [
        {
          "output_type": "stream",
          "name": "stdout",
          "text": [
            "The\n",
            ",\n",
            ",\n",
            ",\n",
            ",\n",
            ",\n",
            ",\n",
            ",\n",
            ",\n",
            ",\n",
            ",\n",
            ",\n",
            "<unk>\n",
            ",\n",
            "<unk>\n",
            ",\n",
            "<unk>\n",
            ",\n",
            "<unk>\n",
            ",\n",
            "<unk>\n",
            ",\n",
            "<unk>\n",
            "<unk>\n",
            ",\n",
            "<unk>\n",
            "<unk>\n",
            "<unk>\n",
            "<unk>\n",
            "<unk>\n",
            "<unk>\n",
            "<unk>\n",
            "<unk>\n",
            "<unk>\n",
            "<unk>\n",
            "<unk>\n",
            "<unk>\n",
            "<unk>\n",
            "<unk>\n",
            "<unk>\n",
            "<unk>\n",
            "<unk>\n",
            "<unk>\n",
            "<unk>\n",
            "<unk>\n",
            "<unk>\n",
            "<unk>\n",
            "<unk>\n",
            "<unk>\n",
            "<unk>\n",
            "<unk>\n",
            "<unk>\n",
            ".\n",
            "<eos>\n",
            "<eos>\n",
            "<unk>\n",
            ".\n",
            "<eos>\n",
            "<eos>\n"
          ]
        }
      ],
      "source": [
        "for token in output_max:\n",
        "    print(mapping[token.item()])"
      ]
    },
    {
      "cell_type": "markdown",
      "metadata": {
        "id": "jPDUHyJLS-oo"
      },
      "source": [
        "## 8. Attention\n",
        "\n",
        "Let's display the attentions to understand how the source text links with the generated text"
      ]
    },
    {
      "cell_type": "code",
      "execution_count": null,
      "metadata": {
        "id": "_LJKWXNyS-oo",
        "outputId": "fd4e761b-09ef-4e66-91aa-ecb37366d58c",
        "colab": {
          "base_uri": "https://localhost:8080/"
        }
      },
      "outputs": [
        {
          "output_type": "execute_result",
          "data": {
            "text/plain": [
              "torch.Size([19, 1, 24])"
            ]
          },
          "metadata": {},
          "execution_count": 71
        }
      ],
      "source": [
        "attentions.shape"
      ]
    },
    {
      "cell_type": "code",
      "execution_count": null,
      "metadata": {
        "id": "BD4v2bHNS-oo",
        "outputId": "08f3072a-f28e-4b97-c7f6-a03c2a7c3714",
        "colab": {
          "base_uri": "https://localhost:8080/"
        }
      },
      "outputs": [
        {
          "output_type": "execute_result",
          "data": {
            "text/plain": [
              "['<sos>',\n",
              " 'အမေရိကန်',\n",
              " 'နှင့်',\n",
              " 'ဩစတေးလျ',\n",
              " 'တွင်',\n",
              " 'တက်ကြွ',\n",
              " 'သော',\n",
              " 'ရုံး',\n",
              " 'ခွဲ',\n",
              " 'များ',\n",
              " 'နှင့်',\n",
              " 'နယူးဇီလန်',\n",
              " 'တွင်',\n",
              " 'အဖွဲ့',\n",
              " 'ဝင်',\n",
              " 'များ',\n",
              " 'မှာ',\n",
              " '၂၀၀၀',\n",
              " 'နီးပါး',\n",
              " 'ရှိ',\n",
              " 'ပါ',\n",
              " 'သည်',\n",
              " '။',\n",
              " '<eos>']"
            ]
          },
          "metadata": {},
          "execution_count": 72
        }
      ],
      "source": [
        "src_tokens = ['<sos>'] + token_transform[SRC_LANGUAGE](sample[0]) + ['<eos>']\n",
        "src_tokens"
      ]
    },
    {
      "cell_type": "code",
      "execution_count": null,
      "metadata": {
        "id": "wBwZORT9S-oo"
      },
      "outputs": [],
      "source": [
        "trg_tokens = ['<sos>'] + [mapping[token.item()] for token in output_max]\n",
        "trg_tokens"
      ]
    },
    {
      "cell_type": "code",
      "execution_count": null,
      "metadata": {
        "id": "-MkeMlx1S-oo"
      },
      "outputs": [],
      "source": [
        "import matplotlib.ticker as ticker\n",
        "\n",
        "def display_attention(sentence, translation, attention):\n",
        "    \n",
        "    fig = plt.figure(figsize=(10,10))\n",
        "    ax = fig.add_subplot(111)\n",
        "    \n",
        "    attention = attention.squeeze(1).cpu().detach().numpy()\n",
        "    \n",
        "    cax = ax.matshow(attention, cmap='bone')\n",
        "   \n",
        "    ax.tick_params(labelsize=10)\n",
        "    \n",
        "    y_ticks =  [''] + translation\n",
        "    x_ticks =  [''] + sentence \n",
        "     \n",
        "    ax.set_xticklabels(x_ticks, rotation=45)\n",
        "    ax.set_yticklabels(y_ticks)\n",
        "\n",
        "    ax.xaxis.set_major_locator(ticker.MultipleLocator(1))\n",
        "    ax.yaxis.set_major_locator(ticker.MultipleLocator(1))\n",
        "\n",
        "    plt.show()\n",
        "    plt.close()"
      ]
    },
    {
      "cell_type": "code",
      "execution_count": null,
      "metadata": {
        "id": "Mflor_QqS-oo",
        "outputId": "e27937ac-b7d8-416b-b246-a0ac7aff3a84"
      },
      "outputs": [
        {
          "name": "stderr",
          "output_type": "stream",
          "text": [
            "/tmp/ipykernel_2592381/59549304.py:17: UserWarning: FixedFormatter should only be used together with FixedLocator\n",
            "  ax.set_xticklabels(x_ticks, rotation=45)\n",
            "/tmp/ipykernel_2592381/59549304.py:18: UserWarning: FixedFormatter should only be used together with FixedLocator\n",
            "  ax.set_yticklabels(y_ticks)\n"
          ]
        },
        {
          "data": {
            "image/png": "[encoded data removed]",
            "text/plain": [
              "<Figure size 1000x1000 with 1 Axes>"
            ]
          },
          "metadata": {},
          "output_type": "display_data"
        }
      ],
      "source": [
        "display_attention(src_tokens, trg_tokens, attentions)"
      ]
    },
    {
      "cell_type": "markdown",
      "metadata": {
        "id": "CxQp1fJGS-op"
      },
      "source": [
        "## Conclusion\n",
        "\n",
        "Nice!  We get the similar perplexity but with much faster computations, thanks to packed sequences and masking.   We also can see attention by our eyes, so we should believe it now!"
      ]
    }
  ],
  "metadata": {
    "colab": {
      "provenance": [],
      "include_colab_link": true
    },
    "gpuClass": "standard",
    "kernelspec": {
      "display_name": "dsai",
      "language": "python",
      "name": "python3"
    },
    "language_info": {
      "codemirror_mode": {
        "name": "ipython",
        "version": 3
      },
      "file_extension": ".py",
      "mimetype": "text/x-python",
      "name": "python",
      "nbconvert_exporter": "python",
      "pygments_lexer": "ipython3",
      "version": "3.7.2"
    },
    "vscode": {
      "interpreter": {
        "hash": "0f2c79af21be9d001248940c049b6176cf8bfb45cabf7aa85848f5cea0f590f6"
      }
    },
    "accelerator": "GPU"
  },
  "nbformat": 4,
  "nbformat_minor": 0
}